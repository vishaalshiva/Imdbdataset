{
 "cells": [
  {
   "cell_type": "code",
   "execution_count": 28,
   "id": "7df42b6d",
   "metadata": {},
   "outputs": [],
   "source": [
    "# Import Packages\n",
    "#########################################################################################################################\n",
    "import pandas as pd, numpy as np\n",
    "from sqlalchemy import create_engine, MetaData, Table, select\n",
    "import os, time\n",
    "import math\n",
    "from sklearn.preprocessing import LabelEncoder\n",
    "from sklearn.preprocessing import OneHotEncoder\n",
    "from datetime import datetime\n",
    "from sklearn.model_selection import GridSearchCV, train_test_split, RandomizedSearchCV\n",
    "from sklearn.metrics import roc_auc_score\n",
    "from scipy import sparse\n",
    "import matplotlib.pyplot as plt\n",
    "from sklearn.utils import shuffle\n",
    "from matplotlib import pyplot\n",
    "from sklearn.model_selection import KFold\n",
    "from sklearn.model_selection import cross_val_score\n",
    "from sklearn.metrics import roc_curve, auc, confusion_matrix\n",
    "from sklearn.preprocessing import StandardScaler\n",
    "import seaborn as sns"
   ]
  },
  {
   "cell_type": "code",
   "execution_count": 68,
   "id": "297c2d0c",
   "metadata": {},
   "outputs": [
    {
     "name": "stderr",
     "output_type": "stream",
     "text": [
      "/opt/anaconda3/lib/python3.9/site-packages/IPython/core/interactiveshell.py:3444: DtypeWarning: Columns (11) have mixed types.Specify dtype option on import or set low_memory=False.\n",
      "  exec(code_obj, self.user_global_ns, self.user_ns)\n"
     ]
    }
   ],
   "source": [
    "df = pd.read_csv('data.csv')"
   ]
  },
  {
   "cell_type": "markdown",
   "id": "e79ec50e",
   "metadata": {},
   "source": [
    "#### Before Analyzing lets start by deduping the data set"
   ]
  },
  {
   "cell_type": "code",
   "execution_count": 69,
   "id": "d411c313",
   "metadata": {},
   "outputs": [],
   "source": [
    "df = df.drop(['Unnamed: 0'], axis=1)"
   ]
  },
  {
   "cell_type": "code",
   "execution_count": 70,
   "id": "42d13b52",
   "metadata": {},
   "outputs": [],
   "source": [
    "df = df.drop_duplicates()"
   ]
  },
  {
   "cell_type": "code",
   "execution_count": 71,
   "id": "4dba6dd1",
   "metadata": {},
   "outputs": [
    {
     "name": "stdout",
     "output_type": "stream",
     "text": [
      "<class 'pandas.core.frame.DataFrame'>\n",
      "Int64Index: 503586 entries, 0 to 513230\n",
      "Data columns (total 15 columns):\n",
      " #   Column             Non-Null Count   Dtype  \n",
      "---  ------             --------------   -----  \n",
      " 0   tconst             503586 non-null  object \n",
      " 1   directors          459020 non-null  object \n",
      " 2   writers            414458 non-null  object \n",
      " 3   titleType          503586 non-null  object \n",
      " 4   primaryTitle       503586 non-null  object \n",
      " 5   isAdult            503586 non-null  int64  \n",
      " 6   startYear          503543 non-null  float64\n",
      " 7   runtimeMinutes     426299 non-null  float64\n",
      " 8   genres             497136 non-null  object \n",
      " 9   category           459143 non-null  object \n",
      " 10  job                29099 non-null   object \n",
      " 11  primaryProfession  444316 non-null  object \n",
      " 12  knownForTitles     455954 non-null  object \n",
      " 13  averageRating      503586 non-null  float64\n",
      " 14  numVotes           503586 non-null  int64  \n",
      "dtypes: float64(3), int64(2), object(10)\n",
      "memory usage: 61.5+ MB\n"
     ]
    }
   ],
   "source": [
    "df.info()"
   ]
  },
  {
   "cell_type": "code",
   "execution_count": 72,
   "id": "0eea834d",
   "metadata": {},
   "outputs": [],
   "source": [
    "df['isAdult'] = pd.Categorical(df['isAdult'])"
   ]
  },
  {
   "cell_type": "markdown",
   "id": "06891f77",
   "metadata": {},
   "source": [
    "### Bivariate Analysis for numerical variables "
   ]
  },
  {
   "cell_type": "code",
   "execution_count": 73,
   "id": "1197cabc",
   "metadata": {},
   "outputs": [],
   "source": [
    "corr = df.corr()"
   ]
  },
  {
   "cell_type": "code",
   "execution_count": 74,
   "id": "90f6d3b9",
   "metadata": {},
   "outputs": [
    {
     "data": {
      "text/html": [
       "<div>\n",
       "<style scoped>\n",
       "    .dataframe tbody tr th:only-of-type {\n",
       "        vertical-align: middle;\n",
       "    }\n",
       "\n",
       "    .dataframe tbody tr th {\n",
       "        vertical-align: top;\n",
       "    }\n",
       "\n",
       "    .dataframe thead th {\n",
       "        text-align: right;\n",
       "    }\n",
       "</style>\n",
       "<table border=\"1\" class=\"dataframe\">\n",
       "  <thead>\n",
       "    <tr style=\"text-align: right;\">\n",
       "      <th></th>\n",
       "      <th>startYear</th>\n",
       "      <th>runtimeMinutes</th>\n",
       "      <th>averageRating</th>\n",
       "      <th>numVotes</th>\n",
       "    </tr>\n",
       "  </thead>\n",
       "  <tbody>\n",
       "    <tr>\n",
       "      <th>startYear</th>\n",
       "      <td>1.000000</td>\n",
       "      <td>0.015412</td>\n",
       "      <td>0.142193</td>\n",
       "      <td>0.025265</td>\n",
       "    </tr>\n",
       "    <tr>\n",
       "      <th>runtimeMinutes</th>\n",
       "      <td>0.015412</td>\n",
       "      <td>1.000000</td>\n",
       "      <td>-0.068692</td>\n",
       "      <td>0.035455</td>\n",
       "    </tr>\n",
       "    <tr>\n",
       "      <th>averageRating</th>\n",
       "      <td>0.142193</td>\n",
       "      <td>-0.068692</td>\n",
       "      <td>1.000000</td>\n",
       "      <td>0.033647</td>\n",
       "    </tr>\n",
       "    <tr>\n",
       "      <th>numVotes</th>\n",
       "      <td>0.025265</td>\n",
       "      <td>0.035455</td>\n",
       "      <td>0.033647</td>\n",
       "      <td>1.000000</td>\n",
       "    </tr>\n",
       "  </tbody>\n",
       "</table>\n",
       "</div>"
      ],
      "text/plain": [
       "                startYear  runtimeMinutes  averageRating  numVotes\n",
       "startYear        1.000000        0.015412       0.142193  0.025265\n",
       "runtimeMinutes   0.015412        1.000000      -0.068692  0.035455\n",
       "averageRating    0.142193       -0.068692       1.000000  0.033647\n",
       "numVotes         0.025265        0.035455       0.033647  1.000000"
      ]
     },
     "execution_count": 74,
     "metadata": {},
     "output_type": "execute_result"
    }
   ],
   "source": [
    "corr"
   ]
  },
  {
   "cell_type": "code",
   "execution_count": 75,
   "id": "2b09adad",
   "metadata": {},
   "outputs": [
    {
     "data": {
      "text/plain": [
       "<AxesSubplot:>"
      ]
     },
     "execution_count": 75,
     "metadata": {},
     "output_type": "execute_result"
    },
    {
     "data": {
      "image/png": "[encoded data removed]",
      "text/plain": [
       "<Figure size 792x648 with 2 Axes>"
      ]
     },
     "metadata": {},
     "output_type": "display_data"
    }
   ],
   "source": [
    "# Generate a mask for the upper triangle\n",
    "mask = np.triu(np.ones_like(corr, dtype=bool))\n",
    "\n",
    "# Set up the matplotlib figure\n",
    "f, ax = plt.subplots(figsize=(11, 9))\n",
    "\n",
    "# Generate a custom diverging colormap\n",
    "cmap = sns.diverging_palette(230, 20, as_cmap=True)\n",
    "\n",
    "# Draw the heatmap with the mask and correct aspect ratio\n",
    "sns.heatmap(corr, mask=mask, cmap=cmap, vmax=.3, center=0,\n",
    "            square=True, linewidths=.5, cbar_kws={\"shrink\": .5})"
   ]
  },
  {
   "cell_type": "markdown",
   "id": "6a8e841d",
   "metadata": {},
   "source": [
    "###### From the Chart we can conclude that there is hardly any correlation between the numerical variables and hence we can keep all"
   ]
  },
  {
   "cell_type": "markdown",
   "id": "05838f31",
   "metadata": {},
   "source": [
    "### Bivariate Analysis for Categorical variables "
   ]
  },
  {
   "cell_type": "code",
   "execution_count": 76,
   "id": "479960eb",
   "metadata": {},
   "outputs": [],
   "source": [
    "df_cat = df.select_dtypes(include = 'object').copy()"
   ]
  },
  {
   "cell_type": "code",
   "execution_count": 77,
   "id": "d21c4c6d",
   "metadata": {},
   "outputs": [
    {
     "data": {
      "text/html": [
       "<div>\n",
       "<style scoped>\n",
       "    .dataframe tbody tr th:only-of-type {\n",
       "        vertical-align: middle;\n",
       "    }\n",
       "\n",
       "    .dataframe tbody tr th {\n",
       "        vertical-align: top;\n",
       "    }\n",
       "\n",
       "    .dataframe thead th {\n",
       "        text-align: right;\n",
       "    }\n",
       "</style>\n",
       "<table border=\"1\" class=\"dataframe\">\n",
       "  <thead>\n",
       "    <tr style=\"text-align: right;\">\n",
       "      <th></th>\n",
       "      <th>tconst</th>\n",
       "      <th>directors</th>\n",
       "      <th>writers</th>\n",
       "      <th>titleType</th>\n",
       "      <th>primaryTitle</th>\n",
       "      <th>genres</th>\n",
       "      <th>category</th>\n",
       "      <th>job</th>\n",
       "      <th>primaryProfession</th>\n",
       "      <th>knownForTitles</th>\n",
       "    </tr>\n",
       "  </thead>\n",
       "  <tbody>\n",
       "    <tr>\n",
       "      <th>0</th>\n",
       "      <td>tt0000001</td>\n",
       "      <td>nm0005690</td>\n",
       "      <td>NaN</td>\n",
       "      <td>short</td>\n",
       "      <td>Carmencita</td>\n",
       "      <td>Documentary,Short</td>\n",
       "      <td>NaN</td>\n",
       "      <td>NaN</td>\n",
       "      <td>NaN</td>\n",
       "      <td>NaN</td>\n",
       "    </tr>\n",
       "    <tr>\n",
       "      <th>1</th>\n",
       "      <td>tt0000002</td>\n",
       "      <td>nm0721526</td>\n",
       "      <td>NaN</td>\n",
       "      <td>short</td>\n",
       "      <td>Le clown et ses chiens</td>\n",
       "      <td>Animation,Short</td>\n",
       "      <td>NaN</td>\n",
       "      <td>NaN</td>\n",
       "      <td>NaN</td>\n",
       "      <td>NaN</td>\n",
       "    </tr>\n",
       "    <tr>\n",
       "      <th>2</th>\n",
       "      <td>tt0000005</td>\n",
       "      <td>nm0005690</td>\n",
       "      <td>NaN</td>\n",
       "      <td>short</td>\n",
       "      <td>Blacksmith Scene</td>\n",
       "      <td>Comedy,Short</td>\n",
       "      <td>NaN</td>\n",
       "      <td>NaN</td>\n",
       "      <td>NaN</td>\n",
       "      <td>NaN</td>\n",
       "    </tr>\n",
       "    <tr>\n",
       "      <th>3</th>\n",
       "      <td>tt0000005</td>\n",
       "      <td>nm0005690</td>\n",
       "      <td>NaN</td>\n",
       "      <td>short</td>\n",
       "      <td>Blacksmith Scene</td>\n",
       "      <td>Comedy,Short</td>\n",
       "      <td>actor</td>\n",
       "      <td>NaN</td>\n",
       "      <td>actor</td>\n",
       "      <td>tt0000005</td>\n",
       "    </tr>\n",
       "    <tr>\n",
       "      <th>6</th>\n",
       "      <td>tt0000006</td>\n",
       "      <td>nm0005690</td>\n",
       "      <td>NaN</td>\n",
       "      <td>short</td>\n",
       "      <td>Chinese Opium Den</td>\n",
       "      <td>Short</td>\n",
       "      <td>NaN</td>\n",
       "      <td>NaN</td>\n",
       "      <td>NaN</td>\n",
       "      <td>NaN</td>\n",
       "    </tr>\n",
       "  </tbody>\n",
       "</table>\n",
       "</div>"
      ],
      "text/plain": [
       "      tconst  directors writers titleType            primaryTitle  \\\n",
       "0  tt0000001  nm0005690     NaN     short              Carmencita   \n",
       "1  tt0000002  nm0721526     NaN     short  Le clown et ses chiens   \n",
       "2  tt0000005  nm0005690     NaN     short        Blacksmith Scene   \n",
       "3  tt0000005  nm0005690     NaN     short        Blacksmith Scene   \n",
       "6  tt0000006  nm0005690     NaN     short       Chinese Opium Den   \n",
       "\n",
       "              genres category  job primaryProfession knownForTitles  \n",
       "0  Documentary,Short      NaN  NaN               NaN            NaN  \n",
       "1    Animation,Short      NaN  NaN               NaN            NaN  \n",
       "2       Comedy,Short      NaN  NaN               NaN            NaN  \n",
       "3       Comedy,Short    actor  NaN             actor      tt0000005  \n",
       "6              Short      NaN  NaN               NaN            NaN  "
      ]
     },
     "execution_count": 77,
     "metadata": {},
     "output_type": "execute_result"
    }
   ],
   "source": [
    "df_cat.head()"
   ]
  },
  {
   "cell_type": "markdown",
   "id": "a5d034da",
   "metadata": {},
   "source": [
    "#### Finding out the percentage of missing values in the categorical data set"
   ]
  },
  {
   "cell_type": "code",
   "execution_count": 78,
   "id": "a4db32aa",
   "metadata": {},
   "outputs": [],
   "source": [
    "percent_missing = df.isnull().sum() * 100 / len(df)\n",
    "missing_value_df = pd.DataFrame({'column_name': df.columns,\n",
    "                                 'percent_missing': percent_missing})"
   ]
  },
  {
   "cell_type": "code",
   "execution_count": 79,
   "id": "1fbc40f5",
   "metadata": {},
   "outputs": [],
   "source": [
    "missing_value_df.sort_values('percent_missing', inplace=True)"
   ]
  },
  {
   "cell_type": "code",
   "execution_count": 80,
   "id": "34bd37a6",
   "metadata": {},
   "outputs": [
    {
     "data": {
      "text/html": [
       "<div>\n",
       "<style scoped>\n",
       "    .dataframe tbody tr th:only-of-type {\n",
       "        vertical-align: middle;\n",
       "    }\n",
       "\n",
       "    .dataframe tbody tr th {\n",
       "        vertical-align: top;\n",
       "    }\n",
       "\n",
       "    .dataframe thead th {\n",
       "        text-align: right;\n",
       "    }\n",
       "</style>\n",
       "<table border=\"1\" class=\"dataframe\">\n",
       "  <thead>\n",
       "    <tr style=\"text-align: right;\">\n",
       "      <th></th>\n",
       "      <th>column_name</th>\n",
       "      <th>percent_missing</th>\n",
       "    </tr>\n",
       "  </thead>\n",
       "  <tbody>\n",
       "    <tr>\n",
       "      <th>tconst</th>\n",
       "      <td>tconst</td>\n",
       "      <td>0.000000</td>\n",
       "    </tr>\n",
       "    <tr>\n",
       "      <th>titleType</th>\n",
       "      <td>titleType</td>\n",
       "      <td>0.000000</td>\n",
       "    </tr>\n",
       "    <tr>\n",
       "      <th>primaryTitle</th>\n",
       "      <td>primaryTitle</td>\n",
       "      <td>0.000000</td>\n",
       "    </tr>\n",
       "    <tr>\n",
       "      <th>isAdult</th>\n",
       "      <td>isAdult</td>\n",
       "      <td>0.000000</td>\n",
       "    </tr>\n",
       "    <tr>\n",
       "      <th>averageRating</th>\n",
       "      <td>averageRating</td>\n",
       "      <td>0.000000</td>\n",
       "    </tr>\n",
       "    <tr>\n",
       "      <th>numVotes</th>\n",
       "      <td>numVotes</td>\n",
       "      <td>0.000000</td>\n",
       "    </tr>\n",
       "    <tr>\n",
       "      <th>startYear</th>\n",
       "      <td>startYear</td>\n",
       "      <td>0.008539</td>\n",
       "    </tr>\n",
       "    <tr>\n",
       "      <th>genres</th>\n",
       "      <td>genres</td>\n",
       "      <td>1.280814</td>\n",
       "    </tr>\n",
       "    <tr>\n",
       "      <th>category</th>\n",
       "      <td>category</td>\n",
       "      <td>8.825305</td>\n",
       "    </tr>\n",
       "    <tr>\n",
       "      <th>directors</th>\n",
       "      <td>directors</td>\n",
       "      <td>8.849730</td>\n",
       "    </tr>\n",
       "    <tr>\n",
       "      <th>knownForTitles</th>\n",
       "      <td>knownForTitles</td>\n",
       "      <td>9.458563</td>\n",
       "    </tr>\n",
       "    <tr>\n",
       "      <th>primaryProfession</th>\n",
       "      <td>primaryProfession</td>\n",
       "      <td>11.769589</td>\n",
       "    </tr>\n",
       "    <tr>\n",
       "      <th>runtimeMinutes</th>\n",
       "      <td>runtimeMinutes</td>\n",
       "      <td>15.347329</td>\n",
       "    </tr>\n",
       "    <tr>\n",
       "      <th>writers</th>\n",
       "      <td>writers</td>\n",
       "      <td>17.698665</td>\n",
       "    </tr>\n",
       "    <tr>\n",
       "      <th>job</th>\n",
       "      <td>job</td>\n",
       "      <td>94.221642</td>\n",
       "    </tr>\n",
       "  </tbody>\n",
       "</table>\n",
       "</div>"
      ],
      "text/plain": [
       "                         column_name  percent_missing\n",
       "tconst                        tconst         0.000000\n",
       "titleType                  titleType         0.000000\n",
       "primaryTitle            primaryTitle         0.000000\n",
       "isAdult                      isAdult         0.000000\n",
       "averageRating          averageRating         0.000000\n",
       "numVotes                    numVotes         0.000000\n",
       "startYear                  startYear         0.008539\n",
       "genres                        genres         1.280814\n",
       "category                    category         8.825305\n",
       "directors                  directors         8.849730\n",
       "knownForTitles        knownForTitles         9.458563\n",
       "primaryProfession  primaryProfession        11.769589\n",
       "runtimeMinutes        runtimeMinutes        15.347329\n",
       "writers                      writers        17.698665\n",
       "job                              job        94.221642"
      ]
     },
     "execution_count": 80,
     "metadata": {},
     "output_type": "execute_result"
    }
   ],
   "source": [
    "missing_value_df"
   ]
  },
  {
   "cell_type": "code",
   "execution_count": 81,
   "id": "62baaa56",
   "metadata": {},
   "outputs": [],
   "source": [
    "df_cat['averageRating'] = df.loc[df_cat.index, 'averageRating'].copy()"
   ]
  },
  {
   "cell_type": "code",
   "execution_count": 82,
   "id": "149ecd71",
   "metadata": {},
   "outputs": [
    {
     "data": {
      "image/png": "[encoded data removed]",
      "text/plain": [
       "<Figure size 1562.4x595.44 with 1 Axes>"
      ]
     },
     "metadata": {},
     "output_type": "display_data"
    }
   ],
   "source": [
    "ax = sns.boxplot(data = df_cat, x='titleType', y='averageRating')\n",
    "ax.set_xticklabels(ax.get_xticklabels(), rotation=15, ha=\"right\", fontsize=15)\n",
    "sns.set(rc={'figure.figsize':(21.7,8.27)})\n",
    "medians = df.groupby(['titleType'])['averageRating'].median()\n",
    "vertical_offset = df['averageRating'].median() * 0.001 # offset from median for display\n",
    "\n",
    "for xtick in ax.get_xticks():\n",
    "    ax.text(xtick,medians[xtick] + vertical_offset,medians[xtick], \n",
    "            horizontalalignment='center',size='x-small',color='w',weight='semibold')"
   ]
  },
  {
   "cell_type": "code",
   "execution_count": 83,
   "id": "c01fe803",
   "metadata": {},
   "outputs": [
    {
     "data": {
      "text/plain": [
       "12"
      ]
     },
     "execution_count": 83,
     "metadata": {},
     "output_type": "execute_result"
    }
   ],
   "source": [
    "df_cat['category'].nunique()"
   ]
  },
  {
   "cell_type": "code",
   "execution_count": 84,
   "id": "f55b59b2",
   "metadata": {},
   "outputs": [
    {
     "data": {
      "image/png": "[encoded data removed]",
      "text/plain": [
       "<Figure size 1562.4x595.44 with 1 Axes>"
      ]
     },
     "metadata": {},
     "output_type": "display_data"
    }
   ],
   "source": [
    "ax = sns.boxplot(data = df_cat, x='category', y='averageRating')\n",
    "ax.set_xticklabels(ax.get_xticklabels(), rotation=15, ha=\"right\", fontsize=15)\n",
    "sns.set(rc={'figure.figsize':(21.7,8.27)})\n",
    "medians = df.groupby(['category'])['averageRating'].median()\n",
    "vertical_offset = df['averageRating'].median() * 0.1 # offset from median for display\n",
    "\n",
    "for xtick in ax.get_xticks():\n",
    "    ax.text(xtick,medians[xtick] + vertical_offset,medians[xtick], \n",
    "            horizontalalignment='center',size='x-small',color='black',weight='semibold')"
   ]
  },
  {
   "cell_type": "markdown",
   "id": "9f7c6205",
   "metadata": {},
   "source": [
    "### Handling genre and knownfor title variable"
   ]
  },
  {
   "cell_type": "markdown",
   "id": "9edb63f4",
   "metadata": {},
   "source": [
    "#### Adding a varibale which has the total number of genres"
   ]
  },
  {
   "cell_type": "code",
   "execution_count": 85,
   "id": "5988d35f",
   "metadata": {},
   "outputs": [],
   "source": [
    "df['numberofgenre'] = df['genres'].str.count(',') + 1"
   ]
  },
  {
   "cell_type": "markdown",
   "id": "07951479",
   "metadata": {},
   "source": [
    "#### An idea to give plus points if a title is known and does not match with tconst"
   ]
  },
  {
   "cell_type": "code",
   "execution_count": 61,
   "id": "843a48e1",
   "metadata": {},
   "outputs": [],
   "source": [
    "df['Plus'] = df['tconst'] == df['knownForTitles']"
   ]
  },
  {
   "cell_type": "code",
   "execution_count": 66,
   "id": "53d5c8f5",
   "metadata": {},
   "outputs": [
    {
     "data": {
      "text/html": [
       "<div>\n",
       "<style scoped>\n",
       "    .dataframe tbody tr th:only-of-type {\n",
       "        vertical-align: middle;\n",
       "    }\n",
       "\n",
       "    .dataframe tbody tr th {\n",
       "        vertical-align: top;\n",
       "    }\n",
       "\n",
       "    .dataframe thead th {\n",
       "        text-align: right;\n",
       "    }\n",
       "</style>\n",
       "<table border=\"1\" class=\"dataframe\">\n",
       "  <thead>\n",
       "    <tr style=\"text-align: right;\">\n",
       "      <th></th>\n",
       "      <th>tconst</th>\n",
       "      <th>directors</th>\n",
       "      <th>writers</th>\n",
       "      <th>titleType</th>\n",
       "      <th>primaryTitle</th>\n",
       "      <th>isAdult</th>\n",
       "      <th>startYear</th>\n",
       "      <th>runtimeMinutes</th>\n",
       "      <th>genres</th>\n",
       "      <th>category</th>\n",
       "      <th>job</th>\n",
       "      <th>primaryProfession</th>\n",
       "      <th>knownForTitles</th>\n",
       "      <th>averageRating</th>\n",
       "      <th>numVotes</th>\n",
       "      <th>numberofgenre</th>\n",
       "      <th>Plus</th>\n",
       "    </tr>\n",
       "  </thead>\n",
       "  <tbody>\n",
       "  </tbody>\n",
       "</table>\n",
       "</div>"
      ],
      "text/plain": [
       "Empty DataFrame\n",
       "Columns: [tconst, directors, writers, titleType, primaryTitle, isAdult, startYear, runtimeMinutes, genres, category, job, primaryProfession, knownForTitles, averageRating, numVotes, numberofgenre, Plus]\n",
       "Index: []"
      ]
     },
     "execution_count": 66,
     "metadata": {},
     "output_type": "execute_result"
    }
   ],
   "source": [
    "df[(df['Plus'] == 'FALSE') & ( df['knownForTitles'].notnull())]"
   ]
  },
  {
   "cell_type": "markdown",
   "id": "4d441821",
   "metadata": {},
   "source": [
    "#### But there exists no records like that hence will convert knownForTitles as a flag"
   ]
  },
  {
   "cell_type": "code",
   "execution_count": 86,
   "id": "efc36a64",
   "metadata": {},
   "outputs": [],
   "source": [
    "df['knownForTitles'] = np.where(df['knownForTitles'].isnull(), 0, 1)"
   ]
  },
  {
   "cell_type": "code",
   "execution_count": 87,
   "id": "30a712ab",
   "metadata": {},
   "outputs": [
    {
     "data": {
      "text/html": [
       "<div>\n",
       "<style scoped>\n",
       "    .dataframe tbody tr th:only-of-type {\n",
       "        vertical-align: middle;\n",
       "    }\n",
       "\n",
       "    .dataframe tbody tr th {\n",
       "        vertical-align: top;\n",
       "    }\n",
       "\n",
       "    .dataframe thead th {\n",
       "        text-align: right;\n",
       "    }\n",
       "</style>\n",
       "<table border=\"1\" class=\"dataframe\">\n",
       "  <thead>\n",
       "    <tr style=\"text-align: right;\">\n",
       "      <th></th>\n",
       "      <th>tconst</th>\n",
       "      <th>directors</th>\n",
       "      <th>writers</th>\n",
       "      <th>titleType</th>\n",
       "      <th>primaryTitle</th>\n",
       "      <th>isAdult</th>\n",
       "      <th>startYear</th>\n",
       "      <th>runtimeMinutes</th>\n",
       "      <th>genres</th>\n",
       "      <th>category</th>\n",
       "      <th>job</th>\n",
       "      <th>primaryProfession</th>\n",
       "      <th>knownForTitles</th>\n",
       "      <th>averageRating</th>\n",
       "      <th>numVotes</th>\n",
       "      <th>numberofgenre</th>\n",
       "    </tr>\n",
       "  </thead>\n",
       "  <tbody>\n",
       "    <tr>\n",
       "      <th>0</th>\n",
       "      <td>tt0000001</td>\n",
       "      <td>nm0005690</td>\n",
       "      <td>NaN</td>\n",
       "      <td>short</td>\n",
       "      <td>Carmencita</td>\n",
       "      <td>0</td>\n",
       "      <td>1894.0</td>\n",
       "      <td>1.0</td>\n",
       "      <td>Documentary,Short</td>\n",
       "      <td>NaN</td>\n",
       "      <td>NaN</td>\n",
       "      <td>NaN</td>\n",
       "      <td>0</td>\n",
       "      <td>5.7</td>\n",
       "      <td>1858</td>\n",
       "      <td>2.0</td>\n",
       "    </tr>\n",
       "    <tr>\n",
       "      <th>1</th>\n",
       "      <td>tt0000002</td>\n",
       "      <td>nm0721526</td>\n",
       "      <td>NaN</td>\n",
       "      <td>short</td>\n",
       "      <td>Le clown et ses chiens</td>\n",
       "      <td>0</td>\n",
       "      <td>1892.0</td>\n",
       "      <td>5.0</td>\n",
       "      <td>Animation,Short</td>\n",
       "      <td>NaN</td>\n",
       "      <td>NaN</td>\n",
       "      <td>NaN</td>\n",
       "      <td>0</td>\n",
       "      <td>6.0</td>\n",
       "      <td>243</td>\n",
       "      <td>2.0</td>\n",
       "    </tr>\n",
       "    <tr>\n",
       "      <th>2</th>\n",
       "      <td>tt0000005</td>\n",
       "      <td>nm0005690</td>\n",
       "      <td>NaN</td>\n",
       "      <td>short</td>\n",
       "      <td>Blacksmith Scene</td>\n",
       "      <td>0</td>\n",
       "      <td>1893.0</td>\n",
       "      <td>1.0</td>\n",
       "      <td>Comedy,Short</td>\n",
       "      <td>NaN</td>\n",
       "      <td>NaN</td>\n",
       "      <td>NaN</td>\n",
       "      <td>0</td>\n",
       "      <td>6.2</td>\n",
       "      <td>2455</td>\n",
       "      <td>2.0</td>\n",
       "    </tr>\n",
       "    <tr>\n",
       "      <th>3</th>\n",
       "      <td>tt0000005</td>\n",
       "      <td>nm0005690</td>\n",
       "      <td>NaN</td>\n",
       "      <td>short</td>\n",
       "      <td>Blacksmith Scene</td>\n",
       "      <td>0</td>\n",
       "      <td>1893.0</td>\n",
       "      <td>1.0</td>\n",
       "      <td>Comedy,Short</td>\n",
       "      <td>actor</td>\n",
       "      <td>NaN</td>\n",
       "      <td>actor</td>\n",
       "      <td>1</td>\n",
       "      <td>6.2</td>\n",
       "      <td>2455</td>\n",
       "      <td>2.0</td>\n",
       "    </tr>\n",
       "    <tr>\n",
       "      <th>6</th>\n",
       "      <td>tt0000006</td>\n",
       "      <td>nm0005690</td>\n",
       "      <td>NaN</td>\n",
       "      <td>short</td>\n",
       "      <td>Chinese Opium Den</td>\n",
       "      <td>0</td>\n",
       "      <td>1894.0</td>\n",
       "      <td>1.0</td>\n",
       "      <td>Short</td>\n",
       "      <td>NaN</td>\n",
       "      <td>NaN</td>\n",
       "      <td>NaN</td>\n",
       "      <td>0</td>\n",
       "      <td>5.2</td>\n",
       "      <td>163</td>\n",
       "      <td>1.0</td>\n",
       "    </tr>\n",
       "  </tbody>\n",
       "</table>\n",
       "</div>"
      ],
      "text/plain": [
       "      tconst  directors writers titleType            primaryTitle isAdult  \\\n",
       "0  tt0000001  nm0005690     NaN     short              Carmencita       0   \n",
       "1  tt0000002  nm0721526     NaN     short  Le clown et ses chiens       0   \n",
       "2  tt0000005  nm0005690     NaN     short        Blacksmith Scene       0   \n",
       "3  tt0000005  nm0005690     NaN     short        Blacksmith Scene       0   \n",
       "6  tt0000006  nm0005690     NaN     short       Chinese Opium Den       0   \n",
       "\n",
       "   startYear  runtimeMinutes             genres category  job  \\\n",
       "0     1894.0             1.0  Documentary,Short      NaN  NaN   \n",
       "1     1892.0             5.0    Animation,Short      NaN  NaN   \n",
       "2     1893.0             1.0       Comedy,Short      NaN  NaN   \n",
       "3     1893.0             1.0       Comedy,Short    actor  NaN   \n",
       "6     1894.0             1.0              Short      NaN  NaN   \n",
       "\n",
       "  primaryProfession  knownForTitles  averageRating  numVotes  numberofgenre  \n",
       "0               NaN               0            5.7      1858            2.0  \n",
       "1               NaN               0            6.0       243            2.0  \n",
       "2               NaN               0            6.2      2455            2.0  \n",
       "3             actor               1            6.2      2455            2.0  \n",
       "6               NaN               0            5.2       163            1.0  "
      ]
     },
     "execution_count": 87,
     "metadata": {},
     "output_type": "execute_result"
    }
   ],
   "source": [
    "df.head()"
   ]
  },
  {
   "cell_type": "code",
   "execution_count": null,
   "id": "0e3930cf",
   "metadata": {},
   "outputs": [],
   "source": []
  },
  {
   "cell_type": "code",
   "execution_count": null,
   "id": "a698a9b7",
   "metadata": {},
   "outputs": [],
   "source": []
  },
  {
   "cell_type": "code",
   "execution_count": null,
   "id": "425703ca",
   "metadata": {},
   "outputs": [],
   "source": []
  },
  {
   "cell_type": "code",
   "execution_count": null,
   "id": "b5f1dc49",
   "metadata": {},
   "outputs": [],
   "source": []
  },
  {
   "cell_type": "code",
   "execution_count": null,
   "id": "ec23600f",
   "metadata": {},
   "outputs": [],
   "source": []
  },
  {
   "cell_type": "code",
   "execution_count": null,
   "id": "a4fc3e87",
   "metadata": {},
   "outputs": [],
   "source": []
  },
  {
   "cell_type": "code",
   "execution_count": null,
   "id": "bb48008c",
   "metadata": {},
   "outputs": [],
   "source": []
  },
  {
   "cell_type": "code",
   "execution_count": null,
   "id": "d5982ce2",
   "metadata": {},
   "outputs": [],
   "source": []
  },
  {
   "cell_type": "code",
   "execution_count": null,
   "id": "7c0234b5",
   "metadata": {},
   "outputs": [],
   "source": []
  },
  {
   "cell_type": "code",
   "execution_count": null,
   "id": "dd2b8bb5",
   "metadata": {},
   "outputs": [],
   "source": []
  },
  {
   "cell_type": "code",
   "execution_count": null,
   "id": "db527fc0",
   "metadata": {},
   "outputs": [],
   "source": []
  },
  {
   "cell_type": "markdown",
   "id": "8bf79419",
   "metadata": {},
   "source": [
    "### Handling genre and knownForTitles variables ( This could be used later on if accuracy is less)"
   ]
  },
  {
   "cell_type": "code",
   "execution_count": 19,
   "id": "392f17c9",
   "metadata": {},
   "outputs": [],
   "source": [
    "genres_lists = df.genres.str.split(',')        \n",
    "df.genres = genres_lists "
   ]
  },
  {
   "cell_type": "code",
   "execution_count": 20,
   "id": "6d7c6c00",
   "metadata": {},
   "outputs": [],
   "source": [
    "df = df.explode('genres')"
   ]
  },
  {
   "cell_type": "code",
   "execution_count": 24,
   "id": "e52aa224",
   "metadata": {},
   "outputs": [],
   "source": [
    "knownForTitles_lists = df.knownForTitles.str.split(',')        \n",
    "df.knownForTitles = knownForTitles_lists "
   ]
  },
  {
   "cell_type": "code",
   "execution_count": 25,
   "id": "63852deb",
   "metadata": {},
   "outputs": [],
   "source": [
    "df = df.explode('knownForTitles')"
   ]
  },
  {
   "cell_type": "code",
   "execution_count": 27,
   "id": "b4ea9184",
   "metadata": {},
   "outputs": [
    {
     "data": {
      "text/html": [
       "<div>\n",
       "<style scoped>\n",
       "    .dataframe tbody tr th:only-of-type {\n",
       "        vertical-align: middle;\n",
       "    }\n",
       "\n",
       "    .dataframe tbody tr th {\n",
       "        vertical-align: top;\n",
       "    }\n",
       "\n",
       "    .dataframe thead th {\n",
       "        text-align: right;\n",
       "    }\n",
       "</style>\n",
       "<table border=\"1\" class=\"dataframe\">\n",
       "  <thead>\n",
       "    <tr style=\"text-align: right;\">\n",
       "      <th></th>\n",
       "      <th>startYear</th>\n",
       "      <th>runtimeMinutes</th>\n",
       "      <th>averageRating</th>\n",
       "      <th>numVotes</th>\n",
       "    </tr>\n",
       "  </thead>\n",
       "  <tbody>\n",
       "    <tr>\n",
       "      <th>count</th>\n",
       "      <td>3.483580e+06</td>\n",
       "      <td>3.008303e+06</td>\n",
       "      <td>3.483875e+06</td>\n",
       "      <td>3.483875e+06</td>\n",
       "    </tr>\n",
       "    <tr>\n",
       "      <th>mean</th>\n",
       "      <td>1.995936e+03</td>\n",
       "      <td>5.860408e+01</td>\n",
       "      <td>6.764852e+00</td>\n",
       "      <td>2.346812e+03</td>\n",
       "    </tr>\n",
       "    <tr>\n",
       "      <th>std</th>\n",
       "      <td>2.499134e+01</td>\n",
       "      <td>6.946736e+01</td>\n",
       "      <td>1.374452e+00</td>\n",
       "      <td>2.665700e+04</td>\n",
       "    </tr>\n",
       "    <tr>\n",
       "      <th>min</th>\n",
       "      <td>1.874000e+03</td>\n",
       "      <td>0.000000e+00</td>\n",
       "      <td>1.000000e+00</td>\n",
       "      <td>5.000000e+00</td>\n",
       "    </tr>\n",
       "    <tr>\n",
       "      <th>25%</th>\n",
       "      <td>1.986000e+03</td>\n",
       "      <td>2.400000e+01</td>\n",
       "      <td>6.000000e+00</td>\n",
       "      <td>2.100000e+01</td>\n",
       "    </tr>\n",
       "    <tr>\n",
       "      <th>50%</th>\n",
       "      <td>2.005000e+03</td>\n",
       "      <td>5.000000e+01</td>\n",
       "      <td>7.000000e+00</td>\n",
       "      <td>7.900000e+01</td>\n",
       "    </tr>\n",
       "    <tr>\n",
       "      <th>75%</th>\n",
       "      <td>2.014000e+03</td>\n",
       "      <td>8.900000e+01</td>\n",
       "      <td>7.800000e+00</td>\n",
       "      <td>3.720000e+02</td>\n",
       "    </tr>\n",
       "    <tr>\n",
       "      <th>max</th>\n",
       "      <td>2.022000e+03</td>\n",
       "      <td>5.142000e+04</td>\n",
       "      <td>1.000000e+01</td>\n",
       "      <td>2.543762e+06</td>\n",
       "    </tr>\n",
       "  </tbody>\n",
       "</table>\n",
       "</div>"
      ],
      "text/plain": [
       "          startYear  runtimeMinutes  averageRating      numVotes\n",
       "count  3.483580e+06    3.008303e+06   3.483875e+06  3.483875e+06\n",
       "mean   1.995936e+03    5.860408e+01   6.764852e+00  2.346812e+03\n",
       "std    2.499134e+01    6.946736e+01   1.374452e+00  2.665700e+04\n",
       "min    1.874000e+03    0.000000e+00   1.000000e+00  5.000000e+00\n",
       "25%    1.986000e+03    2.400000e+01   6.000000e+00  2.100000e+01\n",
       "50%    2.005000e+03    5.000000e+01   7.000000e+00  7.900000e+01\n",
       "75%    2.014000e+03    8.900000e+01   7.800000e+00  3.720000e+02\n",
       "max    2.022000e+03    5.142000e+04   1.000000e+01  2.543762e+06"
      ]
     },
     "execution_count": 27,
     "metadata": {},
     "output_type": "execute_result"
    }
   ],
   "source": [
    "df.describe()"
   ]
  }
 ],
 "metadata": {
  "kernelspec": {
   "display_name": "Python 3 (ipykernel)",
   "language": "python",
   "name": "python3"
  },
  "language_info": {
   "codemirror_mode": {
    "name": "ipython",
    "version": 3
   },
   "file_extension": ".py",
   "mimetype": "text/x-python",
   "name": "python",
   "nbconvert_exporter": "python",
   "pygments_lexer": "ipython3",
   "version": "3.9.7"
  }
 },
 "nbformat": 4,
 "nbformat_minor": 5
}
