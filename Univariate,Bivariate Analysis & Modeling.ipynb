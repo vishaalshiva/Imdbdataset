{
 "cells": [
  {
   "cell_type": "code",
   "execution_count": 1,
   "id": "6049c855",
   "metadata": {},
   "outputs": [],
   "source": [
    "# Import Packages\n",
    "#########################################################################################################################\n",
    "import pandas as pd, numpy as np\n",
    "from sqlalchemy import create_engine, MetaData, Table, select\n",
    "import os, time\n",
    "import math\n",
    "from sklearn.preprocessing import LabelEncoder\n",
    "from sklearn.preprocessing import OneHotEncoder\n",
    "from datetime import datetime\n",
    "from sklearn.model_selection import GridSearchCV, train_test_split, RandomizedSearchCV\n",
    "from sklearn.metrics import roc_auc_score\n",
    "from scipy import sparse\n",
    "import matplotlib.pyplot as plt\n",
    "from sklearn.utils import shuffle\n",
    "from matplotlib import pyplot\n",
    "from sklearn.model_selection import KFold\n",
    "from sklearn.model_selection import cross_val_score\n",
    "from sklearn.metrics import roc_curve, auc, confusion_matrix\n",
    "from sklearn.preprocessing import StandardScaler\n",
    "import seaborn as sns"
   ]
  },
  {
   "cell_type": "code",
   "execution_count": 2,
   "id": "01a73177",
   "metadata": {},
   "outputs": [
    {
     "name": "stderr",
     "output_type": "stream",
     "text": [
      "/opt/anaconda3/lib/python3.9/site-packages/IPython/core/interactiveshell.py:3444: DtypeWarning: Columns (11) have mixed types.Specify dtype option on import or set low_memory=False.\n",
      "  exec(code_obj, self.user_global_ns, self.user_ns)\n"
     ]
    }
   ],
   "source": [
    "df = pd.read_csv('data.csv')"
   ]
  },
  {
   "cell_type": "markdown",
   "id": "4cd23259",
   "metadata": {},
   "source": [
    "#### Before Analyzing lets start by deduping the data set"
   ]
  },
  {
   "cell_type": "code",
   "execution_count": 3,
   "id": "1fb23460",
   "metadata": {},
   "outputs": [],
   "source": [
    "df = df.drop(['Unnamed: 0'], axis=1)"
   ]
  },
  {
   "cell_type": "code",
   "execution_count": 4,
   "id": "b36b426a",
   "metadata": {},
   "outputs": [],
   "source": [
    "df = df.drop_duplicates()"
   ]
  },
  {
   "cell_type": "code",
   "execution_count": 5,
   "id": "c9625a13",
   "metadata": {},
   "outputs": [
    {
     "name": "stdout",
     "output_type": "stream",
     "text": [
      "<class 'pandas.core.frame.DataFrame'>\n",
      "Int64Index: 503586 entries, 0 to 513230\n",
      "Data columns (total 15 columns):\n",
      " #   Column             Non-Null Count   Dtype  \n",
      "---  ------             --------------   -----  \n",
      " 0   tconst             503586 non-null  object \n",
      " 1   directors          459020 non-null  object \n",
      " 2   writers            414458 non-null  object \n",
      " 3   titleType          503586 non-null  object \n",
      " 4   primaryTitle       503586 non-null  object \n",
      " 5   isAdult            503586 non-null  int64  \n",
      " 6   startYear          503543 non-null  float64\n",
      " 7   runtimeMinutes     426299 non-null  float64\n",
      " 8   genres             497136 non-null  object \n",
      " 9   category           459143 non-null  object \n",
      " 10  job                29099 non-null   object \n",
      " 11  primaryProfession  444316 non-null  object \n",
      " 12  knownForTitles     455954 non-null  object \n",
      " 13  averageRating      503586 non-null  float64\n",
      " 14  numVotes           503586 non-null  int64  \n",
      "dtypes: float64(3), int64(2), object(10)\n",
      "memory usage: 61.5+ MB\n"
     ]
    }
   ],
   "source": [
    "df.info()"
   ]
  },
  {
   "cell_type": "code",
   "execution_count": 6,
   "id": "36079aae",
   "metadata": {},
   "outputs": [],
   "source": [
    "df['isAdult'] = pd.Categorical(df['isAdult'])"
   ]
  },
  {
   "cell_type": "markdown",
   "id": "407bfbc0",
   "metadata": {},
   "source": [
    "### Bivariate Analysis for numerical variables "
   ]
  },
  {
   "cell_type": "code",
   "execution_count": 7,
   "id": "af267559",
   "metadata": {},
   "outputs": [],
   "source": [
    "corr = df.corr()"
   ]
  },
  {
   "cell_type": "code",
   "execution_count": 8,
   "id": "0ba3e129",
   "metadata": {},
   "outputs": [
    {
     "data": {
      "text/html": [
       "<div>\n",
       "<style scoped>\n",
       "    .dataframe tbody tr th:only-of-type {\n",
       "        vertical-align: middle;\n",
       "    }\n",
       "\n",
       "    .dataframe tbody tr th {\n",
       "        vertical-align: top;\n",
       "    }\n",
       "\n",
       "    .dataframe thead th {\n",
       "        text-align: right;\n",
       "    }\n",
       "</style>\n",
       "<table border=\"1\" class=\"dataframe\">\n",
       "  <thead>\n",
       "    <tr style=\"text-align: right;\">\n",
       "      <th></th>\n",
       "      <th>startYear</th>\n",
       "      <th>runtimeMinutes</th>\n",
       "      <th>averageRating</th>\n",
       "      <th>numVotes</th>\n",
       "    </tr>\n",
       "  </thead>\n",
       "  <tbody>\n",
       "    <tr>\n",
       "      <th>startYear</th>\n",
       "      <td>1.000000</td>\n",
       "      <td>0.015412</td>\n",
       "      <td>0.142193</td>\n",
       "      <td>0.025265</td>\n",
       "    </tr>\n",
       "    <tr>\n",
       "      <th>runtimeMinutes</th>\n",
       "      <td>0.015412</td>\n",
       "      <td>1.000000</td>\n",
       "      <td>-0.068692</td>\n",
       "      <td>0.035455</td>\n",
       "    </tr>\n",
       "    <tr>\n",
       "      <th>averageRating</th>\n",
       "      <td>0.142193</td>\n",
       "      <td>-0.068692</td>\n",
       "      <td>1.000000</td>\n",
       "      <td>0.033647</td>\n",
       "    </tr>\n",
       "    <tr>\n",
       "      <th>numVotes</th>\n",
       "      <td>0.025265</td>\n",
       "      <td>0.035455</td>\n",
       "      <td>0.033647</td>\n",
       "      <td>1.000000</td>\n",
       "    </tr>\n",
       "  </tbody>\n",
       "</table>\n",
       "</div>"
      ],
      "text/plain": [
       "                startYear  runtimeMinutes  averageRating  numVotes\n",
       "startYear        1.000000        0.015412       0.142193  0.025265\n",
       "runtimeMinutes   0.015412        1.000000      -0.068692  0.035455\n",
       "averageRating    0.142193       -0.068692       1.000000  0.033647\n",
       "numVotes         0.025265        0.035455       0.033647  1.000000"
      ]
     },
     "execution_count": 8,
     "metadata": {},
     "output_type": "execute_result"
    }
   ],
   "source": [
    "corr"
   ]
  },
  {
   "cell_type": "code",
   "execution_count": 9,
   "id": "b664e997",
   "metadata": {},
   "outputs": [
    {
     "data": {
      "text/plain": [
       "<AxesSubplot:>"
      ]
     },
     "execution_count": 9,
     "metadata": {},
     "output_type": "execute_result"
    },
    {
     "data": {
      "image/png": "[encoded data removed]",
      "text/plain": [
       "<Figure size 792x648 with 2 Axes>"
      ]
     },
     "metadata": {
      "needs_background": "light"
     },
     "output_type": "display_data"
    }
   ],
   "source": [
    "# Generate a mask for the upper triangle\n",
    "mask = np.triu(np.ones_like(corr, dtype=bool))\n",
    "\n",
    "# Set up the matplotlib figure\n",
    "f, ax = plt.subplots(figsize=(11, 9))\n",
    "\n",
    "# Generate a custom diverging colormap\n",
    "cmap = sns.diverging_palette(230, 20, as_cmap=True)\n",
    "\n",
    "# Draw the heatmap with the mask and correct aspect ratio\n",
    "sns.heatmap(corr, mask=mask, cmap=cmap, vmax=.3, center=0,\n",
    "            square=True, linewidths=.5, cbar_kws={\"shrink\": .5})"
   ]
  },
  {
   "cell_type": "markdown",
   "id": "fd67ea97",
   "metadata": {},
   "source": [
    "###### From the Chart we can conclude that there is hardly any correlation between the numerical variables and hence we can keep all"
   ]
  },
  {
   "cell_type": "markdown",
   "id": "19e43684",
   "metadata": {},
   "source": [
    "### Univariate & Bivariate Analysis for Categorical variables "
   ]
  },
  {
   "cell_type": "code",
   "execution_count": 10,
   "id": "84892dfe",
   "metadata": {},
   "outputs": [],
   "source": [
    "df_cat = df.select_dtypes(include = 'object').copy()"
   ]
  },
  {
   "cell_type": "code",
   "execution_count": 11,
   "id": "76424881",
   "metadata": {},
   "outputs": [
    {
     "data": {
      "text/html": [
       "<div>\n",
       "<style scoped>\n",
       "    .dataframe tbody tr th:only-of-type {\n",
       "        vertical-align: middle;\n",
       "    }\n",
       "\n",
       "    .dataframe tbody tr th {\n",
       "        vertical-align: top;\n",
       "    }\n",
       "\n",
       "    .dataframe thead th {\n",
       "        text-align: right;\n",
       "    }\n",
       "</style>\n",
       "<table border=\"1\" class=\"dataframe\">\n",
       "  <thead>\n",
       "    <tr style=\"text-align: right;\">\n",
       "      <th></th>\n",
       "      <th>tconst</th>\n",
       "      <th>directors</th>\n",
       "      <th>writers</th>\n",
       "      <th>titleType</th>\n",
       "      <th>primaryTitle</th>\n",
       "      <th>genres</th>\n",
       "      <th>category</th>\n",
       "      <th>job</th>\n",
       "      <th>primaryProfession</th>\n",
       "      <th>knownForTitles</th>\n",
       "    </tr>\n",
       "  </thead>\n",
       "  <tbody>\n",
       "    <tr>\n",
       "      <th>0</th>\n",
       "      <td>tt0000001</td>\n",
       "      <td>nm0005690</td>\n",
       "      <td>NaN</td>\n",
       "      <td>short</td>\n",
       "      <td>Carmencita</td>\n",
       "      <td>Documentary,Short</td>\n",
       "      <td>NaN</td>\n",
       "      <td>NaN</td>\n",
       "      <td>NaN</td>\n",
       "      <td>NaN</td>\n",
       "    </tr>\n",
       "    <tr>\n",
       "      <th>1</th>\n",
       "      <td>tt0000002</td>\n",
       "      <td>nm0721526</td>\n",
       "      <td>NaN</td>\n",
       "      <td>short</td>\n",
       "      <td>Le clown et ses chiens</td>\n",
       "      <td>Animation,Short</td>\n",
       "      <td>NaN</td>\n",
       "      <td>NaN</td>\n",
       "      <td>NaN</td>\n",
       "      <td>NaN</td>\n",
       "    </tr>\n",
       "    <tr>\n",
       "      <th>2</th>\n",
       "      <td>tt0000005</td>\n",
       "      <td>nm0005690</td>\n",
       "      <td>NaN</td>\n",
       "      <td>short</td>\n",
       "      <td>Blacksmith Scene</td>\n",
       "      <td>Comedy,Short</td>\n",
       "      <td>NaN</td>\n",
       "      <td>NaN</td>\n",
       "      <td>NaN</td>\n",
       "      <td>NaN</td>\n",
       "    </tr>\n",
       "    <tr>\n",
       "      <th>3</th>\n",
       "      <td>tt0000005</td>\n",
       "      <td>nm0005690</td>\n",
       "      <td>NaN</td>\n",
       "      <td>short</td>\n",
       "      <td>Blacksmith Scene</td>\n",
       "      <td>Comedy,Short</td>\n",
       "      <td>actor</td>\n",
       "      <td>NaN</td>\n",
       "      <td>actor</td>\n",
       "      <td>tt0000005</td>\n",
       "    </tr>\n",
       "    <tr>\n",
       "      <th>6</th>\n",
       "      <td>tt0000006</td>\n",
       "      <td>nm0005690</td>\n",
       "      <td>NaN</td>\n",
       "      <td>short</td>\n",
       "      <td>Chinese Opium Den</td>\n",
       "      <td>Short</td>\n",
       "      <td>NaN</td>\n",
       "      <td>NaN</td>\n",
       "      <td>NaN</td>\n",
       "      <td>NaN</td>\n",
       "    </tr>\n",
       "  </tbody>\n",
       "</table>\n",
       "</div>"
      ],
      "text/plain": [
       "      tconst  directors writers titleType            primaryTitle  \\\n",
       "0  tt0000001  nm0005690     NaN     short              Carmencita   \n",
       "1  tt0000002  nm0721526     NaN     short  Le clown et ses chiens   \n",
       "2  tt0000005  nm0005690     NaN     short        Blacksmith Scene   \n",
       "3  tt0000005  nm0005690     NaN     short        Blacksmith Scene   \n",
       "6  tt0000006  nm0005690     NaN     short       Chinese Opium Den   \n",
       "\n",
       "              genres category  job primaryProfession knownForTitles  \n",
       "0  Documentary,Short      NaN  NaN               NaN            NaN  \n",
       "1    Animation,Short      NaN  NaN               NaN            NaN  \n",
       "2       Comedy,Short      NaN  NaN               NaN            NaN  \n",
       "3       Comedy,Short    actor  NaN             actor      tt0000005  \n",
       "6              Short      NaN  NaN               NaN            NaN  "
      ]
     },
     "execution_count": 11,
     "metadata": {},
     "output_type": "execute_result"
    }
   ],
   "source": [
    "df_cat.head()"
   ]
  },
  {
   "cell_type": "markdown",
   "id": "1baa0d00",
   "metadata": {},
   "source": [
    "#### Finding out the percentage of missing values in the categorical data set"
   ]
  },
  {
   "cell_type": "code",
   "execution_count": 12,
   "id": "fadd9b66",
   "metadata": {},
   "outputs": [],
   "source": [
    "percent_missing = df.isnull().sum() * 100 / len(df)\n",
    "missing_value_df = pd.DataFrame({'column_name': df.columns,\n",
    "                                 'percent_missing': percent_missing})"
   ]
  },
  {
   "cell_type": "code",
   "execution_count": 13,
   "id": "20531fe6",
   "metadata": {},
   "outputs": [],
   "source": [
    "missing_value_df.sort_values('percent_missing', inplace=True)"
   ]
  },
  {
   "cell_type": "code",
   "execution_count": 14,
   "id": "df752e2e",
   "metadata": {},
   "outputs": [
    {
     "data": {
      "text/html": [
       "<div>\n",
       "<style scoped>\n",
       "    .dataframe tbody tr th:only-of-type {\n",
       "        vertical-align: middle;\n",
       "    }\n",
       "\n",
       "    .dataframe tbody tr th {\n",
       "        vertical-align: top;\n",
       "    }\n",
       "\n",
       "    .dataframe thead th {\n",
       "        text-align: right;\n",
       "    }\n",
       "</style>\n",
       "<table border=\"1\" class=\"dataframe\">\n",
       "  <thead>\n",
       "    <tr style=\"text-align: right;\">\n",
       "      <th></th>\n",
       "      <th>column_name</th>\n",
       "      <th>percent_missing</th>\n",
       "    </tr>\n",
       "  </thead>\n",
       "  <tbody>\n",
       "    <tr>\n",
       "      <th>tconst</th>\n",
       "      <td>tconst</td>\n",
       "      <td>0.000000</td>\n",
       "    </tr>\n",
       "    <tr>\n",
       "      <th>titleType</th>\n",
       "      <td>titleType</td>\n",
       "      <td>0.000000</td>\n",
       "    </tr>\n",
       "    <tr>\n",
       "      <th>primaryTitle</th>\n",
       "      <td>primaryTitle</td>\n",
       "      <td>0.000000</td>\n",
       "    </tr>\n",
       "    <tr>\n",
       "      <th>isAdult</th>\n",
       "      <td>isAdult</td>\n",
       "      <td>0.000000</td>\n",
       "    </tr>\n",
       "    <tr>\n",
       "      <th>averageRating</th>\n",
       "      <td>averageRating</td>\n",
       "      <td>0.000000</td>\n",
       "    </tr>\n",
       "    <tr>\n",
       "      <th>numVotes</th>\n",
       "      <td>numVotes</td>\n",
       "      <td>0.000000</td>\n",
       "    </tr>\n",
       "    <tr>\n",
       "      <th>startYear</th>\n",
       "      <td>startYear</td>\n",
       "      <td>0.008539</td>\n",
       "    </tr>\n",
       "    <tr>\n",
       "      <th>genres</th>\n",
       "      <td>genres</td>\n",
       "      <td>1.280814</td>\n",
       "    </tr>\n",
       "    <tr>\n",
       "      <th>category</th>\n",
       "      <td>category</td>\n",
       "      <td>8.825305</td>\n",
       "    </tr>\n",
       "    <tr>\n",
       "      <th>directors</th>\n",
       "      <td>directors</td>\n",
       "      <td>8.849730</td>\n",
       "    </tr>\n",
       "    <tr>\n",
       "      <th>knownForTitles</th>\n",
       "      <td>knownForTitles</td>\n",
       "      <td>9.458563</td>\n",
       "    </tr>\n",
       "    <tr>\n",
       "      <th>primaryProfession</th>\n",
       "      <td>primaryProfession</td>\n",
       "      <td>11.769589</td>\n",
       "    </tr>\n",
       "    <tr>\n",
       "      <th>runtimeMinutes</th>\n",
       "      <td>runtimeMinutes</td>\n",
       "      <td>15.347329</td>\n",
       "    </tr>\n",
       "    <tr>\n",
       "      <th>writers</th>\n",
       "      <td>writers</td>\n",
       "      <td>17.698665</td>\n",
       "    </tr>\n",
       "    <tr>\n",
       "      <th>job</th>\n",
       "      <td>job</td>\n",
       "      <td>94.221642</td>\n",
       "    </tr>\n",
       "  </tbody>\n",
       "</table>\n",
       "</div>"
      ],
      "text/plain": [
       "                         column_name  percent_missing\n",
       "tconst                        tconst         0.000000\n",
       "titleType                  titleType         0.000000\n",
       "primaryTitle            primaryTitle         0.000000\n",
       "isAdult                      isAdult         0.000000\n",
       "averageRating          averageRating         0.000000\n",
       "numVotes                    numVotes         0.000000\n",
       "startYear                  startYear         0.008539\n",
       "genres                        genres         1.280814\n",
       "category                    category         8.825305\n",
       "directors                  directors         8.849730\n",
       "knownForTitles        knownForTitles         9.458563\n",
       "primaryProfession  primaryProfession        11.769589\n",
       "runtimeMinutes        runtimeMinutes        15.347329\n",
       "writers                      writers        17.698665\n",
       "job                              job        94.221642"
      ]
     },
     "execution_count": 14,
     "metadata": {},
     "output_type": "execute_result"
    }
   ],
   "source": [
    "missing_value_df"
   ]
  },
  {
   "cell_type": "code",
   "execution_count": 15,
   "id": "74f99be5",
   "metadata": {},
   "outputs": [],
   "source": [
    "df_cat['averageRating'] = df.loc[df_cat.index, 'averageRating'].copy()"
   ]
  },
  {
   "cell_type": "code",
   "execution_count": 16,
   "id": "d696df75",
   "metadata": {},
   "outputs": [
    {
     "data": {
      "image/png": "[encoded data removed]",
      "text/plain": [
       "<Figure size 432x288 with 1 Axes>"
      ]
     },
     "metadata": {
      "needs_background": "light"
     },
     "output_type": "display_data"
    }
   ],
   "source": [
    "ax = sns.boxplot(data = df_cat, x='titleType', y='averageRating')\n",
    "ax.set_xticklabels(ax.get_xticklabels(), rotation=15, ha=\"right\", fontsize=15)\n",
    "sns.set(rc={'figure.figsize':(21.7,8.27)})\n",
    "medians = df.groupby(['titleType'])['averageRating'].median()\n",
    "vertical_offset = df['averageRating'].median() * 0.001 # offset from median for display\n",
    "\n",
    "for xtick in ax.get_xticks():\n",
    "    ax.text(xtick,medians[xtick] + vertical_offset,medians[xtick], \n",
    "            horizontalalignment='center',size='x-small',color='w',weight='semibold')"
   ]
  },
  {
   "cell_type": "code",
   "execution_count": 17,
   "id": "ec56749e",
   "metadata": {},
   "outputs": [
    {
     "data": {
      "text/plain": [
       "12"
      ]
     },
     "execution_count": 17,
     "metadata": {},
     "output_type": "execute_result"
    }
   ],
   "source": [
    "df_cat['category'].nunique()"
   ]
  },
  {
   "cell_type": "code",
   "execution_count": 18,
   "id": "14f156da",
   "metadata": {},
   "outputs": [
    {
     "data": {
      "image/png": "[encoded data removed]",
      "text/plain": [
       "<Figure size 1562.4x595.44 with 1 Axes>"
      ]
     },
     "metadata": {},
     "output_type": "display_data"
    }
   ],
   "source": [
    "ax = sns.boxplot(data = df_cat, x='category', y='averageRating')\n",
    "ax.set_xticklabels(ax.get_xticklabels(), rotation=15, ha=\"right\", fontsize=15)\n",
    "sns.set(rc={'figure.figsize':(21.7,8.27)})\n",
    "medians = df.groupby(['category'])['averageRating'].median()\n",
    "vertical_offset = df['averageRating'].median() * 0.1 # offset from median for display\n",
    "\n",
    "for xtick in ax.get_xticks():\n",
    "    ax.text(xtick,medians[xtick] + vertical_offset,medians[xtick], \n",
    "            horizontalalignment='center',size='x-small',color='black',weight='semibold')"
   ]
  },
  {
   "cell_type": "markdown",
   "id": "a015cbfc",
   "metadata": {},
   "source": [
    "### Handling genre and knownfor title variable"
   ]
  },
  {
   "cell_type": "markdown",
   "id": "38808c35",
   "metadata": {},
   "source": [
    "#### Adding a varibale which has the total number of genres"
   ]
  },
  {
   "cell_type": "code",
   "execution_count": 19,
   "id": "03dfdb3c",
   "metadata": {},
   "outputs": [],
   "source": [
    "df['numberofgenre'] = df['genres'].str.count(',') + 1\n",
    "df['numberofwriters'] = df['writers'].str.count(',') + 1\n",
    "df['numberofdirectors'] = df['directors'].str.count(',') + 1"
   ]
  },
  {
   "cell_type": "markdown",
   "id": "a5737e52",
   "metadata": {},
   "source": [
    "#### An idea to give plus points if a title is known and does not match with tconst"
   ]
  },
  {
   "cell_type": "code",
   "execution_count": 20,
   "id": "25209ea2",
   "metadata": {},
   "outputs": [],
   "source": [
    "#df['Plus'] = df['tconst'] == df['knownForTitles']"
   ]
  },
  {
   "cell_type": "code",
   "execution_count": 21,
   "id": "ff25e2e1",
   "metadata": {},
   "outputs": [],
   "source": [
    "#df[(df['Plus'] == 'FALSE') & ( df['knownForTitles'].notnull())]"
   ]
  },
  {
   "cell_type": "markdown",
   "id": "fe912ad1",
   "metadata": {},
   "source": [
    "#### But there exists no records like that hence will convert knownForTitles as a flag"
   ]
  },
  {
   "cell_type": "code",
   "execution_count": 22,
   "id": "24414372",
   "metadata": {},
   "outputs": [],
   "source": [
    "df['knownForTitles'] = np.where(df['knownForTitles'].isnull(), 0, 100000)"
   ]
  },
  {
   "cell_type": "code",
   "execution_count": 23,
   "id": "beac4ade",
   "metadata": {},
   "outputs": [
    {
     "data": {
      "text/html": [
       "<div>\n",
       "<style scoped>\n",
       "    .dataframe tbody tr th:only-of-type {\n",
       "        vertical-align: middle;\n",
       "    }\n",
       "\n",
       "    .dataframe tbody tr th {\n",
       "        vertical-align: top;\n",
       "    }\n",
       "\n",
       "    .dataframe thead th {\n",
       "        text-align: right;\n",
       "    }\n",
       "</style>\n",
       "<table border=\"1\" class=\"dataframe\">\n",
       "  <thead>\n",
       "    <tr style=\"text-align: right;\">\n",
       "      <th></th>\n",
       "      <th>tconst</th>\n",
       "      <th>directors</th>\n",
       "      <th>writers</th>\n",
       "      <th>titleType</th>\n",
       "      <th>primaryTitle</th>\n",
       "      <th>isAdult</th>\n",
       "      <th>startYear</th>\n",
       "      <th>runtimeMinutes</th>\n",
       "      <th>genres</th>\n",
       "      <th>category</th>\n",
       "      <th>job</th>\n",
       "      <th>primaryProfession</th>\n",
       "      <th>knownForTitles</th>\n",
       "      <th>averageRating</th>\n",
       "      <th>numVotes</th>\n",
       "      <th>numberofgenre</th>\n",
       "      <th>numberofwriters</th>\n",
       "      <th>numberofdirectors</th>\n",
       "    </tr>\n",
       "  </thead>\n",
       "  <tbody>\n",
       "    <tr>\n",
       "      <th>0</th>\n",
       "      <td>tt0000001</td>\n",
       "      <td>nm0005690</td>\n",
       "      <td>NaN</td>\n",
       "      <td>short</td>\n",
       "      <td>Carmencita</td>\n",
       "      <td>0</td>\n",
       "      <td>1894.0</td>\n",
       "      <td>1.0</td>\n",
       "      <td>Documentary,Short</td>\n",
       "      <td>NaN</td>\n",
       "      <td>NaN</td>\n",
       "      <td>NaN</td>\n",
       "      <td>0</td>\n",
       "      <td>5.7</td>\n",
       "      <td>1858</td>\n",
       "      <td>2.0</td>\n",
       "      <td>NaN</td>\n",
       "      <td>1.0</td>\n",
       "    </tr>\n",
       "    <tr>\n",
       "      <th>1</th>\n",
       "      <td>tt0000002</td>\n",
       "      <td>nm0721526</td>\n",
       "      <td>NaN</td>\n",
       "      <td>short</td>\n",
       "      <td>Le clown et ses chiens</td>\n",
       "      <td>0</td>\n",
       "      <td>1892.0</td>\n",
       "      <td>5.0</td>\n",
       "      <td>Animation,Short</td>\n",
       "      <td>NaN</td>\n",
       "      <td>NaN</td>\n",
       "      <td>NaN</td>\n",
       "      <td>0</td>\n",
       "      <td>6.0</td>\n",
       "      <td>243</td>\n",
       "      <td>2.0</td>\n",
       "      <td>NaN</td>\n",
       "      <td>1.0</td>\n",
       "    </tr>\n",
       "    <tr>\n",
       "      <th>2</th>\n",
       "      <td>tt0000005</td>\n",
       "      <td>nm0005690</td>\n",
       "      <td>NaN</td>\n",
       "      <td>short</td>\n",
       "      <td>Blacksmith Scene</td>\n",
       "      <td>0</td>\n",
       "      <td>1893.0</td>\n",
       "      <td>1.0</td>\n",
       "      <td>Comedy,Short</td>\n",
       "      <td>NaN</td>\n",
       "      <td>NaN</td>\n",
       "      <td>NaN</td>\n",
       "      <td>0</td>\n",
       "      <td>6.2</td>\n",
       "      <td>2455</td>\n",
       "      <td>2.0</td>\n",
       "      <td>NaN</td>\n",
       "      <td>1.0</td>\n",
       "    </tr>\n",
       "    <tr>\n",
       "      <th>3</th>\n",
       "      <td>tt0000005</td>\n",
       "      <td>nm0005690</td>\n",
       "      <td>NaN</td>\n",
       "      <td>short</td>\n",
       "      <td>Blacksmith Scene</td>\n",
       "      <td>0</td>\n",
       "      <td>1893.0</td>\n",
       "      <td>1.0</td>\n",
       "      <td>Comedy,Short</td>\n",
       "      <td>actor</td>\n",
       "      <td>NaN</td>\n",
       "      <td>actor</td>\n",
       "      <td>100000</td>\n",
       "      <td>6.2</td>\n",
       "      <td>2455</td>\n",
       "      <td>2.0</td>\n",
       "      <td>NaN</td>\n",
       "      <td>1.0</td>\n",
       "    </tr>\n",
       "    <tr>\n",
       "      <th>6</th>\n",
       "      <td>tt0000006</td>\n",
       "      <td>nm0005690</td>\n",
       "      <td>NaN</td>\n",
       "      <td>short</td>\n",
       "      <td>Chinese Opium Den</td>\n",
       "      <td>0</td>\n",
       "      <td>1894.0</td>\n",
       "      <td>1.0</td>\n",
       "      <td>Short</td>\n",
       "      <td>NaN</td>\n",
       "      <td>NaN</td>\n",
       "      <td>NaN</td>\n",
       "      <td>0</td>\n",
       "      <td>5.2</td>\n",
       "      <td>163</td>\n",
       "      <td>1.0</td>\n",
       "      <td>NaN</td>\n",
       "      <td>1.0</td>\n",
       "    </tr>\n",
       "  </tbody>\n",
       "</table>\n",
       "</div>"
      ],
      "text/plain": [
       "      tconst  directors writers titleType            primaryTitle isAdult  \\\n",
       "0  tt0000001  nm0005690     NaN     short              Carmencita       0   \n",
       "1  tt0000002  nm0721526     NaN     short  Le clown et ses chiens       0   \n",
       "2  tt0000005  nm0005690     NaN     short        Blacksmith Scene       0   \n",
       "3  tt0000005  nm0005690     NaN     short        Blacksmith Scene       0   \n",
       "6  tt0000006  nm0005690     NaN     short       Chinese Opium Den       0   \n",
       "\n",
       "   startYear  runtimeMinutes             genres category  job  \\\n",
       "0     1894.0             1.0  Documentary,Short      NaN  NaN   \n",
       "1     1892.0             5.0    Animation,Short      NaN  NaN   \n",
       "2     1893.0             1.0       Comedy,Short      NaN  NaN   \n",
       "3     1893.0             1.0       Comedy,Short    actor  NaN   \n",
       "6     1894.0             1.0              Short      NaN  NaN   \n",
       "\n",
       "  primaryProfession  knownForTitles  averageRating  numVotes  numberofgenre  \\\n",
       "0               NaN               0            5.7      1858            2.0   \n",
       "1               NaN               0            6.0       243            2.0   \n",
       "2               NaN               0            6.2      2455            2.0   \n",
       "3             actor          100000            6.2      2455            2.0   \n",
       "6               NaN               0            5.2       163            1.0   \n",
       "\n",
       "   numberofwriters  numberofdirectors  \n",
       "0              NaN                1.0  \n",
       "1              NaN                1.0  \n",
       "2              NaN                1.0  \n",
       "3              NaN                1.0  \n",
       "6              NaN                1.0  "
      ]
     },
     "execution_count": 23,
     "metadata": {},
     "output_type": "execute_result"
    }
   ],
   "source": [
    "df.head()"
   ]
  },
  {
   "cell_type": "code",
   "execution_count": 24,
   "id": "a8acd478",
   "metadata": {},
   "outputs": [
    {
     "data": {
      "text/html": [
       "<div>\n",
       "<style scoped>\n",
       "    .dataframe tbody tr th:only-of-type {\n",
       "        vertical-align: middle;\n",
       "    }\n",
       "\n",
       "    .dataframe tbody tr th {\n",
       "        vertical-align: top;\n",
       "    }\n",
       "\n",
       "    .dataframe thead th {\n",
       "        text-align: right;\n",
       "    }\n",
       "</style>\n",
       "<table border=\"1\" class=\"dataframe\">\n",
       "  <thead>\n",
       "    <tr style=\"text-align: right;\">\n",
       "      <th></th>\n",
       "      <th>column_name</th>\n",
       "      <th>percent_missing</th>\n",
       "    </tr>\n",
       "  </thead>\n",
       "  <tbody>\n",
       "    <tr>\n",
       "      <th>tconst</th>\n",
       "      <td>tconst</td>\n",
       "      <td>0.000000</td>\n",
       "    </tr>\n",
       "    <tr>\n",
       "      <th>numVotes</th>\n",
       "      <td>numVotes</td>\n",
       "      <td>0.000000</td>\n",
       "    </tr>\n",
       "    <tr>\n",
       "      <th>titleType</th>\n",
       "      <td>titleType</td>\n",
       "      <td>0.000000</td>\n",
       "    </tr>\n",
       "    <tr>\n",
       "      <th>primaryTitle</th>\n",
       "      <td>primaryTitle</td>\n",
       "      <td>0.000000</td>\n",
       "    </tr>\n",
       "    <tr>\n",
       "      <th>isAdult</th>\n",
       "      <td>isAdult</td>\n",
       "      <td>0.000000</td>\n",
       "    </tr>\n",
       "    <tr>\n",
       "      <th>averageRating</th>\n",
       "      <td>averageRating</td>\n",
       "      <td>0.000000</td>\n",
       "    </tr>\n",
       "    <tr>\n",
       "      <th>knownForTitles</th>\n",
       "      <td>knownForTitles</td>\n",
       "      <td>0.000000</td>\n",
       "    </tr>\n",
       "    <tr>\n",
       "      <th>startYear</th>\n",
       "      <td>startYear</td>\n",
       "      <td>0.008539</td>\n",
       "    </tr>\n",
       "    <tr>\n",
       "      <th>numberofgenre</th>\n",
       "      <td>numberofgenre</td>\n",
       "      <td>1.280814</td>\n",
       "    </tr>\n",
       "    <tr>\n",
       "      <th>genres</th>\n",
       "      <td>genres</td>\n",
       "      <td>1.280814</td>\n",
       "    </tr>\n",
       "    <tr>\n",
       "      <th>category</th>\n",
       "      <td>category</td>\n",
       "      <td>8.825305</td>\n",
       "    </tr>\n",
       "    <tr>\n",
       "      <th>directors</th>\n",
       "      <td>directors</td>\n",
       "      <td>8.849730</td>\n",
       "    </tr>\n",
       "    <tr>\n",
       "      <th>numberofdirectors</th>\n",
       "      <td>numberofdirectors</td>\n",
       "      <td>8.849730</td>\n",
       "    </tr>\n",
       "    <tr>\n",
       "      <th>primaryProfession</th>\n",
       "      <td>primaryProfession</td>\n",
       "      <td>11.769589</td>\n",
       "    </tr>\n",
       "    <tr>\n",
       "      <th>runtimeMinutes</th>\n",
       "      <td>runtimeMinutes</td>\n",
       "      <td>15.347329</td>\n",
       "    </tr>\n",
       "    <tr>\n",
       "      <th>numberofwriters</th>\n",
       "      <td>numberofwriters</td>\n",
       "      <td>17.698665</td>\n",
       "    </tr>\n",
       "    <tr>\n",
       "      <th>writers</th>\n",
       "      <td>writers</td>\n",
       "      <td>17.698665</td>\n",
       "    </tr>\n",
       "    <tr>\n",
       "      <th>job</th>\n",
       "      <td>job</td>\n",
       "      <td>94.221642</td>\n",
       "    </tr>\n",
       "  </tbody>\n",
       "</table>\n",
       "</div>"
      ],
      "text/plain": [
       "                         column_name  percent_missing\n",
       "tconst                        tconst         0.000000\n",
       "numVotes                    numVotes         0.000000\n",
       "titleType                  titleType         0.000000\n",
       "primaryTitle            primaryTitle         0.000000\n",
       "isAdult                      isAdult         0.000000\n",
       "averageRating          averageRating         0.000000\n",
       "knownForTitles        knownForTitles         0.000000\n",
       "startYear                  startYear         0.008539\n",
       "numberofgenre          numberofgenre         1.280814\n",
       "genres                        genres         1.280814\n",
       "category                    category         8.825305\n",
       "directors                  directors         8.849730\n",
       "numberofdirectors  numberofdirectors         8.849730\n",
       "primaryProfession  primaryProfession        11.769589\n",
       "runtimeMinutes        runtimeMinutes        15.347329\n",
       "numberofwriters      numberofwriters        17.698665\n",
       "writers                      writers        17.698665\n",
       "job                              job        94.221642"
      ]
     },
     "execution_count": 24,
     "metadata": {},
     "output_type": "execute_result"
    }
   ],
   "source": [
    "percent_missing = df.isnull().sum() * 100 / len(df)\n",
    "missing_value_df = pd.DataFrame({'column_name': df.columns,\n",
    "                                 'percent_missing': percent_missing})\n",
    "missing_value_df.sort_values('percent_missing', inplace=True)\n",
    "missing_value_df"
   ]
  },
  {
   "cell_type": "markdown",
   "id": "9655b767",
   "metadata": {},
   "source": [
    "## Tackling Null Values\n",
    "1) Will be dropping the column of **job** (has 94% missing values)and **primary profession**(since we alredy have category which talks about similar info)\n",
    "\n",
    "2) will be filtering for data where **genre** and **startyear** is not null since it is like 1% of the data\n",
    "\n",
    "3) Will have highest freq values for **directors**,**writers** and **category** and median value for **runtimeMinutes**"
   ]
  },
  {
   "cell_type": "code",
   "execution_count": 25,
   "id": "d35b75dc",
   "metadata": {},
   "outputs": [],
   "source": [
    "df = df[df['genres'].notnull()]"
   ]
  },
  {
   "cell_type": "code",
   "execution_count": 26,
   "id": "07f27ac1",
   "metadata": {},
   "outputs": [],
   "source": [
    "df = df[df['startYear'].notnull()]"
   ]
  },
  {
   "cell_type": "code",
   "execution_count": 27,
   "id": "92c73c54",
   "metadata": {},
   "outputs": [],
   "source": [
    "df = df.drop(['job'], axis=1)"
   ]
  },
  {
   "cell_type": "code",
   "execution_count": 28,
   "id": "8413af18",
   "metadata": {},
   "outputs": [],
   "source": [
    "df = df.drop(['primaryProfession'], axis=1)"
   ]
  },
  {
   "cell_type": "code",
   "execution_count": 29,
   "id": "6a9ac91f",
   "metadata": {},
   "outputs": [],
   "source": [
    "s = df.directors.value_counts(normalize=True)\n",
    "df.loc[df.directors.isna(), 'directors'] = np.random.choice(s.index, p=s.values, size=df.directors.isna().sum())"
   ]
  },
  {
   "cell_type": "code",
   "execution_count": 30,
   "id": "b33ef17d",
   "metadata": {},
   "outputs": [],
   "source": [
    "s = df.writers.value_counts(normalize=True)\n",
    "df.loc[df.writers.isna(), 'writers'] = np.random.choice(s.index, p=s.values, size=df.writers.isna().sum())"
   ]
  },
  {
   "cell_type": "code",
   "execution_count": 31,
   "id": "9fdb71f8",
   "metadata": {},
   "outputs": [],
   "source": [
    "s = df.category.value_counts(normalize=True)\n",
    "df.loc[df.category.isna(), 'category'] = np.random.choice(s.index, p=s.values, size=df.category.isna().sum())"
   ]
  },
  {
   "cell_type": "code",
   "execution_count": 32,
   "id": "4efeb08b",
   "metadata": {},
   "outputs": [],
   "source": [
    "df['runtimeMinutes'] = df['runtimeMinutes'].fillna(df['runtimeMinutes'].median())"
   ]
  },
  {
   "cell_type": "code",
   "execution_count": 33,
   "id": "cca98eaa",
   "metadata": {},
   "outputs": [
    {
     "data": {
      "text/html": [
       "<div>\n",
       "<style scoped>\n",
       "    .dataframe tbody tr th:only-of-type {\n",
       "        vertical-align: middle;\n",
       "    }\n",
       "\n",
       "    .dataframe tbody tr th {\n",
       "        vertical-align: top;\n",
       "    }\n",
       "\n",
       "    .dataframe thead th {\n",
       "        text-align: right;\n",
       "    }\n",
       "</style>\n",
       "<table border=\"1\" class=\"dataframe\">\n",
       "  <thead>\n",
       "    <tr style=\"text-align: right;\">\n",
       "      <th></th>\n",
       "      <th>tconst</th>\n",
       "      <th>directors</th>\n",
       "      <th>writers</th>\n",
       "      <th>titleType</th>\n",
       "      <th>primaryTitle</th>\n",
       "      <th>isAdult</th>\n",
       "      <th>startYear</th>\n",
       "      <th>runtimeMinutes</th>\n",
       "      <th>genres</th>\n",
       "      <th>category</th>\n",
       "      <th>knownForTitles</th>\n",
       "      <th>averageRating</th>\n",
       "      <th>numVotes</th>\n",
       "      <th>numberofgenre</th>\n",
       "      <th>numberofwriters</th>\n",
       "      <th>numberofdirectors</th>\n",
       "    </tr>\n",
       "  </thead>\n",
       "  <tbody>\n",
       "    <tr>\n",
       "      <th>0</th>\n",
       "      <td>tt0000001</td>\n",
       "      <td>nm0005690</td>\n",
       "      <td>nm0996527,nm1834436,nm0255878,nm0657632,nm1602559</td>\n",
       "      <td>short</td>\n",
       "      <td>Carmencita</td>\n",
       "      <td>0</td>\n",
       "      <td>1894.0</td>\n",
       "      <td>1.0</td>\n",
       "      <td>Documentary,Short</td>\n",
       "      <td>actress</td>\n",
       "      <td>0</td>\n",
       "      <td>5.7</td>\n",
       "      <td>1858</td>\n",
       "      <td>2</td>\n",
       "      <td>5</td>\n",
       "      <td>1</td>\n",
       "    </tr>\n",
       "    <tr>\n",
       "      <th>1</th>\n",
       "      <td>tt0000002</td>\n",
       "      <td>nm0721526</td>\n",
       "      <td>nm0564969</td>\n",
       "      <td>short</td>\n",
       "      <td>Le clown et ses chiens</td>\n",
       "      <td>0</td>\n",
       "      <td>1892.0</td>\n",
       "      <td>5.0</td>\n",
       "      <td>Animation,Short</td>\n",
       "      <td>actor</td>\n",
       "      <td>0</td>\n",
       "      <td>6.0</td>\n",
       "      <td>243</td>\n",
       "      <td>2</td>\n",
       "      <td>1</td>\n",
       "      <td>1</td>\n",
       "    </tr>\n",
       "    <tr>\n",
       "      <th>2</th>\n",
       "      <td>tt0000005</td>\n",
       "      <td>nm0005690</td>\n",
       "      <td>nm9870567,nm9870570,nm9870569,nm9894796,nm9870...</td>\n",
       "      <td>short</td>\n",
       "      <td>Blacksmith Scene</td>\n",
       "      <td>0</td>\n",
       "      <td>1893.0</td>\n",
       "      <td>1.0</td>\n",
       "      <td>Comedy,Short</td>\n",
       "      <td>actor</td>\n",
       "      <td>0</td>\n",
       "      <td>6.2</td>\n",
       "      <td>2455</td>\n",
       "      <td>2</td>\n",
       "      <td>12</td>\n",
       "      <td>1</td>\n",
       "    </tr>\n",
       "    <tr>\n",
       "      <th>3</th>\n",
       "      <td>tt0000005</td>\n",
       "      <td>nm0005690</td>\n",
       "      <td>nm5168046,nm0577263</td>\n",
       "      <td>short</td>\n",
       "      <td>Blacksmith Scene</td>\n",
       "      <td>0</td>\n",
       "      <td>1893.0</td>\n",
       "      <td>1.0</td>\n",
       "      <td>Comedy,Short</td>\n",
       "      <td>actor</td>\n",
       "      <td>100000</td>\n",
       "      <td>6.2</td>\n",
       "      <td>2455</td>\n",
       "      <td>2</td>\n",
       "      <td>2</td>\n",
       "      <td>1</td>\n",
       "    </tr>\n",
       "    <tr>\n",
       "      <th>6</th>\n",
       "      <td>tt0000006</td>\n",
       "      <td>nm0005690</td>\n",
       "      <td>nm0695292,nm0364668,nm0107130</td>\n",
       "      <td>short</td>\n",
       "      <td>Chinese Opium Den</td>\n",
       "      <td>0</td>\n",
       "      <td>1894.0</td>\n",
       "      <td>1.0</td>\n",
       "      <td>Short</td>\n",
       "      <td>actor</td>\n",
       "      <td>0</td>\n",
       "      <td>5.2</td>\n",
       "      <td>163</td>\n",
       "      <td>1</td>\n",
       "      <td>3</td>\n",
       "      <td>1</td>\n",
       "    </tr>\n",
       "  </tbody>\n",
       "</table>\n",
       "</div>"
      ],
      "text/plain": [
       "      tconst  directors                                            writers  \\\n",
       "0  tt0000001  nm0005690  nm0996527,nm1834436,nm0255878,nm0657632,nm1602559   \n",
       "1  tt0000002  nm0721526                                          nm0564969   \n",
       "2  tt0000005  nm0005690  nm9870567,nm9870570,nm9870569,nm9894796,nm9870...   \n",
       "3  tt0000005  nm0005690                                nm5168046,nm0577263   \n",
       "6  tt0000006  nm0005690                      nm0695292,nm0364668,nm0107130   \n",
       "\n",
       "  titleType            primaryTitle isAdult  startYear  runtimeMinutes  \\\n",
       "0     short              Carmencita       0     1894.0             1.0   \n",
       "1     short  Le clown et ses chiens       0     1892.0             5.0   \n",
       "2     short        Blacksmith Scene       0     1893.0             1.0   \n",
       "3     short        Blacksmith Scene       0     1893.0             1.0   \n",
       "6     short       Chinese Opium Den       0     1894.0             1.0   \n",
       "\n",
       "              genres category  knownForTitles  averageRating  numVotes  \\\n",
       "0  Documentary,Short  actress               0            5.7      1858   \n",
       "1    Animation,Short    actor               0            6.0       243   \n",
       "2       Comedy,Short    actor               0            6.2      2455   \n",
       "3       Comedy,Short    actor          100000            6.2      2455   \n",
       "6              Short    actor               0            5.2       163   \n",
       "\n",
       "   numberofgenre  numberofwriters  numberofdirectors  \n",
       "0              2                5                  1  \n",
       "1              2                1                  1  \n",
       "2              2               12                  1  \n",
       "3              2                2                  1  \n",
       "6              1                3                  1  "
      ]
     },
     "execution_count": 33,
     "metadata": {},
     "output_type": "execute_result"
    }
   ],
   "source": [
    "df['numberofgenre'] = df['genres'].str.count(',') + 1\n",
    "df['numberofwriters'] = df['writers'].str.count(',') + 1\n",
    "df['numberofdirectors'] = df['directors'].str.count(',') + 1\n",
    "df.head()"
   ]
  },
  {
   "cell_type": "code",
   "execution_count": 34,
   "id": "b102579a",
   "metadata": {},
   "outputs": [],
   "source": [
    "genres_lists = df.genres.str.split(',')        \n",
    "df.genres = genres_lists \n",
    "df = df.explode('genres')"
   ]
  },
  {
   "cell_type": "code",
   "execution_count": 35,
   "id": "1559f311",
   "metadata": {},
   "outputs": [],
   "source": [
    "#directors_lists = df.directors.str.split(',')        \n",
    "#df.directors = directors_lists \n",
    "#df = df.explode('directors')"
   ]
  },
  {
   "cell_type": "code",
   "execution_count": 36,
   "id": "ee5f9780",
   "metadata": {},
   "outputs": [],
   "source": [
    "#writers_lists = df.writers.str.split(',')        \n",
    "#df.writers = writers_lists \n",
    "#df = df.explode('writers')"
   ]
  },
  {
   "cell_type": "markdown",
   "id": "e6aab525",
   "metadata": {},
   "source": [
    "### Handling of categorical variables before we start to model \n",
    "1) Use Target Encoding for **titleType** and **category**\n",
    "\n",
    "\n",
    "2) Use Frequency Encoding for **primaryTitle** and **genres**"
   ]
  },
  {
   "cell_type": "code",
   "execution_count": 35,
   "id": "b631ee9a",
   "metadata": {},
   "outputs": [
    {
     "data": {
      "text/plain": [
       "array(['short', 'movie', 'tvEpisode', 'tvSeries', 'tvMovie', 'tvShort',\n",
       "       'tvMiniSeries', 'tvSpecial', 'video', 'videoGame'], dtype=object)"
      ]
     },
     "execution_count": 35,
     "metadata": {},
     "output_type": "execute_result"
    }
   ],
   "source": [
    "df['titleType'].unique()"
   ]
  },
  {
   "cell_type": "code",
   "execution_count": 36,
   "id": "25634f09",
   "metadata": {},
   "outputs": [],
   "source": [
    "encodings = df.groupby('titleType')['averageRating'].mean().reset_index()\n",
    "df = df.merge(encodings, how='left', on='titleType')\n",
    "df.drop('titleType', axis=1, inplace=True)"
   ]
  },
  {
   "cell_type": "code",
   "execution_count": 37,
   "id": "7dbcd27c",
   "metadata": {},
   "outputs": [],
   "source": [
    "df.rename(columns={'averageRating_x':'target_variable'}, inplace=True)"
   ]
  },
  {
   "cell_type": "code",
   "execution_count": 38,
   "id": "2bc35966",
   "metadata": {},
   "outputs": [],
   "source": [
    "df.rename(columns={'averageRating_y':'titleType'}, inplace=True)"
   ]
  },
  {
   "cell_type": "code",
   "execution_count": 39,
   "id": "d3f7570b",
   "metadata": {},
   "outputs": [],
   "source": [
    "encodings = df.groupby('category')['target_variable'].mean().reset_index()\n",
    "df = df.merge(encodings, how='left', on='category')\n",
    "df.drop('category', axis=1, inplace=True)"
   ]
  },
  {
   "cell_type": "code",
   "execution_count": 40,
   "id": "4c790dfe",
   "metadata": {},
   "outputs": [],
   "source": [
    "df.rename(columns={'target_variable_x':'target_variable'}, inplace=True)\n",
    "df.rename(columns={'target_variable_y':'category'}, inplace=True)"
   ]
  },
  {
   "cell_type": "code",
   "execution_count": 41,
   "id": "a9aac584",
   "metadata": {},
   "outputs": [],
   "source": [
    "encodings = df.groupby('genres')['target_variable'].mean().reset_index()\n",
    "df = df.merge(encodings, how='left', on='genres')\n",
    "df.drop('genres', axis=1, inplace=True)"
   ]
  },
  {
   "cell_type": "code",
   "execution_count": 42,
   "id": "db9dfe4e",
   "metadata": {},
   "outputs": [],
   "source": [
    "df.rename(columns={'target_variable_x':'target_variable'}, inplace=True)\n",
    "df.rename(columns={'target_variable_y':'genres'}, inplace=True)"
   ]
  },
  {
   "cell_type": "code",
   "execution_count": 43,
   "id": "15ee6566",
   "metadata": {},
   "outputs": [
    {
     "data": {
      "text/html": [
       "<div>\n",
       "<style scoped>\n",
       "    .dataframe tbody tr th:only-of-type {\n",
       "        vertical-align: middle;\n",
       "    }\n",
       "\n",
       "    .dataframe tbody tr th {\n",
       "        vertical-align: top;\n",
       "    }\n",
       "\n",
       "    .dataframe thead th {\n",
       "        text-align: right;\n",
       "    }\n",
       "</style>\n",
       "<table border=\"1\" class=\"dataframe\">\n",
       "  <thead>\n",
       "    <tr style=\"text-align: right;\">\n",
       "      <th></th>\n",
       "      <th>tconst</th>\n",
       "      <th>directors</th>\n",
       "      <th>writers</th>\n",
       "      <th>primaryTitle</th>\n",
       "      <th>isAdult</th>\n",
       "      <th>startYear</th>\n",
       "      <th>runtimeMinutes</th>\n",
       "      <th>knownForTitles</th>\n",
       "      <th>target_variable</th>\n",
       "      <th>numVotes</th>\n",
       "      <th>numberofgenre</th>\n",
       "      <th>numberofwriters</th>\n",
       "      <th>numberofdirectors</th>\n",
       "      <th>titleType</th>\n",
       "      <th>category</th>\n",
       "      <th>genres</th>\n",
       "    </tr>\n",
       "  </thead>\n",
       "  <tbody>\n",
       "    <tr>\n",
       "      <th>0</th>\n",
       "      <td>tt0000001</td>\n",
       "      <td>nm0005690</td>\n",
       "      <td>nm0996527,nm1834436,nm0255878,nm0657632,nm1602559</td>\n",
       "      <td>Carmencita</td>\n",
       "      <td>0</td>\n",
       "      <td>1894.0</td>\n",
       "      <td>1.0</td>\n",
       "      <td>0</td>\n",
       "      <td>5.7</td>\n",
       "      <td>1858</td>\n",
       "      <td>2</td>\n",
       "      <td>5</td>\n",
       "      <td>1</td>\n",
       "      <td>6.786916</td>\n",
       "      <td>6.724855</td>\n",
       "      <td>7.062045</td>\n",
       "    </tr>\n",
       "    <tr>\n",
       "      <th>1</th>\n",
       "      <td>tt0000001</td>\n",
       "      <td>nm0005690</td>\n",
       "      <td>nm0996527,nm1834436,nm0255878,nm0657632,nm1602559</td>\n",
       "      <td>Carmencita</td>\n",
       "      <td>0</td>\n",
       "      <td>1894.0</td>\n",
       "      <td>1.0</td>\n",
       "      <td>0</td>\n",
       "      <td>5.7</td>\n",
       "      <td>1858</td>\n",
       "      <td>2</td>\n",
       "      <td>5</td>\n",
       "      <td>1</td>\n",
       "      <td>6.786916</td>\n",
       "      <td>6.724855</td>\n",
       "      <td>6.745376</td>\n",
       "    </tr>\n",
       "    <tr>\n",
       "      <th>2</th>\n",
       "      <td>tt0000002</td>\n",
       "      <td>nm0721526</td>\n",
       "      <td>nm0564969</td>\n",
       "      <td>Le clown et ses chiens</td>\n",
       "      <td>0</td>\n",
       "      <td>1892.0</td>\n",
       "      <td>5.0</td>\n",
       "      <td>0</td>\n",
       "      <td>6.0</td>\n",
       "      <td>243</td>\n",
       "      <td>2</td>\n",
       "      <td>1</td>\n",
       "      <td>1</td>\n",
       "      <td>6.786916</td>\n",
       "      <td>6.890128</td>\n",
       "      <td>6.850404</td>\n",
       "    </tr>\n",
       "    <tr>\n",
       "      <th>3</th>\n",
       "      <td>tt0000002</td>\n",
       "      <td>nm0721526</td>\n",
       "      <td>nm0564969</td>\n",
       "      <td>Le clown et ses chiens</td>\n",
       "      <td>0</td>\n",
       "      <td>1892.0</td>\n",
       "      <td>5.0</td>\n",
       "      <td>0</td>\n",
       "      <td>6.0</td>\n",
       "      <td>243</td>\n",
       "      <td>2</td>\n",
       "      <td>1</td>\n",
       "      <td>1</td>\n",
       "      <td>6.786916</td>\n",
       "      <td>6.890128</td>\n",
       "      <td>6.745376</td>\n",
       "    </tr>\n",
       "    <tr>\n",
       "      <th>4</th>\n",
       "      <td>tt0000005</td>\n",
       "      <td>nm0005690</td>\n",
       "      <td>nm9870567,nm9870570,nm9870569,nm9894796,nm9870...</td>\n",
       "      <td>Blacksmith Scene</td>\n",
       "      <td>0</td>\n",
       "      <td>1893.0</td>\n",
       "      <td>1.0</td>\n",
       "      <td>0</td>\n",
       "      <td>6.2</td>\n",
       "      <td>2455</td>\n",
       "      <td>2</td>\n",
       "      <td>12</td>\n",
       "      <td>1</td>\n",
       "      <td>6.786916</td>\n",
       "      <td>6.890128</td>\n",
       "      <td>6.758290</td>\n",
       "    </tr>\n",
       "  </tbody>\n",
       "</table>\n",
       "</div>"
      ],
      "text/plain": [
       "      tconst  directors                                            writers  \\\n",
       "0  tt0000001  nm0005690  nm0996527,nm1834436,nm0255878,nm0657632,nm1602559   \n",
       "1  tt0000001  nm0005690  nm0996527,nm1834436,nm0255878,nm0657632,nm1602559   \n",
       "2  tt0000002  nm0721526                                          nm0564969   \n",
       "3  tt0000002  nm0721526                                          nm0564969   \n",
       "4  tt0000005  nm0005690  nm9870567,nm9870570,nm9870569,nm9894796,nm9870...   \n",
       "\n",
       "             primaryTitle isAdult  startYear  runtimeMinutes  knownForTitles  \\\n",
       "0              Carmencita       0     1894.0             1.0               0   \n",
       "1              Carmencita       0     1894.0             1.0               0   \n",
       "2  Le clown et ses chiens       0     1892.0             5.0               0   \n",
       "3  Le clown et ses chiens       0     1892.0             5.0               0   \n",
       "4        Blacksmith Scene       0     1893.0             1.0               0   \n",
       "\n",
       "   target_variable  numVotes  numberofgenre  numberofwriters  \\\n",
       "0              5.7      1858              2                5   \n",
       "1              5.7      1858              2                5   \n",
       "2              6.0       243              2                1   \n",
       "3              6.0       243              2                1   \n",
       "4              6.2      2455              2               12   \n",
       "\n",
       "   numberofdirectors  titleType  category    genres  \n",
       "0                  1   6.786916  6.724855  7.062045  \n",
       "1                  1   6.786916  6.724855  6.745376  \n",
       "2                  1   6.786916  6.890128  6.850404  \n",
       "3                  1   6.786916  6.890128  6.745376  \n",
       "4                  1   6.786916  6.890128  6.758290  "
      ]
     },
     "execution_count": 43,
     "metadata": {},
     "output_type": "execute_result"
    }
   ],
   "source": [
    "df.head()"
   ]
  },
  {
   "cell_type": "code",
   "execution_count": 44,
   "id": "aca1ee74",
   "metadata": {},
   "outputs": [],
   "source": [
    "#pip install feature-engine"
   ]
  },
  {
   "cell_type": "code",
   "execution_count": 45,
   "id": "837ed42f",
   "metadata": {},
   "outputs": [
    {
     "data": {
      "text/plain": [
       "CountFrequencyEncoder(encoding_method='frequency', variables=['primaryTitle'])"
      ]
     },
     "execution_count": 45,
     "metadata": {},
     "output_type": "execute_result"
    }
   ],
   "source": [
    "from feature_engine.encoding import CountFrequencyEncoder\n",
    "encoder = CountFrequencyEncoder(encoding_method='frequency',\n",
    "                         variables=['primaryTitle'])\n",
    "encoder.fit(df)"
   ]
  },
  {
   "cell_type": "code",
   "execution_count": 46,
   "id": "4c024664",
   "metadata": {},
   "outputs": [],
   "source": [
    "df= encoder.transform(df)"
   ]
  },
  {
   "cell_type": "code",
   "execution_count": 47,
   "id": "7b13cb43",
   "metadata": {},
   "outputs": [],
   "source": [
    "df['primaryTitle'] = (df['primaryTitle'] - df['primaryTitle'].min()) / (df['primaryTitle'].max() - df['primaryTitle'].min())\n",
    "#df['directors'] = (df['directors'] - df['directors'].min()) / (df['directors'].max() - df['directors'].min())\n",
    "#df['writers'] = (df['writers'] - df['writers'].min()) / (df['writers'].max() - df['writers'].min())\n"
   ]
  },
  {
   "cell_type": "code",
   "execution_count": 48,
   "id": "7f646103",
   "metadata": {},
   "outputs": [
    {
     "data": {
      "text/html": [
       "<div>\n",
       "<style scoped>\n",
       "    .dataframe tbody tr th:only-of-type {\n",
       "        vertical-align: middle;\n",
       "    }\n",
       "\n",
       "    .dataframe tbody tr th {\n",
       "        vertical-align: top;\n",
       "    }\n",
       "\n",
       "    .dataframe thead th {\n",
       "        text-align: right;\n",
       "    }\n",
       "</style>\n",
       "<table border=\"1\" class=\"dataframe\">\n",
       "  <thead>\n",
       "    <tr style=\"text-align: right;\">\n",
       "      <th></th>\n",
       "      <th>tconst</th>\n",
       "      <th>directors</th>\n",
       "      <th>writers</th>\n",
       "      <th>primaryTitle</th>\n",
       "      <th>isAdult</th>\n",
       "      <th>startYear</th>\n",
       "      <th>runtimeMinutes</th>\n",
       "      <th>knownForTitles</th>\n",
       "      <th>target_variable</th>\n",
       "      <th>numVotes</th>\n",
       "      <th>numberofgenre</th>\n",
       "      <th>numberofwriters</th>\n",
       "      <th>numberofdirectors</th>\n",
       "      <th>titleType</th>\n",
       "      <th>category</th>\n",
       "      <th>genres</th>\n",
       "    </tr>\n",
       "  </thead>\n",
       "  <tbody>\n",
       "    <tr>\n",
       "      <th>0</th>\n",
       "      <td>tt0000001</td>\n",
       "      <td>nm0005690</td>\n",
       "      <td>nm0996527,nm1834436,nm0255878,nm0657632,nm1602559</td>\n",
       "      <td>0.000566</td>\n",
       "      <td>0</td>\n",
       "      <td>1894.0</td>\n",
       "      <td>1.0</td>\n",
       "      <td>0</td>\n",
       "      <td>5.7</td>\n",
       "      <td>1858</td>\n",
       "      <td>2</td>\n",
       "      <td>5</td>\n",
       "      <td>1</td>\n",
       "      <td>6.786916</td>\n",
       "      <td>6.724855</td>\n",
       "      <td>7.062045</td>\n",
       "    </tr>\n",
       "    <tr>\n",
       "      <th>1</th>\n",
       "      <td>tt0000001</td>\n",
       "      <td>nm0005690</td>\n",
       "      <td>nm0996527,nm1834436,nm0255878,nm0657632,nm1602559</td>\n",
       "      <td>0.000566</td>\n",
       "      <td>0</td>\n",
       "      <td>1894.0</td>\n",
       "      <td>1.0</td>\n",
       "      <td>0</td>\n",
       "      <td>5.7</td>\n",
       "      <td>1858</td>\n",
       "      <td>2</td>\n",
       "      <td>5</td>\n",
       "      <td>1</td>\n",
       "      <td>6.786916</td>\n",
       "      <td>6.724855</td>\n",
       "      <td>6.745376</td>\n",
       "    </tr>\n",
       "    <tr>\n",
       "      <th>2</th>\n",
       "      <td>tt0000002</td>\n",
       "      <td>nm0721526</td>\n",
       "      <td>nm0564969</td>\n",
       "      <td>0.000566</td>\n",
       "      <td>0</td>\n",
       "      <td>1892.0</td>\n",
       "      <td>5.0</td>\n",
       "      <td>0</td>\n",
       "      <td>6.0</td>\n",
       "      <td>243</td>\n",
       "      <td>2</td>\n",
       "      <td>1</td>\n",
       "      <td>1</td>\n",
       "      <td>6.786916</td>\n",
       "      <td>6.890128</td>\n",
       "      <td>6.850404</td>\n",
       "    </tr>\n",
       "    <tr>\n",
       "      <th>3</th>\n",
       "      <td>tt0000002</td>\n",
       "      <td>nm0721526</td>\n",
       "      <td>nm0564969</td>\n",
       "      <td>0.000566</td>\n",
       "      <td>0</td>\n",
       "      <td>1892.0</td>\n",
       "      <td>5.0</td>\n",
       "      <td>0</td>\n",
       "      <td>6.0</td>\n",
       "      <td>243</td>\n",
       "      <td>2</td>\n",
       "      <td>1</td>\n",
       "      <td>1</td>\n",
       "      <td>6.786916</td>\n",
       "      <td>6.890128</td>\n",
       "      <td>6.745376</td>\n",
       "    </tr>\n",
       "    <tr>\n",
       "      <th>4</th>\n",
       "      <td>tt0000005</td>\n",
       "      <td>nm0005690</td>\n",
       "      <td>nm9870567,nm9870570,nm9870569,nm9894796,nm9870...</td>\n",
       "      <td>0.003962</td>\n",
       "      <td>0</td>\n",
       "      <td>1893.0</td>\n",
       "      <td>1.0</td>\n",
       "      <td>0</td>\n",
       "      <td>6.2</td>\n",
       "      <td>2455</td>\n",
       "      <td>2</td>\n",
       "      <td>12</td>\n",
       "      <td>1</td>\n",
       "      <td>6.786916</td>\n",
       "      <td>6.890128</td>\n",
       "      <td>6.758290</td>\n",
       "    </tr>\n",
       "  </tbody>\n",
       "</table>\n",
       "</div>"
      ],
      "text/plain": [
       "      tconst  directors                                            writers  \\\n",
       "0  tt0000001  nm0005690  nm0996527,nm1834436,nm0255878,nm0657632,nm1602559   \n",
       "1  tt0000001  nm0005690  nm0996527,nm1834436,nm0255878,nm0657632,nm1602559   \n",
       "2  tt0000002  nm0721526                                          nm0564969   \n",
       "3  tt0000002  nm0721526                                          nm0564969   \n",
       "4  tt0000005  nm0005690  nm9870567,nm9870570,nm9870569,nm9894796,nm9870...   \n",
       "\n",
       "   primaryTitle isAdult  startYear  runtimeMinutes  knownForTitles  \\\n",
       "0      0.000566       0     1894.0             1.0               0   \n",
       "1      0.000566       0     1894.0             1.0               0   \n",
       "2      0.000566       0     1892.0             5.0               0   \n",
       "3      0.000566       0     1892.0             5.0               0   \n",
       "4      0.003962       0     1893.0             1.0               0   \n",
       "\n",
       "   target_variable  numVotes  numberofgenre  numberofwriters  \\\n",
       "0              5.7      1858              2                5   \n",
       "1              5.7      1858              2                5   \n",
       "2              6.0       243              2                1   \n",
       "3              6.0       243              2                1   \n",
       "4              6.2      2455              2               12   \n",
       "\n",
       "   numberofdirectors  titleType  category    genres  \n",
       "0                  1   6.786916  6.724855  7.062045  \n",
       "1                  1   6.786916  6.724855  6.745376  \n",
       "2                  1   6.786916  6.890128  6.850404  \n",
       "3                  1   6.786916  6.890128  6.745376  \n",
       "4                  1   6.786916  6.890128  6.758290  "
      ]
     },
     "execution_count": 48,
     "metadata": {},
     "output_type": "execute_result"
    }
   ],
   "source": [
    "df.head()"
   ]
  },
  {
   "cell_type": "markdown",
   "id": "a9003e02",
   "metadata": {},
   "source": [
    "### Splitting the Data set into train, test "
   ]
  },
  {
   "cell_type": "code",
   "execution_count": 49,
   "id": "f5e2140f",
   "metadata": {},
   "outputs": [],
   "source": [
    "import numpy as np\n",
    "from sklearn.model_selection import train_test_split"
   ]
  },
  {
   "cell_type": "code",
   "execution_count": 50,
   "id": "d00e60b5",
   "metadata": {},
   "outputs": [],
   "source": [
    "X = df[['primaryTitle', 'isAdult',\n",
    "       'startYear', 'runtimeMinutes', 'genres', 'knownForTitles',\n",
    "       'numVotes', 'numberofgenre', 'numberofwriters',\n",
    "       'numberofdirectors', 'titleType', 'category']]\n",
    "y = df.target_variable"
   ]
  },
  {
   "cell_type": "code",
   "execution_count": 51,
   "id": "b41674bc",
   "metadata": {},
   "outputs": [],
   "source": [
    "from sklearn.preprocessing import StandardScaler\n",
    "scaler = StandardScaler() \n",
    "X = scaler.fit_transform(X)"
   ]
  },
  {
   "cell_type": "code",
   "execution_count": 52,
   "id": "809c4a91",
   "metadata": {},
   "outputs": [],
   "source": [
    "X_train, X_test, y_train, y_test = train_test_split(X, y, test_size=0.33, random_state=42)"
   ]
  },
  {
   "cell_type": "code",
   "execution_count": null,
   "id": "58c479e0",
   "metadata": {},
   "outputs": [],
   "source": [
    "import statsmodels.api as sm\n",
    "\n",
    "X_constant = sm.add_constant(X)\n",
    "lin_reg = sm.OLS(y,X_constant).fit()\n",
    "lin_reg.summary()"
   ]
  },
  {
   "cell_type": "code",
   "execution_count": null,
   "id": "9301d222",
   "metadata": {},
   "outputs": [],
   "source": []
  },
  {
   "cell_type": "code",
   "execution_count": 127,
   "id": "3be410ff",
   "metadata": {},
   "outputs": [
    {
     "name": "stdout",
     "output_type": "stream",
     "text": [
      "Coefficients: [ 0.00435446  0.01594585  0.15489232 -0.00216924  0.2282633  -0.00293181\n",
      "  0.09955727  0.00224731 -0.00152034  0.00824728  0.54161936  0.05349152]\n",
      "Intercept: 6.733606374272112\n",
      "R^2 score: 0.23253104838005134\n"
     ]
    }
   ],
   "source": [
    "from sklearn.linear_model import LinearRegression\n",
    "lin_reg = LinearRegression()\n",
    "lin_reg.fit(X, y)\n",
    "\n",
    "print(f'Coefficients: {lin_reg.coef_}')\n",
    "print(f'Intercept: {lin_reg.intercept_}')\n",
    "print(f'R^2 score: {lin_reg.score(X, y)}')"
   ]
  },
  {
   "cell_type": "code",
   "execution_count": null,
   "id": "71efd4f8",
   "metadata": {},
   "outputs": [],
   "source": []
  },
  {
   "cell_type": "code",
   "execution_count": 53,
   "id": "491c43d9",
   "metadata": {},
   "outputs": [],
   "source": [
    "from sklearn.ensemble import RandomForestRegressor\n",
    "# Instantiate model with 100 decision trees\n",
    "rf = RandomForestRegressor(n_estimators = 100, random_state = 42)\n",
    "# Train the model on training data\n",
    "rf.fit(X_train, y_train);"
   ]
  },
  {
   "cell_type": "code",
   "execution_count": 54,
   "id": "b9b01b02",
   "metadata": {},
   "outputs": [
    {
     "name": "stdout",
     "output_type": "stream",
     "text": [
      "Final Training Accuracy: 94.07421528757565%\n",
      "Model Accuracy: 61.23281199438141%\n"
     ]
    }
   ],
   "source": [
    "print(f'Final Training Accuracy: {rf.score(X_train,y_train)*100}%')\n",
    "print(f'Model Accuracy: {rf.score(X_test,y_test)*100}%')"
   ]
  },
  {
   "cell_type": "code",
   "execution_count": 55,
   "id": "deb2dda4",
   "metadata": {},
   "outputs": [
    {
     "name": "stdout",
     "output_type": "stream",
     "text": [
      "Mean Absolute Error: 0.56 degrees.\n"
     ]
    }
   ],
   "source": [
    "# Use the forest's predict method on the test data\n",
    "predictions = rf.predict(X_test)\n",
    "# Calculate the absolute errors\n",
    "errors = abs(predictions - y_test)\n",
    "# Print out the mean absolute error (mae)\n",
    "print('Mean Absolute Error:', round(np.mean(errors), 2), 'degrees.')"
   ]
  },
  {
   "cell_type": "code",
   "execution_count": 89,
   "id": "046bf447",
   "metadata": {},
   "outputs": [
    {
     "data": {
      "text/plain": [
       "array([], dtype=float64)"
      ]
     },
     "execution_count": 89,
     "metadata": {},
     "output_type": "execute_result"
    }
   ],
   "source": [
    "predictions[predictions < 0]"
   ]
  },
  {
   "cell_type": "code",
   "execution_count": 68,
   "id": "b200e19f",
   "metadata": {},
   "outputs": [
    {
     "data": {
      "text/plain": [
       "329427"
      ]
     },
     "execution_count": 68,
     "metadata": {},
     "output_type": "execute_result"
    }
   ],
   "source": [
    "len(predictions)"
   ]
  },
  {
   "cell_type": "code",
   "execution_count": 87,
   "id": "e081c1ad",
   "metadata": {},
   "outputs": [],
   "source": [
    "from sklearn.metrics import r2_score"
   ]
  },
  {
   "cell_type": "code",
   "execution_count": 88,
   "id": "69da7386",
   "metadata": {},
   "outputs": [
    {
     "data": {
      "text/plain": [
       "0.3293017911061601"
      ]
     },
     "execution_count": 88,
     "metadata": {},
     "output_type": "execute_result"
    }
   ],
   "source": [
    "r2_score(predictions,y_test)"
   ]
  },
  {
   "cell_type": "code",
   "execution_count": 121,
   "id": "d0365e16",
   "metadata": {},
   "outputs": [],
   "source": [
    "import numpy as np\n",
    "import pandas as pd\n",
    "import matplotlib.pyplot as plt\n",
    "import seaborn as sns\n",
    "\n",
    "from sklearn.model_selection import train_test_split\n",
    "from sklearn.ensemble import RandomForestClassifier\n",
    "from sklearn.metrics import accuracy_score, confusion_matrix, classification_report"
   ]
  },
  {
   "cell_type": "code",
   "execution_count": null,
   "id": "24b5b7f6",
   "metadata": {},
   "outputs": [],
   "source": []
  },
  {
   "cell_type": "code",
   "execution_count": null,
   "id": "5d020691",
   "metadata": {},
   "outputs": [],
   "source": []
  },
  {
   "cell_type": "code",
   "execution_count": null,
   "id": "019857d1",
   "metadata": {},
   "outputs": [],
   "source": []
  },
  {
   "cell_type": "code",
   "execution_count": null,
   "id": "7ee5909e",
   "metadata": {},
   "outputs": [],
   "source": []
  },
  {
   "cell_type": "code",
   "execution_count": null,
   "id": "fa8612d1",
   "metadata": {},
   "outputs": [],
   "source": []
  },
  {
   "cell_type": "code",
   "execution_count": 337,
   "id": "8ff62acc",
   "metadata": {},
   "outputs": [
    {
     "ename": "KeyboardInterrupt",
     "evalue": "",
     "output_type": "error",
     "traceback": [
      "\u001b[0;31m---------------------------------------------------------------------------\u001b[0m",
      "\u001b[0;31mKeyboardInterrupt\u001b[0m                         Traceback (most recent call last)",
      "\u001b[0;32m/var/folders/gm/lcwcc36121j4rgdzdkrfql9r0000gn/T/ipykernel_96611/1233061463.py\u001b[0m in \u001b[0;36m<module>\u001b[0;34m\u001b[0m\n\u001b[1;32m     29\u001b[0m     \u001b[0max\u001b[0m\u001b[0;34m[\u001b[0m\u001b[0;36m1\u001b[0m\u001b[0;34m]\u001b[0m\u001b[0;34m.\u001b[0m\u001b[0mset\u001b[0m\u001b[0;34m(\u001b[0m\u001b[0mxlabel\u001b[0m\u001b[0;34m=\u001b[0m\u001b[0;34m'Predicted'\u001b[0m\u001b[0;34m,\u001b[0m \u001b[0mylabel\u001b[0m\u001b[0;34m=\u001b[0m\u001b[0;34m'Residuals'\u001b[0m\u001b[0;34m)\u001b[0m\u001b[0;34m\u001b[0m\u001b[0;34m\u001b[0m\u001b[0m\n\u001b[1;32m     30\u001b[0m \u001b[0;34m\u001b[0m\u001b[0m\n\u001b[0;32m---> 31\u001b[0;31m \u001b[0mlinearity_test\u001b[0m\u001b[0;34m(\u001b[0m\u001b[0mlin_reg\u001b[0m\u001b[0;34m,\u001b[0m \u001b[0my\u001b[0m\u001b[0;34m)\u001b[0m\u001b[0;34m\u001b[0m\u001b[0;34m\u001b[0m\u001b[0m\n\u001b[0m\u001b[1;32m     32\u001b[0m \u001b[0;34m\u001b[0m\u001b[0m\n",
      "\u001b[0;32m/var/folders/gm/lcwcc36121j4rgdzdkrfql9r0000gn/T/ipykernel_96611/1233061463.py\u001b[0m in \u001b[0;36mlinearity_test\u001b[0;34m(model, y)\u001b[0m\n\u001b[1;32m     21\u001b[0m     \u001b[0mfig\u001b[0m\u001b[0;34m,\u001b[0m \u001b[0max\u001b[0m \u001b[0;34m=\u001b[0m \u001b[0mplt\u001b[0m\u001b[0;34m.\u001b[0m\u001b[0msubplots\u001b[0m\u001b[0;34m(\u001b[0m\u001b[0;36m1\u001b[0m\u001b[0;34m,\u001b[0m\u001b[0;36m2\u001b[0m\u001b[0;34m)\u001b[0m\u001b[0;34m\u001b[0m\u001b[0;34m\u001b[0m\u001b[0m\n\u001b[1;32m     22\u001b[0m \u001b[0;34m\u001b[0m\u001b[0m\n\u001b[0;32m---> 23\u001b[0;31m     \u001b[0msns\u001b[0m\u001b[0;34m.\u001b[0m\u001b[0mregplot\u001b[0m\u001b[0;34m(\u001b[0m\u001b[0mx\u001b[0m\u001b[0;34m=\u001b[0m\u001b[0mfitted_vals\u001b[0m\u001b[0;34m,\u001b[0m \u001b[0my\u001b[0m\u001b[0;34m=\u001b[0m\u001b[0my\u001b[0m\u001b[0;34m,\u001b[0m \u001b[0mlowess\u001b[0m\u001b[0;34m=\u001b[0m\u001b[0;32mTrue\u001b[0m\u001b[0;34m,\u001b[0m \u001b[0max\u001b[0m\u001b[0;34m=\u001b[0m\u001b[0max\u001b[0m\u001b[0;34m[\u001b[0m\u001b[0;36m0\u001b[0m\u001b[0;34m]\u001b[0m\u001b[0;34m,\u001b[0m \u001b[0mline_kws\u001b[0m\u001b[0;34m=\u001b[0m\u001b[0;34m{\u001b[0m\u001b[0;34m'color'\u001b[0m\u001b[0;34m:\u001b[0m \u001b[0;34m'red'\u001b[0m\u001b[0;34m}\u001b[0m\u001b[0;34m)\u001b[0m\u001b[0;34m\u001b[0m\u001b[0;34m\u001b[0m\u001b[0m\n\u001b[0m\u001b[1;32m     24\u001b[0m     \u001b[0max\u001b[0m\u001b[0;34m[\u001b[0m\u001b[0;36m0\u001b[0m\u001b[0;34m]\u001b[0m\u001b[0;34m.\u001b[0m\u001b[0mset_title\u001b[0m\u001b[0;34m(\u001b[0m\u001b[0;34m'Observed vs. Predicted Values'\u001b[0m\u001b[0;34m,\u001b[0m \u001b[0mfontsize\u001b[0m\u001b[0;34m=\u001b[0m\u001b[0;36m16\u001b[0m\u001b[0;34m)\u001b[0m\u001b[0;34m\u001b[0m\u001b[0;34m\u001b[0m\u001b[0m\n\u001b[1;32m     25\u001b[0m     \u001b[0max\u001b[0m\u001b[0;34m[\u001b[0m\u001b[0;36m0\u001b[0m\u001b[0;34m]\u001b[0m\u001b[0;34m.\u001b[0m\u001b[0mset\u001b[0m\u001b[0;34m(\u001b[0m\u001b[0mxlabel\u001b[0m\u001b[0;34m=\u001b[0m\u001b[0;34m'Predicted'\u001b[0m\u001b[0;34m,\u001b[0m \u001b[0mylabel\u001b[0m\u001b[0;34m=\u001b[0m\u001b[0;34m'Observed'\u001b[0m\u001b[0;34m)\u001b[0m\u001b[0;34m\u001b[0m\u001b[0;34m\u001b[0m\u001b[0m\n",
      "\u001b[0;32m/opt/anaconda3/lib/python3.9/site-packages/seaborn/_decorators.py\u001b[0m in \u001b[0;36minner_f\u001b[0;34m(*args, **kwargs)\u001b[0m\n\u001b[1;32m     44\u001b[0m             )\n\u001b[1;32m     45\u001b[0m         \u001b[0mkwargs\u001b[0m\u001b[0;34m.\u001b[0m\u001b[0mupdate\u001b[0m\u001b[0;34m(\u001b[0m\u001b[0;34m{\u001b[0m\u001b[0mk\u001b[0m\u001b[0;34m:\u001b[0m \u001b[0marg\u001b[0m \u001b[0;32mfor\u001b[0m \u001b[0mk\u001b[0m\u001b[0;34m,\u001b[0m \u001b[0marg\u001b[0m \u001b[0;32min\u001b[0m \u001b[0mzip\u001b[0m\u001b[0;34m(\u001b[0m\u001b[0msig\u001b[0m\u001b[0;34m.\u001b[0m\u001b[0mparameters\u001b[0m\u001b[0;34m,\u001b[0m \u001b[0margs\u001b[0m\u001b[0;34m)\u001b[0m\u001b[0;34m}\u001b[0m\u001b[0;34m)\u001b[0m\u001b[0;34m\u001b[0m\u001b[0;34m\u001b[0m\u001b[0m\n\u001b[0;32m---> 46\u001b[0;31m         \u001b[0;32mreturn\u001b[0m \u001b[0mf\u001b[0m\u001b[0;34m(\u001b[0m\u001b[0;34m**\u001b[0m\u001b[0mkwargs\u001b[0m\u001b[0;34m)\u001b[0m\u001b[0;34m\u001b[0m\u001b[0;34m\u001b[0m\u001b[0m\n\u001b[0m\u001b[1;32m     47\u001b[0m     \u001b[0;32mreturn\u001b[0m \u001b[0minner_f\u001b[0m\u001b[0;34m\u001b[0m\u001b[0;34m\u001b[0m\u001b[0m\n\u001b[1;32m     48\u001b[0m \u001b[0;34m\u001b[0m\u001b[0m\n",
      "\u001b[0;32m/opt/anaconda3/lib/python3.9/site-packages/seaborn/regression.py\u001b[0m in \u001b[0;36mregplot\u001b[0;34m(x, y, data, x_estimator, x_bins, x_ci, scatter, fit_reg, ci, n_boot, units, seed, order, logistic, lowess, robust, logx, x_partial, y_partial, truncate, dropna, x_jitter, y_jitter, label, color, marker, scatter_kws, line_kws, ax)\u001b[0m\n\u001b[1;32m    861\u001b[0m     \u001b[0mscatter_kws\u001b[0m\u001b[0;34m[\u001b[0m\u001b[0;34m\"marker\"\u001b[0m\u001b[0;34m]\u001b[0m \u001b[0;34m=\u001b[0m \u001b[0mmarker\u001b[0m\u001b[0;34m\u001b[0m\u001b[0;34m\u001b[0m\u001b[0m\n\u001b[1;32m    862\u001b[0m     \u001b[0mline_kws\u001b[0m \u001b[0;34m=\u001b[0m \u001b[0;34m{\u001b[0m\u001b[0;34m}\u001b[0m \u001b[0;32mif\u001b[0m \u001b[0mline_kws\u001b[0m \u001b[0;32mis\u001b[0m \u001b[0;32mNone\u001b[0m \u001b[0;32melse\u001b[0m \u001b[0mcopy\u001b[0m\u001b[0;34m.\u001b[0m\u001b[0mcopy\u001b[0m\u001b[0;34m(\u001b[0m\u001b[0mline_kws\u001b[0m\u001b[0;34m)\u001b[0m\u001b[0;34m\u001b[0m\u001b[0;34m\u001b[0m\u001b[0m\n\u001b[0;32m--> 863\u001b[0;31m     \u001b[0mplotter\u001b[0m\u001b[0;34m.\u001b[0m\u001b[0mplot\u001b[0m\u001b[0;34m(\u001b[0m\u001b[0max\u001b[0m\u001b[0;34m,\u001b[0m \u001b[0mscatter_kws\u001b[0m\u001b[0;34m,\u001b[0m \u001b[0mline_kws\u001b[0m\u001b[0;34m)\u001b[0m\u001b[0;34m\u001b[0m\u001b[0;34m\u001b[0m\u001b[0m\n\u001b[0m\u001b[1;32m    864\u001b[0m     \u001b[0;32mreturn\u001b[0m \u001b[0max\u001b[0m\u001b[0;34m\u001b[0m\u001b[0;34m\u001b[0m\u001b[0m\n\u001b[1;32m    865\u001b[0m \u001b[0;34m\u001b[0m\u001b[0m\n",
      "\u001b[0;32m/opt/anaconda3/lib/python3.9/site-packages/seaborn/regression.py\u001b[0m in \u001b[0;36mplot\u001b[0;34m(self, ax, scatter_kws, line_kws)\u001b[0m\n\u001b[1;32m    368\u001b[0m \u001b[0;34m\u001b[0m\u001b[0m\n\u001b[1;32m    369\u001b[0m         \u001b[0;32mif\u001b[0m \u001b[0mself\u001b[0m\u001b[0;34m.\u001b[0m\u001b[0mfit_reg\u001b[0m\u001b[0;34m:\u001b[0m\u001b[0;34m\u001b[0m\u001b[0;34m\u001b[0m\u001b[0m\n\u001b[0;32m--> 370\u001b[0;31m             \u001b[0mself\u001b[0m\u001b[0;34m.\u001b[0m\u001b[0mlineplot\u001b[0m\u001b[0;34m(\u001b[0m\u001b[0max\u001b[0m\u001b[0;34m,\u001b[0m \u001b[0mline_kws\u001b[0m\u001b[0;34m)\u001b[0m\u001b[0;34m\u001b[0m\u001b[0;34m\u001b[0m\u001b[0m\n\u001b[0m\u001b[1;32m    371\u001b[0m \u001b[0;34m\u001b[0m\u001b[0m\n\u001b[1;32m    372\u001b[0m         \u001b[0;31m# Label the axes\u001b[0m\u001b[0;34m\u001b[0m\u001b[0;34m\u001b[0m\u001b[0m\n",
      "\u001b[0;32m/opt/anaconda3/lib/python3.9/site-packages/seaborn/regression.py\u001b[0m in \u001b[0;36mlineplot\u001b[0;34m(self, ax, kws)\u001b[0m\n\u001b[1;32m    411\u001b[0m         \u001b[0;34m\"\"\"Draw the model.\"\"\"\u001b[0m\u001b[0;34m\u001b[0m\u001b[0;34m\u001b[0m\u001b[0m\n\u001b[1;32m    412\u001b[0m         \u001b[0;31m# Fit the regression model\u001b[0m\u001b[0;34m\u001b[0m\u001b[0;34m\u001b[0m\u001b[0m\n\u001b[0;32m--> 413\u001b[0;31m         \u001b[0mgrid\u001b[0m\u001b[0;34m,\u001b[0m \u001b[0myhat\u001b[0m\u001b[0;34m,\u001b[0m \u001b[0merr_bands\u001b[0m \u001b[0;34m=\u001b[0m \u001b[0mself\u001b[0m\u001b[0;34m.\u001b[0m\u001b[0mfit_regression\u001b[0m\u001b[0;34m(\u001b[0m\u001b[0max\u001b[0m\u001b[0;34m)\u001b[0m\u001b[0;34m\u001b[0m\u001b[0;34m\u001b[0m\u001b[0m\n\u001b[0m\u001b[1;32m    414\u001b[0m         \u001b[0medges\u001b[0m \u001b[0;34m=\u001b[0m \u001b[0mgrid\u001b[0m\u001b[0;34m[\u001b[0m\u001b[0;36m0\u001b[0m\u001b[0;34m]\u001b[0m\u001b[0;34m,\u001b[0m \u001b[0mgrid\u001b[0m\u001b[0;34m[\u001b[0m\u001b[0;34m-\u001b[0m\u001b[0;36m1\u001b[0m\u001b[0;34m]\u001b[0m\u001b[0;34m\u001b[0m\u001b[0;34m\u001b[0m\u001b[0m\n\u001b[1;32m    415\u001b[0m \u001b[0;34m\u001b[0m\u001b[0m\n",
      "\u001b[0;32m/opt/anaconda3/lib/python3.9/site-packages/seaborn/regression.py\u001b[0m in \u001b[0;36mfit_regression\u001b[0;34m(self, ax, x_range, grid)\u001b[0m\n\u001b[1;32m    212\u001b[0m         \u001b[0;32melif\u001b[0m \u001b[0mself\u001b[0m\u001b[0;34m.\u001b[0m\u001b[0mlowess\u001b[0m\u001b[0;34m:\u001b[0m\u001b[0;34m\u001b[0m\u001b[0;34m\u001b[0m\u001b[0m\n\u001b[1;32m    213\u001b[0m             \u001b[0mci\u001b[0m \u001b[0;34m=\u001b[0m \u001b[0;32mNone\u001b[0m\u001b[0;34m\u001b[0m\u001b[0;34m\u001b[0m\u001b[0m\n\u001b[0;32m--> 214\u001b[0;31m             \u001b[0mgrid\u001b[0m\u001b[0;34m,\u001b[0m \u001b[0myhat\u001b[0m \u001b[0;34m=\u001b[0m \u001b[0mself\u001b[0m\u001b[0;34m.\u001b[0m\u001b[0mfit_lowess\u001b[0m\u001b[0;34m(\u001b[0m\u001b[0;34m)\u001b[0m\u001b[0;34m\u001b[0m\u001b[0;34m\u001b[0m\u001b[0m\n\u001b[0m\u001b[1;32m    215\u001b[0m         \u001b[0;32melif\u001b[0m \u001b[0mself\u001b[0m\u001b[0;34m.\u001b[0m\u001b[0mrobust\u001b[0m\u001b[0;34m:\u001b[0m\u001b[0;34m\u001b[0m\u001b[0;34m\u001b[0m\u001b[0m\n\u001b[1;32m    216\u001b[0m             \u001b[0;32mfrom\u001b[0m \u001b[0mstatsmodels\u001b[0m\u001b[0;34m.\u001b[0m\u001b[0mrobust\u001b[0m\u001b[0;34m.\u001b[0m\u001b[0mrobust_linear_model\u001b[0m \u001b[0;32mimport\u001b[0m \u001b[0mRLM\u001b[0m\u001b[0;34m\u001b[0m\u001b[0;34m\u001b[0m\u001b[0m\n",
      "\u001b[0;32m/opt/anaconda3/lib/python3.9/site-packages/seaborn/regression.py\u001b[0m in \u001b[0;36mfit_lowess\u001b[0;34m(self)\u001b[0m\n\u001b[1;32m    293\u001b[0m         \u001b[0;34m\"\"\"Fit a locally-weighted regression, which returns its own grid.\"\"\"\u001b[0m\u001b[0;34m\u001b[0m\u001b[0;34m\u001b[0m\u001b[0m\n\u001b[1;32m    294\u001b[0m         \u001b[0;32mfrom\u001b[0m \u001b[0mstatsmodels\u001b[0m\u001b[0;34m.\u001b[0m\u001b[0mnonparametric\u001b[0m\u001b[0;34m.\u001b[0m\u001b[0msmoothers_lowess\u001b[0m \u001b[0;32mimport\u001b[0m \u001b[0mlowess\u001b[0m\u001b[0;34m\u001b[0m\u001b[0;34m\u001b[0m\u001b[0m\n\u001b[0;32m--> 295\u001b[0;31m         \u001b[0mgrid\u001b[0m\u001b[0;34m,\u001b[0m \u001b[0myhat\u001b[0m \u001b[0;34m=\u001b[0m \u001b[0mlowess\u001b[0m\u001b[0;34m(\u001b[0m\u001b[0mself\u001b[0m\u001b[0;34m.\u001b[0m\u001b[0my\u001b[0m\u001b[0;34m,\u001b[0m \u001b[0mself\u001b[0m\u001b[0;34m.\u001b[0m\u001b[0mx\u001b[0m\u001b[0;34m)\u001b[0m\u001b[0;34m.\u001b[0m\u001b[0mT\u001b[0m\u001b[0;34m\u001b[0m\u001b[0;34m\u001b[0m\u001b[0m\n\u001b[0m\u001b[1;32m    296\u001b[0m         \u001b[0;32mreturn\u001b[0m \u001b[0mgrid\u001b[0m\u001b[0;34m,\u001b[0m \u001b[0myhat\u001b[0m\u001b[0;34m\u001b[0m\u001b[0;34m\u001b[0m\u001b[0m\n\u001b[1;32m    297\u001b[0m \u001b[0;34m\u001b[0m\u001b[0m\n",
      "\u001b[0;32m/opt/anaconda3/lib/python3.9/site-packages/statsmodels/nonparametric/smoothers_lowess.py\u001b[0m in \u001b[0;36mlowess\u001b[0;34m(endog, exog, frac, it, delta, xvals, is_sorted, missing, return_sorted)\u001b[0m\n\u001b[1;32m    212\u001b[0m     \u001b[0;32mif\u001b[0m \u001b[0;32mnot\u001b[0m \u001b[0mgiven_xvals\u001b[0m\u001b[0;34m:\u001b[0m\u001b[0;34m\u001b[0m\u001b[0;34m\u001b[0m\u001b[0m\n\u001b[1;32m    213\u001b[0m         \u001b[0;31m# Run LOWESS on the data points\u001b[0m\u001b[0;34m\u001b[0m\u001b[0;34m\u001b[0m\u001b[0m\n\u001b[0;32m--> 214\u001b[0;31m         res, _ = _lowess(y, x, x, np.ones_like(x),\n\u001b[0m\u001b[1;32m    215\u001b[0m                         frac=frac, it=it, delta=delta, given_xvals=False)\n\u001b[1;32m    216\u001b[0m     \u001b[0;32melse\u001b[0m\u001b[0;34m:\u001b[0m\u001b[0;34m\u001b[0m\u001b[0;34m\u001b[0m\u001b[0m\n",
      "\u001b[0;32mstatsmodels/nonparametric/_smoothers_lowess.pyx\u001b[0m in \u001b[0;36mstatsmodels.nonparametric._smoothers_lowess.lowess\u001b[0;34m()\u001b[0m\n",
      "\u001b[0;32mstatsmodels/nonparametric/_smoothers_lowess.pyx\u001b[0m in \u001b[0;36mstatsmodels.nonparametric._smoothers_lowess.calculate_weights\u001b[0;34m()\u001b[0m\n",
      "\u001b[0;32m<__array_function__ internals>\u001b[0m in \u001b[0;36msum\u001b[0;34m(*args, **kwargs)\u001b[0m\n",
      "\u001b[0;31mKeyboardInterrupt\u001b[0m: "
     ]
    },
    {
     "data": {
      "image/png": "[encoded data removed]",
      "text/plain": [
       "<Figure size 1080x648 with 2 Axes>"
      ]
     },
     "metadata": {
      "image/png": {
       "height": 527,
       "width": 880
      }
     },
     "output_type": "display_data"
    }
   ],
   "source": [
    "%matplotlib inline\n",
    "%config InlineBackend.figure_format ='retina'\n",
    "import seaborn as sns \n",
    "import matplotlib.pyplot as plt\n",
    "import statsmodels.stats.api as sms\n",
    "sns.set_style('darkgrid')\n",
    "sns.mpl.rcParams['figure.figsize'] = (15.0, 9.0)\n",
    "\n",
    "def linearity_test(model, y):\n",
    "    '''\n",
    "    Function for visually inspecting the assumption of linearity in a linear regression model.\n",
    "    It plots observed vs. predicted values and residuals vs. predicted values.\n",
    "    \n",
    "    Args:\n",
    "    * model - fitted OLS model from statsmodels\n",
    "    * y - observed values\n",
    "    '''\n",
    "    fitted_vals = model.predict()\n",
    "    resids = model.resid\n",
    "\n",
    "    fig, ax = plt.subplots(1,2)\n",
    "    \n",
    "    sns.regplot(x=fitted_vals, y=y, lowess=True, ax=ax[0], line_kws={'color': 'red'})\n",
    "    ax[0].set_title('Observed vs. Predicted Values', fontsize=16)\n",
    "    ax[0].set(xlabel='Predicted', ylabel='Observed')\n",
    "\n",
    "    sns.regplot(x=fitted_vals, y=resids, lowess=True, ax=ax[1], line_kws={'color': 'red'})\n",
    "    ax[1].set_title('Residuals vs. Predicted Values', fontsize=16)\n",
    "    ax[1].set(xlabel='Predicted', ylabel='Residuals')\n",
    "    \n",
    "linearity_test(lin_reg, y)    \n",
    "    "
   ]
  },
  {
   "cell_type": "code",
   "execution_count": 323,
   "id": "69036f21",
   "metadata": {},
   "outputs": [
    {
     "data": {
      "text/plain": [
       "<AxesSubplot:>"
      ]
     },
     "execution_count": 323,
     "metadata": {},
     "output_type": "execute_result"
    },
    {
     "data": {
      "image/png": "[encoded data removed]",
      "text/plain": [
       "<Figure size 792x648 with 2 Axes>"
      ]
     },
     "metadata": {},
     "output_type": "display_data"
    }
   ],
   "source": [
    "# Generate a mask for the upper triangle\n",
    "mask = np.triu(np.ones_like(corr, dtype=bool))\n",
    "\n",
    "# Set up the matplotlib figure\n",
    "f, ax = plt.subplots(figsize=(11, 9))\n",
    "\n",
    "# Generate a custom diverging colormap\n",
    "cmap = sns.diverging_palette(230, 20, as_cmap=True)\n",
    "\n",
    "# Draw the heatmap with the mask and correct aspect ratio\n",
    "sns.heatmap(corr, mask=mask, cmap=cmap, vmax=.3, center=0,\n",
    "            square=True, linewidths=.5, cbar_kws={\"shrink\": .5})"
   ]
  },
  {
   "cell_type": "code",
   "execution_count": null,
   "id": "1153f223",
   "metadata": {},
   "outputs": [],
   "source": []
  },
  {
   "cell_type": "code",
   "execution_count": null,
   "id": "2ca62529",
   "metadata": {},
   "outputs": [],
   "source": []
  },
  {
   "cell_type": "code",
   "execution_count": null,
   "id": "3e2c8fc2",
   "metadata": {},
   "outputs": [],
   "source": []
  },
  {
   "cell_type": "code",
   "execution_count": null,
   "id": "bb9799b4",
   "metadata": {},
   "outputs": [],
   "source": []
  },
  {
   "cell_type": "code",
   "execution_count": null,
   "id": "b9b82a2c",
   "metadata": {},
   "outputs": [],
   "source": []
  },
  {
   "cell_type": "markdown",
   "id": "5add3beb",
   "metadata": {},
   "source": [
    "### Handling genre and knownForTitles variables ( This could be used later on if accuracy is less)"
   ]
  },
  {
   "cell_type": "code",
   "execution_count": 19,
   "id": "6768e982",
   "metadata": {},
   "outputs": [],
   "source": [
    "genres_lists = df.genres.str.split(',')        \n",
    "df.genres = genres_lists "
   ]
  },
  {
   "cell_type": "code",
   "execution_count": 20,
   "id": "c39cdd1e",
   "metadata": {},
   "outputs": [],
   "source": [
    "genres_lists = df.genres.str.split(',')        \n",
    "df.genres = genres_lists \n",
    "df = df.explode('genres')"
   ]
  },
  {
   "cell_type": "code",
   "execution_count": 24,
   "id": "55745373",
   "metadata": {},
   "outputs": [],
   "source": [
    "knownForTitles_lists = df.knownForTitles.str.split(',')        \n",
    "df.knownForTitles = knownForTitles_lists "
   ]
  },
  {
   "cell_type": "code",
   "execution_count": 25,
   "id": "3daeaf4a",
   "metadata": {},
   "outputs": [],
   "source": [
    "df = df.explode('knownForTitles')"
   ]
  },
  {
   "cell_type": "code",
   "execution_count": 27,
   "id": "1f2485cf",
   "metadata": {},
   "outputs": [
    {
     "data": {
      "text/html": [
       "<div>\n",
       "<style scoped>\n",
       "    .dataframe tbody tr th:only-of-type {\n",
       "        vertical-align: middle;\n",
       "    }\n",
       "\n",
       "    .dataframe tbody tr th {\n",
       "        vertical-align: top;\n",
       "    }\n",
       "\n",
       "    .dataframe thead th {\n",
       "        text-align: right;\n",
       "    }\n",
       "</style>\n",
       "<table border=\"1\" class=\"dataframe\">\n",
       "  <thead>\n",
       "    <tr style=\"text-align: right;\">\n",
       "      <th></th>\n",
       "      <th>startYear</th>\n",
       "      <th>runtimeMinutes</th>\n",
       "      <th>averageRating</th>\n",
       "      <th>numVotes</th>\n",
       "    </tr>\n",
       "  </thead>\n",
       "  <tbody>\n",
       "    <tr>\n",
       "      <th>count</th>\n",
       "      <td>3.483580e+06</td>\n",
       "      <td>3.008303e+06</td>\n",
       "      <td>3.483875e+06</td>\n",
       "      <td>3.483875e+06</td>\n",
       "    </tr>\n",
       "    <tr>\n",
       "      <th>mean</th>\n",
       "      <td>1.995936e+03</td>\n",
       "      <td>5.860408e+01</td>\n",
       "      <td>6.764852e+00</td>\n",
       "      <td>2.346812e+03</td>\n",
       "    </tr>\n",
       "    <tr>\n",
       "      <th>std</th>\n",
       "      <td>2.499134e+01</td>\n",
       "      <td>6.946736e+01</td>\n",
       "      <td>1.374452e+00</td>\n",
       "      <td>2.665700e+04</td>\n",
       "    </tr>\n",
       "    <tr>\n",
       "      <th>min</th>\n",
       "      <td>1.874000e+03</td>\n",
       "      <td>0.000000e+00</td>\n",
       "      <td>1.000000e+00</td>\n",
       "      <td>5.000000e+00</td>\n",
       "    </tr>\n",
       "    <tr>\n",
       "      <th>25%</th>\n",
       "      <td>1.986000e+03</td>\n",
       "      <td>2.400000e+01</td>\n",
       "      <td>6.000000e+00</td>\n",
       "      <td>2.100000e+01</td>\n",
       "    </tr>\n",
       "    <tr>\n",
       "      <th>50%</th>\n",
       "      <td>2.005000e+03</td>\n",
       "      <td>5.000000e+01</td>\n",
       "      <td>7.000000e+00</td>\n",
       "      <td>7.900000e+01</td>\n",
       "    </tr>\n",
       "    <tr>\n",
       "      <th>75%</th>\n",
       "      <td>2.014000e+03</td>\n",
       "      <td>8.900000e+01</td>\n",
       "      <td>7.800000e+00</td>\n",
       "      <td>3.720000e+02</td>\n",
       "    </tr>\n",
       "    <tr>\n",
       "      <th>max</th>\n",
       "      <td>2.022000e+03</td>\n",
       "      <td>5.142000e+04</td>\n",
       "      <td>1.000000e+01</td>\n",
       "      <td>2.543762e+06</td>\n",
       "    </tr>\n",
       "  </tbody>\n",
       "</table>\n",
       "</div>"
      ],
      "text/plain": [
       "          startYear  runtimeMinutes  averageRating      numVotes\n",
       "count  3.483580e+06    3.008303e+06   3.483875e+06  3.483875e+06\n",
       "mean   1.995936e+03    5.860408e+01   6.764852e+00  2.346812e+03\n",
       "std    2.499134e+01    6.946736e+01   1.374452e+00  2.665700e+04\n",
       "min    1.874000e+03    0.000000e+00   1.000000e+00  5.000000e+00\n",
       "25%    1.986000e+03    2.400000e+01   6.000000e+00  2.100000e+01\n",
       "50%    2.005000e+03    5.000000e+01   7.000000e+00  7.900000e+01\n",
       "75%    2.014000e+03    8.900000e+01   7.800000e+00  3.720000e+02\n",
       "max    2.022000e+03    5.142000e+04   1.000000e+01  2.543762e+06"
      ]
     },
     "execution_count": 27,
     "metadata": {},
     "output_type": "execute_result"
    }
   ],
   "source": [
    "df.describe()"
   ]
  }
 ],
 "metadata": {
  "kernelspec": {
   "display_name": "Python 3 (ipykernel)",
   "language": "python",
   "name": "python3"
  },
  "language_info": {
   "codemirror_mode": {
    "name": "ipython",
    "version": 3
   },
   "file_extension": ".py",
   "mimetype": "text/x-python",
   "name": "python",
   "nbconvert_exporter": "python",
   "pygments_lexer": "ipython3",
   "version": "3.9.7"
  }
 },
 "nbformat": 4,
 "nbformat_minor": 5
}
