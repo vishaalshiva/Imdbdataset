{
 "cells": [
  {
   "cell_type": "code",
   "execution_count": 1,
   "id": "b2db094d",
   "metadata": {},
   "outputs": [],
   "source": [
    "# Import Packages\n",
    "#########################################################################################################################\n",
    "import pandas as pd, numpy as np\n",
    "from sqlalchemy import create_engine, MetaData, Table, select\n",
    "import os, time\n",
    "import math\n",
    "from sklearn.preprocessing import LabelEncoder\n",
    "from sklearn.preprocessing import OneHotEncoder\n",
    "from datetime import datetime\n",
    "from sklearn.model_selection import GridSearchCV, train_test_split, RandomizedSearchCV\n",
    "from sklearn.metrics import roc_auc_score\n",
    "from scipy import sparse\n",
    "import matplotlib.pyplot as plt\n",
    "from sklearn.utils import shuffle\n",
    "from matplotlib import pyplot\n",
    "from sklearn.model_selection import KFold\n",
    "from sklearn.model_selection import cross_val_score\n",
    "from sklearn.metrics import roc_curve, auc, confusion_matrix\n",
    "from sklearn.preprocessing import StandardScaler\n",
    "import seaborn as sns"
   ]
  },
  {
   "cell_type": "code",
   "execution_count": 128,
   "id": "be99b334",
   "metadata": {},
   "outputs": [
    {
     "name": "stderr",
     "output_type": "stream",
     "text": [
      "/opt/anaconda3/lib/python3.9/site-packages/IPython/core/interactiveshell.py:3444: DtypeWarning: Columns (11) have mixed types.Specify dtype option on import or set low_memory=False.\n",
      "  exec(code_obj, self.user_global_ns, self.user_ns)\n"
     ]
    }
   ],
   "source": [
    "df = pd.read_csv('data.csv')"
   ]
  },
  {
   "cell_type": "markdown",
   "id": "e1669f8f",
   "metadata": {},
   "source": [
    "#### Before Analyzing lets start by deduping the data set"
   ]
  },
  {
   "cell_type": "code",
   "execution_count": 129,
   "id": "37ee08ff",
   "metadata": {},
   "outputs": [],
   "source": [
    "df = df.drop(['Unnamed: 0'], axis=1)"
   ]
  },
  {
   "cell_type": "code",
   "execution_count": 130,
   "id": "80fef557",
   "metadata": {},
   "outputs": [],
   "source": [
    "df = df.drop_duplicates()"
   ]
  },
  {
   "cell_type": "code",
   "execution_count": 131,
   "id": "904c7184",
   "metadata": {},
   "outputs": [
    {
     "name": "stdout",
     "output_type": "stream",
     "text": [
      "<class 'pandas.core.frame.DataFrame'>\n",
      "Int64Index: 503586 entries, 0 to 513230\n",
      "Data columns (total 15 columns):\n",
      " #   Column             Non-Null Count   Dtype  \n",
      "---  ------             --------------   -----  \n",
      " 0   tconst             503586 non-null  object \n",
      " 1   directors          459020 non-null  object \n",
      " 2   writers            414458 non-null  object \n",
      " 3   titleType          503586 non-null  object \n",
      " 4   primaryTitle       503586 non-null  object \n",
      " 5   isAdult            503586 non-null  int64  \n",
      " 6   startYear          503543 non-null  float64\n",
      " 7   runtimeMinutes     426299 non-null  float64\n",
      " 8   genres             497136 non-null  object \n",
      " 9   category           459143 non-null  object \n",
      " 10  job                29099 non-null   object \n",
      " 11  primaryProfession  444316 non-null  object \n",
      " 12  knownForTitles     455954 non-null  object \n",
      " 13  averageRating      503586 non-null  float64\n",
      " 14  numVotes           503586 non-null  int64  \n",
      "dtypes: float64(3), int64(2), object(10)\n",
      "memory usage: 61.5+ MB\n"
     ]
    }
   ],
   "source": [
    "df.info()"
   ]
  },
  {
   "cell_type": "code",
   "execution_count": 132,
   "id": "1628dac2",
   "metadata": {},
   "outputs": [],
   "source": [
    "df['isAdult'] = pd.Categorical(df['isAdult'])"
   ]
  },
  {
   "cell_type": "markdown",
   "id": "a0319606",
   "metadata": {},
   "source": [
    "### Bivariate Analysis for numerical variables "
   ]
  },
  {
   "cell_type": "code",
   "execution_count": 133,
   "id": "cfe8c8cc",
   "metadata": {},
   "outputs": [],
   "source": [
    "corr = df.corr()"
   ]
  },
  {
   "cell_type": "code",
   "execution_count": 134,
   "id": "04c6e636",
   "metadata": {},
   "outputs": [
    {
     "data": {
      "text/html": [
       "<div>\n",
       "<style scoped>\n",
       "    .dataframe tbody tr th:only-of-type {\n",
       "        vertical-align: middle;\n",
       "    }\n",
       "\n",
       "    .dataframe tbody tr th {\n",
       "        vertical-align: top;\n",
       "    }\n",
       "\n",
       "    .dataframe thead th {\n",
       "        text-align: right;\n",
       "    }\n",
       "</style>\n",
       "<table border=\"1\" class=\"dataframe\">\n",
       "  <thead>\n",
       "    <tr style=\"text-align: right;\">\n",
       "      <th></th>\n",
       "      <th>startYear</th>\n",
       "      <th>runtimeMinutes</th>\n",
       "      <th>averageRating</th>\n",
       "      <th>numVotes</th>\n",
       "    </tr>\n",
       "  </thead>\n",
       "  <tbody>\n",
       "    <tr>\n",
       "      <th>startYear</th>\n",
       "      <td>1.000000</td>\n",
       "      <td>0.015412</td>\n",
       "      <td>0.142193</td>\n",
       "      <td>0.025265</td>\n",
       "    </tr>\n",
       "    <tr>\n",
       "      <th>runtimeMinutes</th>\n",
       "      <td>0.015412</td>\n",
       "      <td>1.000000</td>\n",
       "      <td>-0.068692</td>\n",
       "      <td>0.035455</td>\n",
       "    </tr>\n",
       "    <tr>\n",
       "      <th>averageRating</th>\n",
       "      <td>0.142193</td>\n",
       "      <td>-0.068692</td>\n",
       "      <td>1.000000</td>\n",
       "      <td>0.033647</td>\n",
       "    </tr>\n",
       "    <tr>\n",
       "      <th>numVotes</th>\n",
       "      <td>0.025265</td>\n",
       "      <td>0.035455</td>\n",
       "      <td>0.033647</td>\n",
       "      <td>1.000000</td>\n",
       "    </tr>\n",
       "  </tbody>\n",
       "</table>\n",
       "</div>"
      ],
      "text/plain": [
       "                startYear  runtimeMinutes  averageRating  numVotes\n",
       "startYear        1.000000        0.015412       0.142193  0.025265\n",
       "runtimeMinutes   0.015412        1.000000      -0.068692  0.035455\n",
       "averageRating    0.142193       -0.068692       1.000000  0.033647\n",
       "numVotes         0.025265        0.035455       0.033647  1.000000"
      ]
     },
     "execution_count": 134,
     "metadata": {},
     "output_type": "execute_result"
    }
   ],
   "source": [
    "corr"
   ]
  },
  {
   "cell_type": "code",
   "execution_count": 135,
   "id": "62448f0b",
   "metadata": {},
   "outputs": [
    {
     "data": {
      "text/plain": [
       "<AxesSubplot:>"
      ]
     },
     "execution_count": 135,
     "metadata": {},
     "output_type": "execute_result"
    },
    {
     "data": {
      "image/png": "[encoded data removed]",
      "text/plain": [
       "<Figure size 792x648 with 2 Axes>"
      ]
     },
     "metadata": {},
     "output_type": "display_data"
    }
   ],
   "source": [
    "# Generate a mask for the upper triangle\n",
    "mask = np.triu(np.ones_like(corr, dtype=bool))\n",
    "\n",
    "# Set up the matplotlib figure\n",
    "f, ax = plt.subplots(figsize=(11, 9))\n",
    "\n",
    "# Generate a custom diverging colormap\n",
    "cmap = sns.diverging_palette(230, 20, as_cmap=True)\n",
    "\n",
    "# Draw the heatmap with the mask and correct aspect ratio\n",
    "sns.heatmap(corr, mask=mask, cmap=cmap, vmax=.3, center=0,\n",
    "            square=True, linewidths=.5, cbar_kws={\"shrink\": .5})"
   ]
  },
  {
   "cell_type": "markdown",
   "id": "5b243703",
   "metadata": {},
   "source": [
    "###### From the Chart we can conclude that there is hardly any correlation between the numerical variables and hence we can keep all"
   ]
  },
  {
   "cell_type": "markdown",
   "id": "e517ce59",
   "metadata": {},
   "source": [
    "### Univariate & Bivariate Analysis for Categorical variables "
   ]
  },
  {
   "cell_type": "code",
   "execution_count": 136,
   "id": "5b3c4810",
   "metadata": {},
   "outputs": [],
   "source": [
    "df_cat = df.select_dtypes(include = 'object').copy()"
   ]
  },
  {
   "cell_type": "code",
   "execution_count": 137,
   "id": "314871a7",
   "metadata": {},
   "outputs": [
    {
     "data": {
      "text/html": [
       "<div>\n",
       "<style scoped>\n",
       "    .dataframe tbody tr th:only-of-type {\n",
       "        vertical-align: middle;\n",
       "    }\n",
       "\n",
       "    .dataframe tbody tr th {\n",
       "        vertical-align: top;\n",
       "    }\n",
       "\n",
       "    .dataframe thead th {\n",
       "        text-align: right;\n",
       "    }\n",
       "</style>\n",
       "<table border=\"1\" class=\"dataframe\">\n",
       "  <thead>\n",
       "    <tr style=\"text-align: right;\">\n",
       "      <th></th>\n",
       "      <th>tconst</th>\n",
       "      <th>directors</th>\n",
       "      <th>writers</th>\n",
       "      <th>titleType</th>\n",
       "      <th>primaryTitle</th>\n",
       "      <th>genres</th>\n",
       "      <th>category</th>\n",
       "      <th>job</th>\n",
       "      <th>primaryProfession</th>\n",
       "      <th>knownForTitles</th>\n",
       "    </tr>\n",
       "  </thead>\n",
       "  <tbody>\n",
       "    <tr>\n",
       "      <th>0</th>\n",
       "      <td>tt0000001</td>\n",
       "      <td>nm0005690</td>\n",
       "      <td>NaN</td>\n",
       "      <td>short</td>\n",
       "      <td>Carmencita</td>\n",
       "      <td>Documentary,Short</td>\n",
       "      <td>NaN</td>\n",
       "      <td>NaN</td>\n",
       "      <td>NaN</td>\n",
       "      <td>NaN</td>\n",
       "    </tr>\n",
       "    <tr>\n",
       "      <th>1</th>\n",
       "      <td>tt0000002</td>\n",
       "      <td>nm0721526</td>\n",
       "      <td>NaN</td>\n",
       "      <td>short</td>\n",
       "      <td>Le clown et ses chiens</td>\n",
       "      <td>Animation,Short</td>\n",
       "      <td>NaN</td>\n",
       "      <td>NaN</td>\n",
       "      <td>NaN</td>\n",
       "      <td>NaN</td>\n",
       "    </tr>\n",
       "    <tr>\n",
       "      <th>2</th>\n",
       "      <td>tt0000005</td>\n",
       "      <td>nm0005690</td>\n",
       "      <td>NaN</td>\n",
       "      <td>short</td>\n",
       "      <td>Blacksmith Scene</td>\n",
       "      <td>Comedy,Short</td>\n",
       "      <td>NaN</td>\n",
       "      <td>NaN</td>\n",
       "      <td>NaN</td>\n",
       "      <td>NaN</td>\n",
       "    </tr>\n",
       "    <tr>\n",
       "      <th>3</th>\n",
       "      <td>tt0000005</td>\n",
       "      <td>nm0005690</td>\n",
       "      <td>NaN</td>\n",
       "      <td>short</td>\n",
       "      <td>Blacksmith Scene</td>\n",
       "      <td>Comedy,Short</td>\n",
       "      <td>actor</td>\n",
       "      <td>NaN</td>\n",
       "      <td>actor</td>\n",
       "      <td>tt0000005</td>\n",
       "    </tr>\n",
       "    <tr>\n",
       "      <th>6</th>\n",
       "      <td>tt0000006</td>\n",
       "      <td>nm0005690</td>\n",
       "      <td>NaN</td>\n",
       "      <td>short</td>\n",
       "      <td>Chinese Opium Den</td>\n",
       "      <td>Short</td>\n",
       "      <td>NaN</td>\n",
       "      <td>NaN</td>\n",
       "      <td>NaN</td>\n",
       "      <td>NaN</td>\n",
       "    </tr>\n",
       "  </tbody>\n",
       "</table>\n",
       "</div>"
      ],
      "text/plain": [
       "      tconst  directors writers titleType            primaryTitle  \\\n",
       "0  tt0000001  nm0005690     NaN     short              Carmencita   \n",
       "1  tt0000002  nm0721526     NaN     short  Le clown et ses chiens   \n",
       "2  tt0000005  nm0005690     NaN     short        Blacksmith Scene   \n",
       "3  tt0000005  nm0005690     NaN     short        Blacksmith Scene   \n",
       "6  tt0000006  nm0005690     NaN     short       Chinese Opium Den   \n",
       "\n",
       "              genres category  job primaryProfession knownForTitles  \n",
       "0  Documentary,Short      NaN  NaN               NaN            NaN  \n",
       "1    Animation,Short      NaN  NaN               NaN            NaN  \n",
       "2       Comedy,Short      NaN  NaN               NaN            NaN  \n",
       "3       Comedy,Short    actor  NaN             actor      tt0000005  \n",
       "6              Short      NaN  NaN               NaN            NaN  "
      ]
     },
     "execution_count": 137,
     "metadata": {},
     "output_type": "execute_result"
    }
   ],
   "source": [
    "df_cat.head()"
   ]
  },
  {
   "cell_type": "markdown",
   "id": "62a5055b",
   "metadata": {},
   "source": [
    "#### Finding out the percentage of missing values in the categorical data set"
   ]
  },
  {
   "cell_type": "code",
   "execution_count": 138,
   "id": "65ffe136",
   "metadata": {},
   "outputs": [],
   "source": [
    "percent_missing = df.isnull().sum() * 100 / len(df)\n",
    "missing_value_df = pd.DataFrame({'column_name': df.columns,\n",
    "                                 'percent_missing': percent_missing})"
   ]
  },
  {
   "cell_type": "code",
   "execution_count": 139,
   "id": "8cacbd80",
   "metadata": {},
   "outputs": [],
   "source": [
    "missing_value_df.sort_values('percent_missing', inplace=True)"
   ]
  },
  {
   "cell_type": "code",
   "execution_count": 140,
   "id": "d7d387fe",
   "metadata": {},
   "outputs": [
    {
     "data": {
      "text/html": [
       "<div>\n",
       "<style scoped>\n",
       "    .dataframe tbody tr th:only-of-type {\n",
       "        vertical-align: middle;\n",
       "    }\n",
       "\n",
       "    .dataframe tbody tr th {\n",
       "        vertical-align: top;\n",
       "    }\n",
       "\n",
       "    .dataframe thead th {\n",
       "        text-align: right;\n",
       "    }\n",
       "</style>\n",
       "<table border=\"1\" class=\"dataframe\">\n",
       "  <thead>\n",
       "    <tr style=\"text-align: right;\">\n",
       "      <th></th>\n",
       "      <th>column_name</th>\n",
       "      <th>percent_missing</th>\n",
       "    </tr>\n",
       "  </thead>\n",
       "  <tbody>\n",
       "    <tr>\n",
       "      <th>tconst</th>\n",
       "      <td>tconst</td>\n",
       "      <td>0.000000</td>\n",
       "    </tr>\n",
       "    <tr>\n",
       "      <th>titleType</th>\n",
       "      <td>titleType</td>\n",
       "      <td>0.000000</td>\n",
       "    </tr>\n",
       "    <tr>\n",
       "      <th>primaryTitle</th>\n",
       "      <td>primaryTitle</td>\n",
       "      <td>0.000000</td>\n",
       "    </tr>\n",
       "    <tr>\n",
       "      <th>isAdult</th>\n",
       "      <td>isAdult</td>\n",
       "      <td>0.000000</td>\n",
       "    </tr>\n",
       "    <tr>\n",
       "      <th>averageRating</th>\n",
       "      <td>averageRating</td>\n",
       "      <td>0.000000</td>\n",
       "    </tr>\n",
       "    <tr>\n",
       "      <th>numVotes</th>\n",
       "      <td>numVotes</td>\n",
       "      <td>0.000000</td>\n",
       "    </tr>\n",
       "    <tr>\n",
       "      <th>startYear</th>\n",
       "      <td>startYear</td>\n",
       "      <td>0.008539</td>\n",
       "    </tr>\n",
       "    <tr>\n",
       "      <th>genres</th>\n",
       "      <td>genres</td>\n",
       "      <td>1.280814</td>\n",
       "    </tr>\n",
       "    <tr>\n",
       "      <th>category</th>\n",
       "      <td>category</td>\n",
       "      <td>8.825305</td>\n",
       "    </tr>\n",
       "    <tr>\n",
       "      <th>directors</th>\n",
       "      <td>directors</td>\n",
       "      <td>8.849730</td>\n",
       "    </tr>\n",
       "    <tr>\n",
       "      <th>knownForTitles</th>\n",
       "      <td>knownForTitles</td>\n",
       "      <td>9.458563</td>\n",
       "    </tr>\n",
       "    <tr>\n",
       "      <th>primaryProfession</th>\n",
       "      <td>primaryProfession</td>\n",
       "      <td>11.769589</td>\n",
       "    </tr>\n",
       "    <tr>\n",
       "      <th>runtimeMinutes</th>\n",
       "      <td>runtimeMinutes</td>\n",
       "      <td>15.347329</td>\n",
       "    </tr>\n",
       "    <tr>\n",
       "      <th>writers</th>\n",
       "      <td>writers</td>\n",
       "      <td>17.698665</td>\n",
       "    </tr>\n",
       "    <tr>\n",
       "      <th>job</th>\n",
       "      <td>job</td>\n",
       "      <td>94.221642</td>\n",
       "    </tr>\n",
       "  </tbody>\n",
       "</table>\n",
       "</div>"
      ],
      "text/plain": [
       "                         column_name  percent_missing\n",
       "tconst                        tconst         0.000000\n",
       "titleType                  titleType         0.000000\n",
       "primaryTitle            primaryTitle         0.000000\n",
       "isAdult                      isAdult         0.000000\n",
       "averageRating          averageRating         0.000000\n",
       "numVotes                    numVotes         0.000000\n",
       "startYear                  startYear         0.008539\n",
       "genres                        genres         1.280814\n",
       "category                    category         8.825305\n",
       "directors                  directors         8.849730\n",
       "knownForTitles        knownForTitles         9.458563\n",
       "primaryProfession  primaryProfession        11.769589\n",
       "runtimeMinutes        runtimeMinutes        15.347329\n",
       "writers                      writers        17.698665\n",
       "job                              job        94.221642"
      ]
     },
     "execution_count": 140,
     "metadata": {},
     "output_type": "execute_result"
    }
   ],
   "source": [
    "missing_value_df"
   ]
  },
  {
   "cell_type": "code",
   "execution_count": 141,
   "id": "ad6ab68c",
   "metadata": {},
   "outputs": [],
   "source": [
    "df_cat['averageRating'] = df.loc[df_cat.index, 'averageRating'].copy()"
   ]
  },
  {
   "cell_type": "code",
   "execution_count": 142,
   "id": "bd52e99a",
   "metadata": {},
   "outputs": [
    {
     "data": {
      "image/png": "[encoded data removed]",
      "text/plain": [
       "<Figure size 1562.4x595.44 with 1 Axes>"
      ]
     },
     "metadata": {},
     "output_type": "display_data"
    }
   ],
   "source": [
    "ax = sns.boxplot(data = df_cat, x='titleType', y='averageRating')\n",
    "ax.set_xticklabels(ax.get_xticklabels(), rotation=15, ha=\"right\", fontsize=15)\n",
    "sns.set(rc={'figure.figsize':(21.7,8.27)})\n",
    "medians = df.groupby(['titleType'])['averageRating'].median()\n",
    "vertical_offset = df['averageRating'].median() * 0.001 # offset from median for display\n",
    "\n",
    "for xtick in ax.get_xticks():\n",
    "    ax.text(xtick,medians[xtick] + vertical_offset,medians[xtick], \n",
    "            horizontalalignment='center',size='x-small',color='w',weight='semibold')"
   ]
  },
  {
   "cell_type": "code",
   "execution_count": 143,
   "id": "7a1a1fdc",
   "metadata": {},
   "outputs": [
    {
     "data": {
      "text/plain": [
       "12"
      ]
     },
     "execution_count": 143,
     "metadata": {},
     "output_type": "execute_result"
    }
   ],
   "source": [
    "df_cat['category'].nunique()"
   ]
  },
  {
   "cell_type": "code",
   "execution_count": 144,
   "id": "f9a8ec91",
   "metadata": {},
   "outputs": [
    {
     "data": {
      "image/png": "[encoded data removed]",
      "text/plain": [
       "<Figure size 1562.4x595.44 with 1 Axes>"
      ]
     },
     "metadata": {},
     "output_type": "display_data"
    }
   ],
   "source": [
    "ax = sns.boxplot(data = df_cat, x='category', y='averageRating')\n",
    "ax.set_xticklabels(ax.get_xticklabels(), rotation=15, ha=\"right\", fontsize=15)\n",
    "sns.set(rc={'figure.figsize':(21.7,8.27)})\n",
    "medians = df.groupby(['category'])['averageRating'].median()\n",
    "vertical_offset = df['averageRating'].median() * 0.1 # offset from median for display\n",
    "\n",
    "for xtick in ax.get_xticks():\n",
    "    ax.text(xtick,medians[xtick] + vertical_offset,medians[xtick], \n",
    "            horizontalalignment='center',size='x-small',color='black',weight='semibold')"
   ]
  },
  {
   "cell_type": "markdown",
   "id": "043b3a8d",
   "metadata": {},
   "source": [
    "### Handling genre and knownfor title variable"
   ]
  },
  {
   "cell_type": "markdown",
   "id": "40fb92e7",
   "metadata": {},
   "source": [
    "#### Adding a varibale which has the total number of genres"
   ]
  },
  {
   "cell_type": "code",
   "execution_count": 145,
   "id": "e053fa4c",
   "metadata": {},
   "outputs": [],
   "source": [
    "df['numberofgenre'] = df['genres'].str.count(',') + 1\n",
    "df['numberofwriters'] = df['writers'].str.count(',') + 1\n",
    "df['numberofdirectors'] = df['directors'].str.count(',') + 1"
   ]
  },
  {
   "cell_type": "markdown",
   "id": "09aaab7f",
   "metadata": {},
   "source": [
    "#### An idea to give plus points if a title is known and does not match with tconst"
   ]
  },
  {
   "cell_type": "code",
   "execution_count": 146,
   "id": "3a9f4cbb",
   "metadata": {},
   "outputs": [],
   "source": [
    "#df['Plus'] = df['tconst'] == df['knownForTitles']"
   ]
  },
  {
   "cell_type": "code",
   "execution_count": 147,
   "id": "cae1b2c6",
   "metadata": {},
   "outputs": [],
   "source": [
    "#df[(df['Plus'] == 'FALSE') & ( df['knownForTitles'].notnull())]"
   ]
  },
  {
   "cell_type": "markdown",
   "id": "e110753e",
   "metadata": {},
   "source": [
    "#### But there exists no records like that hence will convert knownForTitles as a flag"
   ]
  },
  {
   "cell_type": "code",
   "execution_count": 148,
   "id": "84fbc53a",
   "metadata": {},
   "outputs": [],
   "source": [
    "df['knownForTitles'] = np.where(df['knownForTitles'].isnull(), 0, 100000)"
   ]
  },
  {
   "cell_type": "code",
   "execution_count": 149,
   "id": "cec11f26",
   "metadata": {},
   "outputs": [
    {
     "data": {
      "text/html": [
       "<div>\n",
       "<style scoped>\n",
       "    .dataframe tbody tr th:only-of-type {\n",
       "        vertical-align: middle;\n",
       "    }\n",
       "\n",
       "    .dataframe tbody tr th {\n",
       "        vertical-align: top;\n",
       "    }\n",
       "\n",
       "    .dataframe thead th {\n",
       "        text-align: right;\n",
       "    }\n",
       "</style>\n",
       "<table border=\"1\" class=\"dataframe\">\n",
       "  <thead>\n",
       "    <tr style=\"text-align: right;\">\n",
       "      <th></th>\n",
       "      <th>tconst</th>\n",
       "      <th>directors</th>\n",
       "      <th>writers</th>\n",
       "      <th>titleType</th>\n",
       "      <th>primaryTitle</th>\n",
       "      <th>isAdult</th>\n",
       "      <th>startYear</th>\n",
       "      <th>runtimeMinutes</th>\n",
       "      <th>genres</th>\n",
       "      <th>category</th>\n",
       "      <th>job</th>\n",
       "      <th>primaryProfession</th>\n",
       "      <th>knownForTitles</th>\n",
       "      <th>averageRating</th>\n",
       "      <th>numVotes</th>\n",
       "      <th>numberofgenre</th>\n",
       "      <th>numberofwriters</th>\n",
       "      <th>numberofdirectors</th>\n",
       "    </tr>\n",
       "  </thead>\n",
       "  <tbody>\n",
       "    <tr>\n",
       "      <th>0</th>\n",
       "      <td>tt0000001</td>\n",
       "      <td>nm0005690</td>\n",
       "      <td>NaN</td>\n",
       "      <td>short</td>\n",
       "      <td>Carmencita</td>\n",
       "      <td>0</td>\n",
       "      <td>1894.0</td>\n",
       "      <td>1.0</td>\n",
       "      <td>Documentary,Short</td>\n",
       "      <td>NaN</td>\n",
       "      <td>NaN</td>\n",
       "      <td>NaN</td>\n",
       "      <td>0</td>\n",
       "      <td>5.7</td>\n",
       "      <td>1858</td>\n",
       "      <td>2.0</td>\n",
       "      <td>NaN</td>\n",
       "      <td>1.0</td>\n",
       "    </tr>\n",
       "    <tr>\n",
       "      <th>1</th>\n",
       "      <td>tt0000002</td>\n",
       "      <td>nm0721526</td>\n",
       "      <td>NaN</td>\n",
       "      <td>short</td>\n",
       "      <td>Le clown et ses chiens</td>\n",
       "      <td>0</td>\n",
       "      <td>1892.0</td>\n",
       "      <td>5.0</td>\n",
       "      <td>Animation,Short</td>\n",
       "      <td>NaN</td>\n",
       "      <td>NaN</td>\n",
       "      <td>NaN</td>\n",
       "      <td>0</td>\n",
       "      <td>6.0</td>\n",
       "      <td>243</td>\n",
       "      <td>2.0</td>\n",
       "      <td>NaN</td>\n",
       "      <td>1.0</td>\n",
       "    </tr>\n",
       "    <tr>\n",
       "      <th>2</th>\n",
       "      <td>tt0000005</td>\n",
       "      <td>nm0005690</td>\n",
       "      <td>NaN</td>\n",
       "      <td>short</td>\n",
       "      <td>Blacksmith Scene</td>\n",
       "      <td>0</td>\n",
       "      <td>1893.0</td>\n",
       "      <td>1.0</td>\n",
       "      <td>Comedy,Short</td>\n",
       "      <td>NaN</td>\n",
       "      <td>NaN</td>\n",
       "      <td>NaN</td>\n",
       "      <td>0</td>\n",
       "      <td>6.2</td>\n",
       "      <td>2455</td>\n",
       "      <td>2.0</td>\n",
       "      <td>NaN</td>\n",
       "      <td>1.0</td>\n",
       "    </tr>\n",
       "    <tr>\n",
       "      <th>3</th>\n",
       "      <td>tt0000005</td>\n",
       "      <td>nm0005690</td>\n",
       "      <td>NaN</td>\n",
       "      <td>short</td>\n",
       "      <td>Blacksmith Scene</td>\n",
       "      <td>0</td>\n",
       "      <td>1893.0</td>\n",
       "      <td>1.0</td>\n",
       "      <td>Comedy,Short</td>\n",
       "      <td>actor</td>\n",
       "      <td>NaN</td>\n",
       "      <td>actor</td>\n",
       "      <td>100000</td>\n",
       "      <td>6.2</td>\n",
       "      <td>2455</td>\n",
       "      <td>2.0</td>\n",
       "      <td>NaN</td>\n",
       "      <td>1.0</td>\n",
       "    </tr>\n",
       "    <tr>\n",
       "      <th>6</th>\n",
       "      <td>tt0000006</td>\n",
       "      <td>nm0005690</td>\n",
       "      <td>NaN</td>\n",
       "      <td>short</td>\n",
       "      <td>Chinese Opium Den</td>\n",
       "      <td>0</td>\n",
       "      <td>1894.0</td>\n",
       "      <td>1.0</td>\n",
       "      <td>Short</td>\n",
       "      <td>NaN</td>\n",
       "      <td>NaN</td>\n",
       "      <td>NaN</td>\n",
       "      <td>0</td>\n",
       "      <td>5.2</td>\n",
       "      <td>163</td>\n",
       "      <td>1.0</td>\n",
       "      <td>NaN</td>\n",
       "      <td>1.0</td>\n",
       "    </tr>\n",
       "  </tbody>\n",
       "</table>\n",
       "</div>"
      ],
      "text/plain": [
       "      tconst  directors writers titleType            primaryTitle isAdult  \\\n",
       "0  tt0000001  nm0005690     NaN     short              Carmencita       0   \n",
       "1  tt0000002  nm0721526     NaN     short  Le clown et ses chiens       0   \n",
       "2  tt0000005  nm0005690     NaN     short        Blacksmith Scene       0   \n",
       "3  tt0000005  nm0005690     NaN     short        Blacksmith Scene       0   \n",
       "6  tt0000006  nm0005690     NaN     short       Chinese Opium Den       0   \n",
       "\n",
       "   startYear  runtimeMinutes             genres category  job  \\\n",
       "0     1894.0             1.0  Documentary,Short      NaN  NaN   \n",
       "1     1892.0             5.0    Animation,Short      NaN  NaN   \n",
       "2     1893.0             1.0       Comedy,Short      NaN  NaN   \n",
       "3     1893.0             1.0       Comedy,Short    actor  NaN   \n",
       "6     1894.0             1.0              Short      NaN  NaN   \n",
       "\n",
       "  primaryProfession  knownForTitles  averageRating  numVotes  numberofgenre  \\\n",
       "0               NaN               0            5.7      1858            2.0   \n",
       "1               NaN               0            6.0       243            2.0   \n",
       "2               NaN               0            6.2      2455            2.0   \n",
       "3             actor          100000            6.2      2455            2.0   \n",
       "6               NaN               0            5.2       163            1.0   \n",
       "\n",
       "   numberofwriters  numberofdirectors  \n",
       "0              NaN                1.0  \n",
       "1              NaN                1.0  \n",
       "2              NaN                1.0  \n",
       "3              NaN                1.0  \n",
       "6              NaN                1.0  "
      ]
     },
     "execution_count": 149,
     "metadata": {},
     "output_type": "execute_result"
    }
   ],
   "source": [
    "df.head()"
   ]
  },
  {
   "cell_type": "code",
   "execution_count": 150,
   "id": "c9866333",
   "metadata": {},
   "outputs": [
    {
     "data": {
      "text/html": [
       "<div>\n",
       "<style scoped>\n",
       "    .dataframe tbody tr th:only-of-type {\n",
       "        vertical-align: middle;\n",
       "    }\n",
       "\n",
       "    .dataframe tbody tr th {\n",
       "        vertical-align: top;\n",
       "    }\n",
       "\n",
       "    .dataframe thead th {\n",
       "        text-align: right;\n",
       "    }\n",
       "</style>\n",
       "<table border=\"1\" class=\"dataframe\">\n",
       "  <thead>\n",
       "    <tr style=\"text-align: right;\">\n",
       "      <th></th>\n",
       "      <th>column_name</th>\n",
       "      <th>percent_missing</th>\n",
       "    </tr>\n",
       "  </thead>\n",
       "  <tbody>\n",
       "    <tr>\n",
       "      <th>tconst</th>\n",
       "      <td>tconst</td>\n",
       "      <td>0.000000</td>\n",
       "    </tr>\n",
       "    <tr>\n",
       "      <th>numVotes</th>\n",
       "      <td>numVotes</td>\n",
       "      <td>0.000000</td>\n",
       "    </tr>\n",
       "    <tr>\n",
       "      <th>titleType</th>\n",
       "      <td>titleType</td>\n",
       "      <td>0.000000</td>\n",
       "    </tr>\n",
       "    <tr>\n",
       "      <th>primaryTitle</th>\n",
       "      <td>primaryTitle</td>\n",
       "      <td>0.000000</td>\n",
       "    </tr>\n",
       "    <tr>\n",
       "      <th>isAdult</th>\n",
       "      <td>isAdult</td>\n",
       "      <td>0.000000</td>\n",
       "    </tr>\n",
       "    <tr>\n",
       "      <th>averageRating</th>\n",
       "      <td>averageRating</td>\n",
       "      <td>0.000000</td>\n",
       "    </tr>\n",
       "    <tr>\n",
       "      <th>knownForTitles</th>\n",
       "      <td>knownForTitles</td>\n",
       "      <td>0.000000</td>\n",
       "    </tr>\n",
       "    <tr>\n",
       "      <th>startYear</th>\n",
       "      <td>startYear</td>\n",
       "      <td>0.008539</td>\n",
       "    </tr>\n",
       "    <tr>\n",
       "      <th>numberofgenre</th>\n",
       "      <td>numberofgenre</td>\n",
       "      <td>1.280814</td>\n",
       "    </tr>\n",
       "    <tr>\n",
       "      <th>genres</th>\n",
       "      <td>genres</td>\n",
       "      <td>1.280814</td>\n",
       "    </tr>\n",
       "    <tr>\n",
       "      <th>category</th>\n",
       "      <td>category</td>\n",
       "      <td>8.825305</td>\n",
       "    </tr>\n",
       "    <tr>\n",
       "      <th>directors</th>\n",
       "      <td>directors</td>\n",
       "      <td>8.849730</td>\n",
       "    </tr>\n",
       "    <tr>\n",
       "      <th>numberofdirectors</th>\n",
       "      <td>numberofdirectors</td>\n",
       "      <td>8.849730</td>\n",
       "    </tr>\n",
       "    <tr>\n",
       "      <th>primaryProfession</th>\n",
       "      <td>primaryProfession</td>\n",
       "      <td>11.769589</td>\n",
       "    </tr>\n",
       "    <tr>\n",
       "      <th>runtimeMinutes</th>\n",
       "      <td>runtimeMinutes</td>\n",
       "      <td>15.347329</td>\n",
       "    </tr>\n",
       "    <tr>\n",
       "      <th>numberofwriters</th>\n",
       "      <td>numberofwriters</td>\n",
       "      <td>17.698665</td>\n",
       "    </tr>\n",
       "    <tr>\n",
       "      <th>writers</th>\n",
       "      <td>writers</td>\n",
       "      <td>17.698665</td>\n",
       "    </tr>\n",
       "    <tr>\n",
       "      <th>job</th>\n",
       "      <td>job</td>\n",
       "      <td>94.221642</td>\n",
       "    </tr>\n",
       "  </tbody>\n",
       "</table>\n",
       "</div>"
      ],
      "text/plain": [
       "                         column_name  percent_missing\n",
       "tconst                        tconst         0.000000\n",
       "numVotes                    numVotes         0.000000\n",
       "titleType                  titleType         0.000000\n",
       "primaryTitle            primaryTitle         0.000000\n",
       "isAdult                      isAdult         0.000000\n",
       "averageRating          averageRating         0.000000\n",
       "knownForTitles        knownForTitles         0.000000\n",
       "startYear                  startYear         0.008539\n",
       "numberofgenre          numberofgenre         1.280814\n",
       "genres                        genres         1.280814\n",
       "category                    category         8.825305\n",
       "directors                  directors         8.849730\n",
       "numberofdirectors  numberofdirectors         8.849730\n",
       "primaryProfession  primaryProfession        11.769589\n",
       "runtimeMinutes        runtimeMinutes        15.347329\n",
       "numberofwriters      numberofwriters        17.698665\n",
       "writers                      writers        17.698665\n",
       "job                              job        94.221642"
      ]
     },
     "execution_count": 150,
     "metadata": {},
     "output_type": "execute_result"
    }
   ],
   "source": [
    "percent_missing = df.isnull().sum() * 100 / len(df)\n",
    "missing_value_df = pd.DataFrame({'column_name': df.columns,\n",
    "                                 'percent_missing': percent_missing})\n",
    "missing_value_df.sort_values('percent_missing', inplace=True)\n",
    "missing_value_df"
   ]
  },
  {
   "cell_type": "markdown",
   "id": "7fc09a4b",
   "metadata": {},
   "source": [
    "## Tackling Null Values\n",
    "1) Will be dropping the column of **job** (has 94% missing values)and **primary profession**(since we alredy have category which talks about similar info)\n",
    "\n",
    "2) will be filtering for data where **genre** and **startyear** is not null since it is like 1% of the data\n",
    "\n",
    "3) Will have highest freq values for **directors**,**writers** and **category** and median value for **runtimeMinutes**"
   ]
  },
  {
   "cell_type": "code",
   "execution_count": 151,
   "id": "07b4d01d",
   "metadata": {},
   "outputs": [],
   "source": [
    "df = df[df['genres'].notnull()]"
   ]
  },
  {
   "cell_type": "code",
   "execution_count": 152,
   "id": "1faa6060",
   "metadata": {},
   "outputs": [],
   "source": [
    "df = df[df['startYear'].notnull()]"
   ]
  },
  {
   "cell_type": "code",
   "execution_count": 153,
   "id": "9a934370",
   "metadata": {},
   "outputs": [],
   "source": [
    "df = df.drop(['job'], axis=1)"
   ]
  },
  {
   "cell_type": "code",
   "execution_count": 154,
   "id": "52ec273a",
   "metadata": {},
   "outputs": [],
   "source": [
    "df = df.drop(['primaryProfession'], axis=1)"
   ]
  },
  {
   "cell_type": "code",
   "execution_count": 155,
   "id": "de3de908",
   "metadata": {},
   "outputs": [],
   "source": [
    "s = df.directors.value_counts(normalize=True)\n",
    "df.loc[df.directors.isna(), 'directors'] = np.random.choice(s.index, p=s.values, size=df.directors.isna().sum())"
   ]
  },
  {
   "cell_type": "code",
   "execution_count": 156,
   "id": "e7c93572",
   "metadata": {},
   "outputs": [],
   "source": [
    "s = df.writers.value_counts(normalize=True)\n",
    "df.loc[df.writers.isna(), 'writers'] = np.random.choice(s.index, p=s.values, size=df.writers.isna().sum())"
   ]
  },
  {
   "cell_type": "code",
   "execution_count": 157,
   "id": "2a971f35",
   "metadata": {},
   "outputs": [],
   "source": [
    "s = df.category.value_counts(normalize=True)\n",
    "df.loc[df.category.isna(), 'category'] = np.random.choice(s.index, p=s.values, size=df.category.isna().sum())"
   ]
  },
  {
   "cell_type": "code",
   "execution_count": 158,
   "id": "8441b5c3",
   "metadata": {},
   "outputs": [],
   "source": [
    "df['runtimeMinutes'] = df['runtimeMinutes'].fillna(df['runtimeMinutes'].median())"
   ]
  },
  {
   "cell_type": "code",
   "execution_count": 159,
   "id": "e01de451",
   "metadata": {},
   "outputs": [
    {
     "data": {
      "text/html": [
       "<div>\n",
       "<style scoped>\n",
       "    .dataframe tbody tr th:only-of-type {\n",
       "        vertical-align: middle;\n",
       "    }\n",
       "\n",
       "    .dataframe tbody tr th {\n",
       "        vertical-align: top;\n",
       "    }\n",
       "\n",
       "    .dataframe thead th {\n",
       "        text-align: right;\n",
       "    }\n",
       "</style>\n",
       "<table border=\"1\" class=\"dataframe\">\n",
       "  <thead>\n",
       "    <tr style=\"text-align: right;\">\n",
       "      <th></th>\n",
       "      <th>tconst</th>\n",
       "      <th>directors</th>\n",
       "      <th>writers</th>\n",
       "      <th>titleType</th>\n",
       "      <th>primaryTitle</th>\n",
       "      <th>isAdult</th>\n",
       "      <th>startYear</th>\n",
       "      <th>runtimeMinutes</th>\n",
       "      <th>genres</th>\n",
       "      <th>category</th>\n",
       "      <th>knownForTitles</th>\n",
       "      <th>averageRating</th>\n",
       "      <th>numVotes</th>\n",
       "      <th>numberofgenre</th>\n",
       "      <th>numberofwriters</th>\n",
       "      <th>numberofdirectors</th>\n",
       "    </tr>\n",
       "  </thead>\n",
       "  <tbody>\n",
       "    <tr>\n",
       "      <th>0</th>\n",
       "      <td>tt0000001</td>\n",
       "      <td>nm0005690</td>\n",
       "      <td>nm0731393,nm0383322,nm1549096,nm0287774</td>\n",
       "      <td>short</td>\n",
       "      <td>Carmencita</td>\n",
       "      <td>0</td>\n",
       "      <td>1894.0</td>\n",
       "      <td>1.0</td>\n",
       "      <td>Documentary,Short</td>\n",
       "      <td>producer</td>\n",
       "      <td>0</td>\n",
       "      <td>5.7</td>\n",
       "      <td>1858</td>\n",
       "      <td>2</td>\n",
       "      <td>4</td>\n",
       "      <td>1</td>\n",
       "    </tr>\n",
       "    <tr>\n",
       "      <th>1</th>\n",
       "      <td>tt0000002</td>\n",
       "      <td>nm0721526</td>\n",
       "      <td>nm1044431,nm2312213,nm3129892,nm3142583,nm2553325</td>\n",
       "      <td>short</td>\n",
       "      <td>Le clown et ses chiens</td>\n",
       "      <td>0</td>\n",
       "      <td>1892.0</td>\n",
       "      <td>5.0</td>\n",
       "      <td>Animation,Short</td>\n",
       "      <td>self</td>\n",
       "      <td>0</td>\n",
       "      <td>6.0</td>\n",
       "      <td>243</td>\n",
       "      <td>2</td>\n",
       "      <td>5</td>\n",
       "      <td>1</td>\n",
       "    </tr>\n",
       "    <tr>\n",
       "      <th>2</th>\n",
       "      <td>tt0000005</td>\n",
       "      <td>nm0005690</td>\n",
       "      <td>nm0920229,nm0792670,nm0002545,nm0943804</td>\n",
       "      <td>short</td>\n",
       "      <td>Blacksmith Scene</td>\n",
       "      <td>0</td>\n",
       "      <td>1893.0</td>\n",
       "      <td>1.0</td>\n",
       "      <td>Comedy,Short</td>\n",
       "      <td>self</td>\n",
       "      <td>0</td>\n",
       "      <td>6.2</td>\n",
       "      <td>2455</td>\n",
       "      <td>2</td>\n",
       "      <td>4</td>\n",
       "      <td>1</td>\n",
       "    </tr>\n",
       "    <tr>\n",
       "      <th>3</th>\n",
       "      <td>tt0000005</td>\n",
       "      <td>nm0005690</td>\n",
       "      <td>nm6605976</td>\n",
       "      <td>short</td>\n",
       "      <td>Blacksmith Scene</td>\n",
       "      <td>0</td>\n",
       "      <td>1893.0</td>\n",
       "      <td>1.0</td>\n",
       "      <td>Comedy,Short</td>\n",
       "      <td>actor</td>\n",
       "      <td>100000</td>\n",
       "      <td>6.2</td>\n",
       "      <td>2455</td>\n",
       "      <td>2</td>\n",
       "      <td>1</td>\n",
       "      <td>1</td>\n",
       "    </tr>\n",
       "    <tr>\n",
       "      <th>6</th>\n",
       "      <td>tt0000006</td>\n",
       "      <td>nm0005690</td>\n",
       "      <td>nm1543324</td>\n",
       "      <td>short</td>\n",
       "      <td>Chinese Opium Den</td>\n",
       "      <td>0</td>\n",
       "      <td>1894.0</td>\n",
       "      <td>1.0</td>\n",
       "      <td>Short</td>\n",
       "      <td>actor</td>\n",
       "      <td>0</td>\n",
       "      <td>5.2</td>\n",
       "      <td>163</td>\n",
       "      <td>1</td>\n",
       "      <td>1</td>\n",
       "      <td>1</td>\n",
       "    </tr>\n",
       "  </tbody>\n",
       "</table>\n",
       "</div>"
      ],
      "text/plain": [
       "      tconst  directors                                            writers  \\\n",
       "0  tt0000001  nm0005690            nm0731393,nm0383322,nm1549096,nm0287774   \n",
       "1  tt0000002  nm0721526  nm1044431,nm2312213,nm3129892,nm3142583,nm2553325   \n",
       "2  tt0000005  nm0005690            nm0920229,nm0792670,nm0002545,nm0943804   \n",
       "3  tt0000005  nm0005690                                          nm6605976   \n",
       "6  tt0000006  nm0005690                                          nm1543324   \n",
       "\n",
       "  titleType            primaryTitle isAdult  startYear  runtimeMinutes  \\\n",
       "0     short              Carmencita       0     1894.0             1.0   \n",
       "1     short  Le clown et ses chiens       0     1892.0             5.0   \n",
       "2     short        Blacksmith Scene       0     1893.0             1.0   \n",
       "3     short        Blacksmith Scene       0     1893.0             1.0   \n",
       "6     short       Chinese Opium Den       0     1894.0             1.0   \n",
       "\n",
       "              genres  category  knownForTitles  averageRating  numVotes  \\\n",
       "0  Documentary,Short  producer               0            5.7      1858   \n",
       "1    Animation,Short      self               0            6.0       243   \n",
       "2       Comedy,Short      self               0            6.2      2455   \n",
       "3       Comedy,Short     actor          100000            6.2      2455   \n",
       "6              Short     actor               0            5.2       163   \n",
       "\n",
       "   numberofgenre  numberofwriters  numberofdirectors  \n",
       "0              2                4                  1  \n",
       "1              2                5                  1  \n",
       "2              2                4                  1  \n",
       "3              2                1                  1  \n",
       "6              1                1                  1  "
      ]
     },
     "execution_count": 159,
     "metadata": {},
     "output_type": "execute_result"
    }
   ],
   "source": [
    "df['numberofgenre'] = df['genres'].str.count(',') + 1\n",
    "df['numberofwriters'] = df['writers'].str.count(',') + 1\n",
    "df['numberofdirectors'] = df['directors'].str.count(',') + 1\n",
    "df.head()"
   ]
  },
  {
   "cell_type": "code",
   "execution_count": 160,
   "id": "af0e611c",
   "metadata": {},
   "outputs": [],
   "source": [
    "genres_lists = df.genres.str.split(',')        \n",
    "df.genres = genres_lists \n",
    "df = df.explode('genres')"
   ]
  },
  {
   "cell_type": "code",
   "execution_count": 161,
   "id": "1bcd9db4",
   "metadata": {},
   "outputs": [],
   "source": [
    "directors_lists = df.directors.str.split(',')        \n",
    "df.directors = directors_lists \n",
    "df = df.explode('directors')"
   ]
  },
  {
   "cell_type": "code",
   "execution_count": 162,
   "id": "220082e9",
   "metadata": {},
   "outputs": [],
   "source": [
    "writers_lists = df.writers.str.split(',')        \n",
    "df.writers = writers_lists \n",
    "df = df.explode('writers')"
   ]
  },
  {
   "cell_type": "markdown",
   "id": "5d897693",
   "metadata": {},
   "source": [
    "### Handling of categorical variables before we start to model \n",
    "1) Use Target Encoding for **titleType** and **category**\n",
    "\n",
    "\n",
    "2) Use Frequency Encoding for **primaryTitle** and **genres**"
   ]
  },
  {
   "cell_type": "code",
   "execution_count": 163,
   "id": "189ba5eb",
   "metadata": {},
   "outputs": [
    {
     "data": {
      "text/plain": [
       "array(['short', 'movie', 'tvEpisode', 'tvSeries', 'tvMovie', 'tvShort',\n",
       "       'tvMiniSeries', 'tvSpecial', 'video', 'videoGame'], dtype=object)"
      ]
     },
     "execution_count": 163,
     "metadata": {},
     "output_type": "execute_result"
    }
   ],
   "source": [
    "df['titleType'].unique()"
   ]
  },
  {
   "cell_type": "code",
   "execution_count": 164,
   "id": "d81bb061",
   "metadata": {},
   "outputs": [],
   "source": [
    "encodings = df.groupby('titleType')['averageRating'].mean().reset_index()\n",
    "df = df.merge(encodings, how='left', on='titleType')\n",
    "df.drop('titleType', axis=1, inplace=True)"
   ]
  },
  {
   "cell_type": "code",
   "execution_count": 165,
   "id": "f5751b9e",
   "metadata": {},
   "outputs": [],
   "source": [
    "df.rename(columns={'averageRating_x':'target_variable'}, inplace=True)"
   ]
  },
  {
   "cell_type": "code",
   "execution_count": 166,
   "id": "1da80df8",
   "metadata": {},
   "outputs": [],
   "source": [
    "df.rename(columns={'averageRating_y':'titleType'}, inplace=True)"
   ]
  },
  {
   "cell_type": "code",
   "execution_count": 167,
   "id": "1bb5c20a",
   "metadata": {},
   "outputs": [],
   "source": [
    "encodings = df.groupby('category')['target_variable'].mean().reset_index()\n",
    "df = df.merge(encodings, how='left', on='category')\n",
    "df.drop('category', axis=1, inplace=True)"
   ]
  },
  {
   "cell_type": "code",
   "execution_count": 168,
   "id": "c66528c1",
   "metadata": {},
   "outputs": [],
   "source": [
    "df.rename(columns={'target_variable_x':'target_variable'}, inplace=True)\n",
    "df.rename(columns={'target_variable_y':'category'}, inplace=True)"
   ]
  },
  {
   "cell_type": "code",
   "execution_count": 169,
   "id": "7a5fd0cf",
   "metadata": {},
   "outputs": [],
   "source": [
    "encodings = df.groupby('genres')['target_variable'].mean().reset_index()\n",
    "df = df.merge(encodings, how='left', on='genres')\n",
    "df.drop('genres', axis=1, inplace=True)"
   ]
  },
  {
   "cell_type": "code",
   "execution_count": 170,
   "id": "bd853983",
   "metadata": {},
   "outputs": [],
   "source": [
    "df.rename(columns={'target_variable_x':'target_variable'}, inplace=True)\n",
    "df.rename(columns={'target_variable_y':'genres'}, inplace=True)"
   ]
  },
  {
   "cell_type": "code",
   "execution_count": 171,
   "id": "c1619acb",
   "metadata": {},
   "outputs": [
    {
     "data": {
      "text/html": [
       "<div>\n",
       "<style scoped>\n",
       "    .dataframe tbody tr th:only-of-type {\n",
       "        vertical-align: middle;\n",
       "    }\n",
       "\n",
       "    .dataframe tbody tr th {\n",
       "        vertical-align: top;\n",
       "    }\n",
       "\n",
       "    .dataframe thead th {\n",
       "        text-align: right;\n",
       "    }\n",
       "</style>\n",
       "<table border=\"1\" class=\"dataframe\">\n",
       "  <thead>\n",
       "    <tr style=\"text-align: right;\">\n",
       "      <th></th>\n",
       "      <th>tconst</th>\n",
       "      <th>directors</th>\n",
       "      <th>writers</th>\n",
       "      <th>primaryTitle</th>\n",
       "      <th>isAdult</th>\n",
       "      <th>startYear</th>\n",
       "      <th>runtimeMinutes</th>\n",
       "      <th>knownForTitles</th>\n",
       "      <th>target_variable</th>\n",
       "      <th>numVotes</th>\n",
       "      <th>numberofgenre</th>\n",
       "      <th>numberofwriters</th>\n",
       "      <th>numberofdirectors</th>\n",
       "      <th>titleType</th>\n",
       "      <th>category</th>\n",
       "      <th>genres</th>\n",
       "    </tr>\n",
       "  </thead>\n",
       "  <tbody>\n",
       "    <tr>\n",
       "      <th>0</th>\n",
       "      <td>tt0000001</td>\n",
       "      <td>nm0005690</td>\n",
       "      <td>nm0731393</td>\n",
       "      <td>Carmencita</td>\n",
       "      <td>0</td>\n",
       "      <td>1894.0</td>\n",
       "      <td>1.0</td>\n",
       "      <td>0</td>\n",
       "      <td>5.7</td>\n",
       "      <td>1858</td>\n",
       "      <td>2</td>\n",
       "      <td>4</td>\n",
       "      <td>1</td>\n",
       "      <td>6.654824</td>\n",
       "      <td>6.636118</td>\n",
       "      <td>7.813550</td>\n",
       "    </tr>\n",
       "    <tr>\n",
       "      <th>1</th>\n",
       "      <td>tt0000001</td>\n",
       "      <td>nm0005690</td>\n",
       "      <td>nm0383322</td>\n",
       "      <td>Carmencita</td>\n",
       "      <td>0</td>\n",
       "      <td>1894.0</td>\n",
       "      <td>1.0</td>\n",
       "      <td>0</td>\n",
       "      <td>5.7</td>\n",
       "      <td>1858</td>\n",
       "      <td>2</td>\n",
       "      <td>4</td>\n",
       "      <td>1</td>\n",
       "      <td>6.654824</td>\n",
       "      <td>6.636118</td>\n",
       "      <td>7.813550</td>\n",
       "    </tr>\n",
       "    <tr>\n",
       "      <th>2</th>\n",
       "      <td>tt0000001</td>\n",
       "      <td>nm0005690</td>\n",
       "      <td>nm1549096</td>\n",
       "      <td>Carmencita</td>\n",
       "      <td>0</td>\n",
       "      <td>1894.0</td>\n",
       "      <td>1.0</td>\n",
       "      <td>0</td>\n",
       "      <td>5.7</td>\n",
       "      <td>1858</td>\n",
       "      <td>2</td>\n",
       "      <td>4</td>\n",
       "      <td>1</td>\n",
       "      <td>6.654824</td>\n",
       "      <td>6.636118</td>\n",
       "      <td>7.813550</td>\n",
       "    </tr>\n",
       "    <tr>\n",
       "      <th>3</th>\n",
       "      <td>tt0000001</td>\n",
       "      <td>nm0005690</td>\n",
       "      <td>nm0287774</td>\n",
       "      <td>Carmencita</td>\n",
       "      <td>0</td>\n",
       "      <td>1894.0</td>\n",
       "      <td>1.0</td>\n",
       "      <td>0</td>\n",
       "      <td>5.7</td>\n",
       "      <td>1858</td>\n",
       "      <td>2</td>\n",
       "      <td>4</td>\n",
       "      <td>1</td>\n",
       "      <td>6.654824</td>\n",
       "      <td>6.636118</td>\n",
       "      <td>7.813550</td>\n",
       "    </tr>\n",
       "    <tr>\n",
       "      <th>4</th>\n",
       "      <td>tt0000001</td>\n",
       "      <td>nm0005690</td>\n",
       "      <td>nm0731393</td>\n",
       "      <td>Carmencita</td>\n",
       "      <td>0</td>\n",
       "      <td>1894.0</td>\n",
       "      <td>1.0</td>\n",
       "      <td>0</td>\n",
       "      <td>5.7</td>\n",
       "      <td>1858</td>\n",
       "      <td>2</td>\n",
       "      <td>4</td>\n",
       "      <td>1</td>\n",
       "      <td>6.654824</td>\n",
       "      <td>6.636118</td>\n",
       "      <td>6.690812</td>\n",
       "    </tr>\n",
       "  </tbody>\n",
       "</table>\n",
       "</div>"
      ],
      "text/plain": [
       "      tconst  directors    writers primaryTitle isAdult  startYear  \\\n",
       "0  tt0000001  nm0005690  nm0731393   Carmencita       0     1894.0   \n",
       "1  tt0000001  nm0005690  nm0383322   Carmencita       0     1894.0   \n",
       "2  tt0000001  nm0005690  nm1549096   Carmencita       0     1894.0   \n",
       "3  tt0000001  nm0005690  nm0287774   Carmencita       0     1894.0   \n",
       "4  tt0000001  nm0005690  nm0731393   Carmencita       0     1894.0   \n",
       "\n",
       "   runtimeMinutes  knownForTitles  target_variable  numVotes  numberofgenre  \\\n",
       "0             1.0               0              5.7      1858              2   \n",
       "1             1.0               0              5.7      1858              2   \n",
       "2             1.0               0              5.7      1858              2   \n",
       "3             1.0               0              5.7      1858              2   \n",
       "4             1.0               0              5.7      1858              2   \n",
       "\n",
       "   numberofwriters  numberofdirectors  titleType  category    genres  \n",
       "0                4                  1   6.654824  6.636118  7.813550  \n",
       "1                4                  1   6.654824  6.636118  7.813550  \n",
       "2                4                  1   6.654824  6.636118  7.813550  \n",
       "3                4                  1   6.654824  6.636118  7.813550  \n",
       "4                4                  1   6.654824  6.636118  6.690812  "
      ]
     },
     "execution_count": 171,
     "metadata": {},
     "output_type": "execute_result"
    }
   ],
   "source": [
    "df.head()"
   ]
  },
  {
   "cell_type": "code",
   "execution_count": 172,
   "id": "c0f7d5c0",
   "metadata": {},
   "outputs": [],
   "source": [
    "#pip install feature-engine"
   ]
  },
  {
   "cell_type": "code",
   "execution_count": 173,
   "id": "fd9eb8ea",
   "metadata": {},
   "outputs": [
    {
     "data": {
      "text/plain": [
       "CountFrequencyEncoder(encoding_method='frequency',\n",
       "                      variables=['primaryTitle', 'directors', 'writers'])"
      ]
     },
     "execution_count": 173,
     "metadata": {},
     "output_type": "execute_result"
    }
   ],
   "source": [
    "from feature_engine.encoding import CountFrequencyEncoder\n",
    "encoder = CountFrequencyEncoder(encoding_method='frequency',\n",
    "                         variables=['primaryTitle','directors','writers'])\n",
    "encoder.fit(df)"
   ]
  },
  {
   "cell_type": "code",
   "execution_count": 174,
   "id": "f986ef1b",
   "metadata": {},
   "outputs": [],
   "source": [
    "df= encoder.transform(df)"
   ]
  },
  {
   "cell_type": "code",
   "execution_count": 176,
   "id": "ddb5964b",
   "metadata": {},
   "outputs": [],
   "source": [
    "df['primaryTitle'] = (df['primaryTitle'] - df['primaryTitle'].min()) / (df['primaryTitle'].max() - df['primaryTitle'].min())\n",
    "df['directors'] = (df['directors'] - df['directors'].min()) / (df['directors'].max() - df['directors'].min())\n",
    "df['writers'] = (df['writers'] - df['writers'].min()) / (df['writers'].max() - df['writers'].min())\n"
   ]
  },
  {
   "cell_type": "code",
   "execution_count": 177,
   "id": "14b98317",
   "metadata": {},
   "outputs": [
    {
     "data": {
      "text/html": [
       "<div>\n",
       "<style scoped>\n",
       "    .dataframe tbody tr th:only-of-type {\n",
       "        vertical-align: middle;\n",
       "    }\n",
       "\n",
       "    .dataframe tbody tr th {\n",
       "        vertical-align: top;\n",
       "    }\n",
       "\n",
       "    .dataframe thead th {\n",
       "        text-align: right;\n",
       "    }\n",
       "</style>\n",
       "<table border=\"1\" class=\"dataframe\">\n",
       "  <thead>\n",
       "    <tr style=\"text-align: right;\">\n",
       "      <th></th>\n",
       "      <th>tconst</th>\n",
       "      <th>directors</th>\n",
       "      <th>writers</th>\n",
       "      <th>primaryTitle</th>\n",
       "      <th>isAdult</th>\n",
       "      <th>startYear</th>\n",
       "      <th>runtimeMinutes</th>\n",
       "      <th>knownForTitles</th>\n",
       "      <th>target_variable</th>\n",
       "      <th>numVotes</th>\n",
       "      <th>numberofgenre</th>\n",
       "      <th>numberofwriters</th>\n",
       "      <th>numberofdirectors</th>\n",
       "      <th>titleType</th>\n",
       "      <th>category</th>\n",
       "      <th>genres</th>\n",
       "    </tr>\n",
       "  </thead>\n",
       "  <tbody>\n",
       "    <tr>\n",
       "      <th>0</th>\n",
       "      <td>tt0000001</td>\n",
       "      <td>0.01849</td>\n",
       "      <td>0.055474</td>\n",
       "      <td>0.000006</td>\n",
       "      <td>0</td>\n",
       "      <td>1894.0</td>\n",
       "      <td>1.0</td>\n",
       "      <td>0</td>\n",
       "      <td>5.7</td>\n",
       "      <td>1858</td>\n",
       "      <td>2</td>\n",
       "      <td>4</td>\n",
       "      <td>1</td>\n",
       "      <td>6.654824</td>\n",
       "      <td>6.636118</td>\n",
       "      <td>7.813550</td>\n",
       "    </tr>\n",
       "    <tr>\n",
       "      <th>1</th>\n",
       "      <td>tt0000001</td>\n",
       "      <td>0.01849</td>\n",
       "      <td>0.061901</td>\n",
       "      <td>0.000006</td>\n",
       "      <td>0</td>\n",
       "      <td>1894.0</td>\n",
       "      <td>1.0</td>\n",
       "      <td>0</td>\n",
       "      <td>5.7</td>\n",
       "      <td>1858</td>\n",
       "      <td>2</td>\n",
       "      <td>4</td>\n",
       "      <td>1</td>\n",
       "      <td>6.654824</td>\n",
       "      <td>6.636118</td>\n",
       "      <td>7.813550</td>\n",
       "    </tr>\n",
       "    <tr>\n",
       "      <th>2</th>\n",
       "      <td>tt0000001</td>\n",
       "      <td>0.01849</td>\n",
       "      <td>0.019732</td>\n",
       "      <td>0.000006</td>\n",
       "      <td>0</td>\n",
       "      <td>1894.0</td>\n",
       "      <td>1.0</td>\n",
       "      <td>0</td>\n",
       "      <td>5.7</td>\n",
       "      <td>1858</td>\n",
       "      <td>2</td>\n",
       "      <td>4</td>\n",
       "      <td>1</td>\n",
       "      <td>6.654824</td>\n",
       "      <td>6.636118</td>\n",
       "      <td>7.813550</td>\n",
       "    </tr>\n",
       "    <tr>\n",
       "      <th>3</th>\n",
       "      <td>tt0000001</td>\n",
       "      <td>0.01849</td>\n",
       "      <td>0.063254</td>\n",
       "      <td>0.000006</td>\n",
       "      <td>0</td>\n",
       "      <td>1894.0</td>\n",
       "      <td>1.0</td>\n",
       "      <td>0</td>\n",
       "      <td>5.7</td>\n",
       "      <td>1858</td>\n",
       "      <td>2</td>\n",
       "      <td>4</td>\n",
       "      <td>1</td>\n",
       "      <td>6.654824</td>\n",
       "      <td>6.636118</td>\n",
       "      <td>7.813550</td>\n",
       "    </tr>\n",
       "    <tr>\n",
       "      <th>4</th>\n",
       "      <td>tt0000001</td>\n",
       "      <td>0.01849</td>\n",
       "      <td>0.055474</td>\n",
       "      <td>0.000006</td>\n",
       "      <td>0</td>\n",
       "      <td>1894.0</td>\n",
       "      <td>1.0</td>\n",
       "      <td>0</td>\n",
       "      <td>5.7</td>\n",
       "      <td>1858</td>\n",
       "      <td>2</td>\n",
       "      <td>4</td>\n",
       "      <td>1</td>\n",
       "      <td>6.654824</td>\n",
       "      <td>6.636118</td>\n",
       "      <td>6.690812</td>\n",
       "    </tr>\n",
       "  </tbody>\n",
       "</table>\n",
       "</div>"
      ],
      "text/plain": [
       "      tconst  directors   writers  primaryTitle isAdult  startYear  \\\n",
       "0  tt0000001    0.01849  0.055474      0.000006       0     1894.0   \n",
       "1  tt0000001    0.01849  0.061901      0.000006       0     1894.0   \n",
       "2  tt0000001    0.01849  0.019732      0.000006       0     1894.0   \n",
       "3  tt0000001    0.01849  0.063254      0.000006       0     1894.0   \n",
       "4  tt0000001    0.01849  0.055474      0.000006       0     1894.0   \n",
       "\n",
       "   runtimeMinutes  knownForTitles  target_variable  numVotes  numberofgenre  \\\n",
       "0             1.0               0              5.7      1858              2   \n",
       "1             1.0               0              5.7      1858              2   \n",
       "2             1.0               0              5.7      1858              2   \n",
       "3             1.0               0              5.7      1858              2   \n",
       "4             1.0               0              5.7      1858              2   \n",
       "\n",
       "   numberofwriters  numberofdirectors  titleType  category    genres  \n",
       "0                4                  1   6.654824  6.636118  7.813550  \n",
       "1                4                  1   6.654824  6.636118  7.813550  \n",
       "2                4                  1   6.654824  6.636118  7.813550  \n",
       "3                4                  1   6.654824  6.636118  7.813550  \n",
       "4                4                  1   6.654824  6.636118  6.690812  "
      ]
     },
     "execution_count": 177,
     "metadata": {},
     "output_type": "execute_result"
    }
   ],
   "source": [
    "df.head()"
   ]
  },
  {
   "cell_type": "code",
   "execution_count": null,
   "id": "1f96df35",
   "metadata": {},
   "outputs": [],
   "source": []
  },
  {
   "cell_type": "markdown",
   "id": "e13f4b91",
   "metadata": {},
   "source": [
    "### Splitting the Data set into train, test "
   ]
  },
  {
   "cell_type": "code",
   "execution_count": 180,
   "id": "69f4e7b0",
   "metadata": {},
   "outputs": [],
   "source": [
    "import numpy as np\n",
    "from sklearn.model_selection import train_test_split"
   ]
  },
  {
   "cell_type": "code",
   "execution_count": 181,
   "id": "29ee039d",
   "metadata": {},
   "outputs": [],
   "source": [
    "X = df[['primaryTitle', 'isAdult','writers','directors',\n",
    "       'startYear', 'runtimeMinutes', 'genres', 'knownForTitles',\n",
    "       'numVotes', 'numberofgenre', 'numberofwriters',\n",
    "       'numberofdirectors', 'titleType', 'category']]\n",
    "y = df.target_variable"
   ]
  },
  {
   "cell_type": "code",
   "execution_count": 182,
   "id": "84be694e",
   "metadata": {},
   "outputs": [],
   "source": [
    "from sklearn.preprocessing import StandardScaler\n",
    "scaler = StandardScaler() \n",
    "X = scaler.fit_transform(X)"
   ]
  },
  {
   "cell_type": "code",
   "execution_count": null,
   "id": "847e8145",
   "metadata": {},
   "outputs": [],
   "source": [
    "X_train, X_test, y_train, y_test = train_test_split(X, y, test_size=0.33, random_state=42)"
   ]
  },
  {
   "cell_type": "code",
   "execution_count": null,
   "id": "a5df4182",
   "metadata": {},
   "outputs": [],
   "source": [
    "import statsmodels.api as sm\n",
    "\n",
    "X_constant = sm.add_constant(X)\n",
    "lin_reg = sm.OLS(y,X_constant).fit()\n",
    "lin_reg.summary()"
   ]
  },
  {
   "cell_type": "code",
   "execution_count": null,
   "id": "435427b2",
   "metadata": {},
   "outputs": [],
   "source": []
  },
  {
   "cell_type": "code",
   "execution_count": 127,
   "id": "81117ea6",
   "metadata": {},
   "outputs": [
    {
     "name": "stdout",
     "output_type": "stream",
     "text": [
      "Coefficients: [ 0.00435446  0.01594585  0.15489232 -0.00216924  0.2282633  -0.00293181\n",
      "  0.09955727  0.00224731 -0.00152034  0.00824728  0.54161936  0.05349152]\n",
      "Intercept: 6.733606374272112\n",
      "R^2 score: 0.23253104838005134\n"
     ]
    }
   ],
   "source": [
    "from sklearn.linear_model import LinearRegression\n",
    "lin_reg = LinearRegression()\n",
    "lin_reg.fit(X, y)\n",
    "\n",
    "print(f'Coefficients: {lin_reg.coef_}')\n",
    "print(f'Intercept: {lin_reg.intercept_}')\n",
    "print(f'R^2 score: {lin_reg.score(X, y)}')"
   ]
  },
  {
   "cell_type": "code",
   "execution_count": null,
   "id": "ec8cc1b2",
   "metadata": {},
   "outputs": [],
   "source": []
  },
  {
   "cell_type": "code",
   "execution_count": 117,
   "id": "62eff39d",
   "metadata": {},
   "outputs": [],
   "source": [
    "from sklearn.ensemble import RandomForestRegressor\n",
    "# Instantiate model with 100 decision trees\n",
    "rf = RandomForestRegressor(n_estimators = 100, random_state = 42)\n",
    "# Train the model on training data\n",
    "rf.fit(X_train, y_train);"
   ]
  },
  {
   "cell_type": "code",
   "execution_count": null,
   "id": "d4119e3c",
   "metadata": {},
   "outputs": [],
   "source": []
  },
  {
   "cell_type": "code",
   "execution_count": 118,
   "id": "59b1f774",
   "metadata": {},
   "outputs": [
    {
     "name": "stdout",
     "output_type": "stream",
     "text": [
      "Mean Absolute Error: 0.56 degrees.\n"
     ]
    }
   ],
   "source": [
    "# Use the forest's predict method on the test data\n",
    "predictions = rf.predict(X_test)\n",
    "# Calculate the absolute errors\n",
    "errors = abs(predictions - y_test)\n",
    "# Print out the mean absolute error (mae)\n",
    "print('Mean Absolute Error:', round(np.mean(errors), 2), 'degrees.')"
   ]
  },
  {
   "cell_type": "code",
   "execution_count": 124,
   "id": "8201baa2",
   "metadata": {},
   "outputs": [],
   "source": [
    "from sklearn.metrics import r2_score"
   ]
  },
  {
   "cell_type": "code",
   "execution_count": 125,
   "id": "f7d256f8",
   "metadata": {},
   "outputs": [
    {
     "data": {
      "text/plain": [
       "0.3291068745281608"
      ]
     },
     "execution_count": 125,
     "metadata": {},
     "output_type": "execute_result"
    }
   ],
   "source": [
    "r2_score(predictions,y_test)"
   ]
  },
  {
   "cell_type": "code",
   "execution_count": 121,
   "id": "249ae266",
   "metadata": {},
   "outputs": [],
   "source": [
    "import numpy as np\n",
    "import pandas as pd\n",
    "import matplotlib.pyplot as plt\n",
    "import seaborn as sns\n",
    "\n",
    "from sklearn.model_selection import train_test_split\n",
    "from sklearn.ensemble import RandomForestClassifier\n",
    "from sklearn.metrics import accuracy_score, confusion_matrix, classification_report"
   ]
  },
  {
   "cell_type": "code",
   "execution_count": null,
   "id": "feb4411e",
   "metadata": {},
   "outputs": [],
   "source": []
  },
  {
   "cell_type": "code",
   "execution_count": null,
   "id": "b04507a2",
   "metadata": {},
   "outputs": [],
   "source": []
  },
  {
   "cell_type": "code",
   "execution_count": null,
   "id": "1780cf2c",
   "metadata": {},
   "outputs": [],
   "source": []
  },
  {
   "cell_type": "code",
   "execution_count": null,
   "id": "d6ae128e",
   "metadata": {},
   "outputs": [],
   "source": []
  },
  {
   "cell_type": "code",
   "execution_count": null,
   "id": "d9a6ccac",
   "metadata": {},
   "outputs": [],
   "source": []
  },
  {
   "cell_type": "code",
   "execution_count": 337,
   "id": "02deb63a",
   "metadata": {},
   "outputs": [
    {
     "ename": "KeyboardInterrupt",
     "evalue": "",
     "output_type": "error",
     "traceback": [
      "\u001b[0;31m---------------------------------------------------------------------------\u001b[0m",
      "\u001b[0;31mKeyboardInterrupt\u001b[0m                         Traceback (most recent call last)",
      "\u001b[0;32m/var/folders/gm/lcwcc36121j4rgdzdkrfql9r0000gn/T/ipykernel_96611/1233061463.py\u001b[0m in \u001b[0;36m<module>\u001b[0;34m\u001b[0m\n\u001b[1;32m     29\u001b[0m     \u001b[0max\u001b[0m\u001b[0;34m[\u001b[0m\u001b[0;36m1\u001b[0m\u001b[0;34m]\u001b[0m\u001b[0;34m.\u001b[0m\u001b[0mset\u001b[0m\u001b[0;34m(\u001b[0m\u001b[0mxlabel\u001b[0m\u001b[0;34m=\u001b[0m\u001b[0;34m'Predicted'\u001b[0m\u001b[0;34m,\u001b[0m \u001b[0mylabel\u001b[0m\u001b[0;34m=\u001b[0m\u001b[0;34m'Residuals'\u001b[0m\u001b[0;34m)\u001b[0m\u001b[0;34m\u001b[0m\u001b[0;34m\u001b[0m\u001b[0m\n\u001b[1;32m     30\u001b[0m \u001b[0;34m\u001b[0m\u001b[0m\n\u001b[0;32m---> 31\u001b[0;31m \u001b[0mlinearity_test\u001b[0m\u001b[0;34m(\u001b[0m\u001b[0mlin_reg\u001b[0m\u001b[0;34m,\u001b[0m \u001b[0my\u001b[0m\u001b[0;34m)\u001b[0m\u001b[0;34m\u001b[0m\u001b[0;34m\u001b[0m\u001b[0m\n\u001b[0m\u001b[1;32m     32\u001b[0m \u001b[0;34m\u001b[0m\u001b[0m\n",
      "\u001b[0;32m/var/folders/gm/lcwcc36121j4rgdzdkrfql9r0000gn/T/ipykernel_96611/1233061463.py\u001b[0m in \u001b[0;36mlinearity_test\u001b[0;34m(model, y)\u001b[0m\n\u001b[1;32m     21\u001b[0m     \u001b[0mfig\u001b[0m\u001b[0;34m,\u001b[0m \u001b[0max\u001b[0m \u001b[0;34m=\u001b[0m \u001b[0mplt\u001b[0m\u001b[0;34m.\u001b[0m\u001b[0msubplots\u001b[0m\u001b[0;34m(\u001b[0m\u001b[0;36m1\u001b[0m\u001b[0;34m,\u001b[0m\u001b[0;36m2\u001b[0m\u001b[0;34m)\u001b[0m\u001b[0;34m\u001b[0m\u001b[0;34m\u001b[0m\u001b[0m\n\u001b[1;32m     22\u001b[0m \u001b[0;34m\u001b[0m\u001b[0m\n\u001b[0;32m---> 23\u001b[0;31m     \u001b[0msns\u001b[0m\u001b[0;34m.\u001b[0m\u001b[0mregplot\u001b[0m\u001b[0;34m(\u001b[0m\u001b[0mx\u001b[0m\u001b[0;34m=\u001b[0m\u001b[0mfitted_vals\u001b[0m\u001b[0;34m,\u001b[0m \u001b[0my\u001b[0m\u001b[0;34m=\u001b[0m\u001b[0my\u001b[0m\u001b[0;34m,\u001b[0m \u001b[0mlowess\u001b[0m\u001b[0;34m=\u001b[0m\u001b[0;32mTrue\u001b[0m\u001b[0;34m,\u001b[0m \u001b[0max\u001b[0m\u001b[0;34m=\u001b[0m\u001b[0max\u001b[0m\u001b[0;34m[\u001b[0m\u001b[0;36m0\u001b[0m\u001b[0;34m]\u001b[0m\u001b[0;34m,\u001b[0m \u001b[0mline_kws\u001b[0m\u001b[0;34m=\u001b[0m\u001b[0;34m{\u001b[0m\u001b[0;34m'color'\u001b[0m\u001b[0;34m:\u001b[0m \u001b[0;34m'red'\u001b[0m\u001b[0;34m}\u001b[0m\u001b[0;34m)\u001b[0m\u001b[0;34m\u001b[0m\u001b[0;34m\u001b[0m\u001b[0m\n\u001b[0m\u001b[1;32m     24\u001b[0m     \u001b[0max\u001b[0m\u001b[0;34m[\u001b[0m\u001b[0;36m0\u001b[0m\u001b[0;34m]\u001b[0m\u001b[0;34m.\u001b[0m\u001b[0mset_title\u001b[0m\u001b[0;34m(\u001b[0m\u001b[0;34m'Observed vs. Predicted Values'\u001b[0m\u001b[0;34m,\u001b[0m \u001b[0mfontsize\u001b[0m\u001b[0;34m=\u001b[0m\u001b[0;36m16\u001b[0m\u001b[0;34m)\u001b[0m\u001b[0;34m\u001b[0m\u001b[0;34m\u001b[0m\u001b[0m\n\u001b[1;32m     25\u001b[0m     \u001b[0max\u001b[0m\u001b[0;34m[\u001b[0m\u001b[0;36m0\u001b[0m\u001b[0;34m]\u001b[0m\u001b[0;34m.\u001b[0m\u001b[0mset\u001b[0m\u001b[0;34m(\u001b[0m\u001b[0mxlabel\u001b[0m\u001b[0;34m=\u001b[0m\u001b[0;34m'Predicted'\u001b[0m\u001b[0;34m,\u001b[0m \u001b[0mylabel\u001b[0m\u001b[0;34m=\u001b[0m\u001b[0;34m'Observed'\u001b[0m\u001b[0;34m)\u001b[0m\u001b[0;34m\u001b[0m\u001b[0;34m\u001b[0m\u001b[0m\n",
      "\u001b[0;32m/opt/anaconda3/lib/python3.9/site-packages/seaborn/_decorators.py\u001b[0m in \u001b[0;36minner_f\u001b[0;34m(*args, **kwargs)\u001b[0m\n\u001b[1;32m     44\u001b[0m             )\n\u001b[1;32m     45\u001b[0m         \u001b[0mkwargs\u001b[0m\u001b[0;34m.\u001b[0m\u001b[0mupdate\u001b[0m\u001b[0;34m(\u001b[0m\u001b[0;34m{\u001b[0m\u001b[0mk\u001b[0m\u001b[0;34m:\u001b[0m \u001b[0marg\u001b[0m \u001b[0;32mfor\u001b[0m \u001b[0mk\u001b[0m\u001b[0;34m,\u001b[0m \u001b[0marg\u001b[0m \u001b[0;32min\u001b[0m \u001b[0mzip\u001b[0m\u001b[0;34m(\u001b[0m\u001b[0msig\u001b[0m\u001b[0;34m.\u001b[0m\u001b[0mparameters\u001b[0m\u001b[0;34m,\u001b[0m \u001b[0margs\u001b[0m\u001b[0;34m)\u001b[0m\u001b[0;34m}\u001b[0m\u001b[0;34m)\u001b[0m\u001b[0;34m\u001b[0m\u001b[0;34m\u001b[0m\u001b[0m\n\u001b[0;32m---> 46\u001b[0;31m         \u001b[0;32mreturn\u001b[0m \u001b[0mf\u001b[0m\u001b[0;34m(\u001b[0m\u001b[0;34m**\u001b[0m\u001b[0mkwargs\u001b[0m\u001b[0;34m)\u001b[0m\u001b[0;34m\u001b[0m\u001b[0;34m\u001b[0m\u001b[0m\n\u001b[0m\u001b[1;32m     47\u001b[0m     \u001b[0;32mreturn\u001b[0m \u001b[0minner_f\u001b[0m\u001b[0;34m\u001b[0m\u001b[0;34m\u001b[0m\u001b[0m\n\u001b[1;32m     48\u001b[0m \u001b[0;34m\u001b[0m\u001b[0m\n",
      "\u001b[0;32m/opt/anaconda3/lib/python3.9/site-packages/seaborn/regression.py\u001b[0m in \u001b[0;36mregplot\u001b[0;34m(x, y, data, x_estimator, x_bins, x_ci, scatter, fit_reg, ci, n_boot, units, seed, order, logistic, lowess, robust, logx, x_partial, y_partial, truncate, dropna, x_jitter, y_jitter, label, color, marker, scatter_kws, line_kws, ax)\u001b[0m\n\u001b[1;32m    861\u001b[0m     \u001b[0mscatter_kws\u001b[0m\u001b[0;34m[\u001b[0m\u001b[0;34m\"marker\"\u001b[0m\u001b[0;34m]\u001b[0m \u001b[0;34m=\u001b[0m \u001b[0mmarker\u001b[0m\u001b[0;34m\u001b[0m\u001b[0;34m\u001b[0m\u001b[0m\n\u001b[1;32m    862\u001b[0m     \u001b[0mline_kws\u001b[0m \u001b[0;34m=\u001b[0m \u001b[0;34m{\u001b[0m\u001b[0;34m}\u001b[0m \u001b[0;32mif\u001b[0m \u001b[0mline_kws\u001b[0m \u001b[0;32mis\u001b[0m \u001b[0;32mNone\u001b[0m \u001b[0;32melse\u001b[0m \u001b[0mcopy\u001b[0m\u001b[0;34m.\u001b[0m\u001b[0mcopy\u001b[0m\u001b[0;34m(\u001b[0m\u001b[0mline_kws\u001b[0m\u001b[0;34m)\u001b[0m\u001b[0;34m\u001b[0m\u001b[0;34m\u001b[0m\u001b[0m\n\u001b[0;32m--> 863\u001b[0;31m     \u001b[0mplotter\u001b[0m\u001b[0;34m.\u001b[0m\u001b[0mplot\u001b[0m\u001b[0;34m(\u001b[0m\u001b[0max\u001b[0m\u001b[0;34m,\u001b[0m \u001b[0mscatter_kws\u001b[0m\u001b[0;34m,\u001b[0m \u001b[0mline_kws\u001b[0m\u001b[0;34m)\u001b[0m\u001b[0;34m\u001b[0m\u001b[0;34m\u001b[0m\u001b[0m\n\u001b[0m\u001b[1;32m    864\u001b[0m     \u001b[0;32mreturn\u001b[0m \u001b[0max\u001b[0m\u001b[0;34m\u001b[0m\u001b[0;34m\u001b[0m\u001b[0m\n\u001b[1;32m    865\u001b[0m \u001b[0;34m\u001b[0m\u001b[0m\n",
      "\u001b[0;32m/opt/anaconda3/lib/python3.9/site-packages/seaborn/regression.py\u001b[0m in \u001b[0;36mplot\u001b[0;34m(self, ax, scatter_kws, line_kws)\u001b[0m\n\u001b[1;32m    368\u001b[0m \u001b[0;34m\u001b[0m\u001b[0m\n\u001b[1;32m    369\u001b[0m         \u001b[0;32mif\u001b[0m \u001b[0mself\u001b[0m\u001b[0;34m.\u001b[0m\u001b[0mfit_reg\u001b[0m\u001b[0;34m:\u001b[0m\u001b[0;34m\u001b[0m\u001b[0;34m\u001b[0m\u001b[0m\n\u001b[0;32m--> 370\u001b[0;31m             \u001b[0mself\u001b[0m\u001b[0;34m.\u001b[0m\u001b[0mlineplot\u001b[0m\u001b[0;34m(\u001b[0m\u001b[0max\u001b[0m\u001b[0;34m,\u001b[0m \u001b[0mline_kws\u001b[0m\u001b[0;34m)\u001b[0m\u001b[0;34m\u001b[0m\u001b[0;34m\u001b[0m\u001b[0m\n\u001b[0m\u001b[1;32m    371\u001b[0m \u001b[0;34m\u001b[0m\u001b[0m\n\u001b[1;32m    372\u001b[0m         \u001b[0;31m# Label the axes\u001b[0m\u001b[0;34m\u001b[0m\u001b[0;34m\u001b[0m\u001b[0m\n",
      "\u001b[0;32m/opt/anaconda3/lib/python3.9/site-packages/seaborn/regression.py\u001b[0m in \u001b[0;36mlineplot\u001b[0;34m(self, ax, kws)\u001b[0m\n\u001b[1;32m    411\u001b[0m         \u001b[0;34m\"\"\"Draw the model.\"\"\"\u001b[0m\u001b[0;34m\u001b[0m\u001b[0;34m\u001b[0m\u001b[0m\n\u001b[1;32m    412\u001b[0m         \u001b[0;31m# Fit the regression model\u001b[0m\u001b[0;34m\u001b[0m\u001b[0;34m\u001b[0m\u001b[0m\n\u001b[0;32m--> 413\u001b[0;31m         \u001b[0mgrid\u001b[0m\u001b[0;34m,\u001b[0m \u001b[0myhat\u001b[0m\u001b[0;34m,\u001b[0m \u001b[0merr_bands\u001b[0m \u001b[0;34m=\u001b[0m \u001b[0mself\u001b[0m\u001b[0;34m.\u001b[0m\u001b[0mfit_regression\u001b[0m\u001b[0;34m(\u001b[0m\u001b[0max\u001b[0m\u001b[0;34m)\u001b[0m\u001b[0;34m\u001b[0m\u001b[0;34m\u001b[0m\u001b[0m\n\u001b[0m\u001b[1;32m    414\u001b[0m         \u001b[0medges\u001b[0m \u001b[0;34m=\u001b[0m \u001b[0mgrid\u001b[0m\u001b[0;34m[\u001b[0m\u001b[0;36m0\u001b[0m\u001b[0;34m]\u001b[0m\u001b[0;34m,\u001b[0m \u001b[0mgrid\u001b[0m\u001b[0;34m[\u001b[0m\u001b[0;34m-\u001b[0m\u001b[0;36m1\u001b[0m\u001b[0;34m]\u001b[0m\u001b[0;34m\u001b[0m\u001b[0;34m\u001b[0m\u001b[0m\n\u001b[1;32m    415\u001b[0m \u001b[0;34m\u001b[0m\u001b[0m\n",
      "\u001b[0;32m/opt/anaconda3/lib/python3.9/site-packages/seaborn/regression.py\u001b[0m in \u001b[0;36mfit_regression\u001b[0;34m(self, ax, x_range, grid)\u001b[0m\n\u001b[1;32m    212\u001b[0m         \u001b[0;32melif\u001b[0m \u001b[0mself\u001b[0m\u001b[0;34m.\u001b[0m\u001b[0mlowess\u001b[0m\u001b[0;34m:\u001b[0m\u001b[0;34m\u001b[0m\u001b[0;34m\u001b[0m\u001b[0m\n\u001b[1;32m    213\u001b[0m             \u001b[0mci\u001b[0m \u001b[0;34m=\u001b[0m \u001b[0;32mNone\u001b[0m\u001b[0;34m\u001b[0m\u001b[0;34m\u001b[0m\u001b[0m\n\u001b[0;32m--> 214\u001b[0;31m             \u001b[0mgrid\u001b[0m\u001b[0;34m,\u001b[0m \u001b[0myhat\u001b[0m \u001b[0;34m=\u001b[0m \u001b[0mself\u001b[0m\u001b[0;34m.\u001b[0m\u001b[0mfit_lowess\u001b[0m\u001b[0;34m(\u001b[0m\u001b[0;34m)\u001b[0m\u001b[0;34m\u001b[0m\u001b[0;34m\u001b[0m\u001b[0m\n\u001b[0m\u001b[1;32m    215\u001b[0m         \u001b[0;32melif\u001b[0m \u001b[0mself\u001b[0m\u001b[0;34m.\u001b[0m\u001b[0mrobust\u001b[0m\u001b[0;34m:\u001b[0m\u001b[0;34m\u001b[0m\u001b[0;34m\u001b[0m\u001b[0m\n\u001b[1;32m    216\u001b[0m             \u001b[0;32mfrom\u001b[0m \u001b[0mstatsmodels\u001b[0m\u001b[0;34m.\u001b[0m\u001b[0mrobust\u001b[0m\u001b[0;34m.\u001b[0m\u001b[0mrobust_linear_model\u001b[0m \u001b[0;32mimport\u001b[0m \u001b[0mRLM\u001b[0m\u001b[0;34m\u001b[0m\u001b[0;34m\u001b[0m\u001b[0m\n",
      "\u001b[0;32m/opt/anaconda3/lib/python3.9/site-packages/seaborn/regression.py\u001b[0m in \u001b[0;36mfit_lowess\u001b[0;34m(self)\u001b[0m\n\u001b[1;32m    293\u001b[0m         \u001b[0;34m\"\"\"Fit a locally-weighted regression, which returns its own grid.\"\"\"\u001b[0m\u001b[0;34m\u001b[0m\u001b[0;34m\u001b[0m\u001b[0m\n\u001b[1;32m    294\u001b[0m         \u001b[0;32mfrom\u001b[0m \u001b[0mstatsmodels\u001b[0m\u001b[0;34m.\u001b[0m\u001b[0mnonparametric\u001b[0m\u001b[0;34m.\u001b[0m\u001b[0msmoothers_lowess\u001b[0m \u001b[0;32mimport\u001b[0m \u001b[0mlowess\u001b[0m\u001b[0;34m\u001b[0m\u001b[0;34m\u001b[0m\u001b[0m\n\u001b[0;32m--> 295\u001b[0;31m         \u001b[0mgrid\u001b[0m\u001b[0;34m,\u001b[0m \u001b[0myhat\u001b[0m \u001b[0;34m=\u001b[0m \u001b[0mlowess\u001b[0m\u001b[0;34m(\u001b[0m\u001b[0mself\u001b[0m\u001b[0;34m.\u001b[0m\u001b[0my\u001b[0m\u001b[0;34m,\u001b[0m \u001b[0mself\u001b[0m\u001b[0;34m.\u001b[0m\u001b[0mx\u001b[0m\u001b[0;34m)\u001b[0m\u001b[0;34m.\u001b[0m\u001b[0mT\u001b[0m\u001b[0;34m\u001b[0m\u001b[0;34m\u001b[0m\u001b[0m\n\u001b[0m\u001b[1;32m    296\u001b[0m         \u001b[0;32mreturn\u001b[0m \u001b[0mgrid\u001b[0m\u001b[0;34m,\u001b[0m \u001b[0myhat\u001b[0m\u001b[0;34m\u001b[0m\u001b[0;34m\u001b[0m\u001b[0m\n\u001b[1;32m    297\u001b[0m \u001b[0;34m\u001b[0m\u001b[0m\n",
      "\u001b[0;32m/opt/anaconda3/lib/python3.9/site-packages/statsmodels/nonparametric/smoothers_lowess.py\u001b[0m in \u001b[0;36mlowess\u001b[0;34m(endog, exog, frac, it, delta, xvals, is_sorted, missing, return_sorted)\u001b[0m\n\u001b[1;32m    212\u001b[0m     \u001b[0;32mif\u001b[0m \u001b[0;32mnot\u001b[0m \u001b[0mgiven_xvals\u001b[0m\u001b[0;34m:\u001b[0m\u001b[0;34m\u001b[0m\u001b[0;34m\u001b[0m\u001b[0m\n\u001b[1;32m    213\u001b[0m         \u001b[0;31m# Run LOWESS on the data points\u001b[0m\u001b[0;34m\u001b[0m\u001b[0;34m\u001b[0m\u001b[0m\n\u001b[0;32m--> 214\u001b[0;31m         res, _ = _lowess(y, x, x, np.ones_like(x),\n\u001b[0m\u001b[1;32m    215\u001b[0m                         frac=frac, it=it, delta=delta, given_xvals=False)\n\u001b[1;32m    216\u001b[0m     \u001b[0;32melse\u001b[0m\u001b[0;34m:\u001b[0m\u001b[0;34m\u001b[0m\u001b[0;34m\u001b[0m\u001b[0m\n",
      "\u001b[0;32mstatsmodels/nonparametric/_smoothers_lowess.pyx\u001b[0m in \u001b[0;36mstatsmodels.nonparametric._smoothers_lowess.lowess\u001b[0;34m()\u001b[0m\n",
      "\u001b[0;32mstatsmodels/nonparametric/_smoothers_lowess.pyx\u001b[0m in \u001b[0;36mstatsmodels.nonparametric._smoothers_lowess.calculate_weights\u001b[0;34m()\u001b[0m\n",
      "\u001b[0;32m<__array_function__ internals>\u001b[0m in \u001b[0;36msum\u001b[0;34m(*args, **kwargs)\u001b[0m\n",
      "\u001b[0;31mKeyboardInterrupt\u001b[0m: "
     ]
    },
    {
     "data": {
      "image/png": "[encoded data removed]",
      "text/plain": [
       "<Figure size 1080x648 with 2 Axes>"
      ]
     },
     "metadata": {
      "image/png": {
       "height": 527,
       "width": 880
      }
     },
     "output_type": "display_data"
    }
   ],
   "source": [
    "%matplotlib inline\n",
    "%config InlineBackend.figure_format ='retina'\n",
    "import seaborn as sns \n",
    "import matplotlib.pyplot as plt\n",
    "import statsmodels.stats.api as sms\n",
    "sns.set_style('darkgrid')\n",
    "sns.mpl.rcParams['figure.figsize'] = (15.0, 9.0)\n",
    "\n",
    "def linearity_test(model, y):\n",
    "    '''\n",
    "    Function for visually inspecting the assumption of linearity in a linear regression model.\n",
    "    It plots observed vs. predicted values and residuals vs. predicted values.\n",
    "    \n",
    "    Args:\n",
    "    * model - fitted OLS model from statsmodels\n",
    "    * y - observed values\n",
    "    '''\n",
    "    fitted_vals = model.predict()\n",
    "    resids = model.resid\n",
    "\n",
    "    fig, ax = plt.subplots(1,2)\n",
    "    \n",
    "    sns.regplot(x=fitted_vals, y=y, lowess=True, ax=ax[0], line_kws={'color': 'red'})\n",
    "    ax[0].set_title('Observed vs. Predicted Values', fontsize=16)\n",
    "    ax[0].set(xlabel='Predicted', ylabel='Observed')\n",
    "\n",
    "    sns.regplot(x=fitted_vals, y=resids, lowess=True, ax=ax[1], line_kws={'color': 'red'})\n",
    "    ax[1].set_title('Residuals vs. Predicted Values', fontsize=16)\n",
    "    ax[1].set(xlabel='Predicted', ylabel='Residuals')\n",
    "    \n",
    "linearity_test(lin_reg, y)    \n",
    "    "
   ]
  },
  {
   "cell_type": "code",
   "execution_count": 323,
   "id": "e65e0454",
   "metadata": {},
   "outputs": [
    {
     "data": {
      "text/plain": [
       "<AxesSubplot:>"
      ]
     },
     "execution_count": 323,
     "metadata": {},
     "output_type": "execute_result"
    },
    {
     "data": {
      "image/png": "[encoded data removed]",
      "text/plain": [
       "<Figure size 792x648 with 2 Axes>"
      ]
     },
     "metadata": {},
     "output_type": "display_data"
    }
   ],
   "source": [
    "# Generate a mask for the upper triangle\n",
    "mask = np.triu(np.ones_like(corr, dtype=bool))\n",
    "\n",
    "# Set up the matplotlib figure\n",
    "f, ax = plt.subplots(figsize=(11, 9))\n",
    "\n",
    "# Generate a custom diverging colormap\n",
    "cmap = sns.diverging_palette(230, 20, as_cmap=True)\n",
    "\n",
    "# Draw the heatmap with the mask and correct aspect ratio\n",
    "sns.heatmap(corr, mask=mask, cmap=cmap, vmax=.3, center=0,\n",
    "            square=True, linewidths=.5, cbar_kws={\"shrink\": .5})"
   ]
  },
  {
   "cell_type": "code",
   "execution_count": null,
   "id": "cabf5dad",
   "metadata": {},
   "outputs": [],
   "source": []
  },
  {
   "cell_type": "code",
   "execution_count": null,
   "id": "ff6f8e0a",
   "metadata": {},
   "outputs": [],
   "source": []
  },
  {
   "cell_type": "code",
   "execution_count": null,
   "id": "928d0da0",
   "metadata": {},
   "outputs": [],
   "source": []
  },
  {
   "cell_type": "code",
   "execution_count": null,
   "id": "0603049f",
   "metadata": {},
   "outputs": [],
   "source": []
  },
  {
   "cell_type": "code",
   "execution_count": null,
   "id": "c08ee0d3",
   "metadata": {},
   "outputs": [],
   "source": []
  },
  {
   "cell_type": "markdown",
   "id": "1370c9e2",
   "metadata": {},
   "source": [
    "### Handling genre and knownForTitles variables ( This could be used later on if accuracy is less)"
   ]
  },
  {
   "cell_type": "code",
   "execution_count": 19,
   "id": "f4481aa1",
   "metadata": {},
   "outputs": [],
   "source": [
    "genres_lists = df.genres.str.split(',')        \n",
    "df.genres = genres_lists "
   ]
  },
  {
   "cell_type": "code",
   "execution_count": 20,
   "id": "a1ba4181",
   "metadata": {},
   "outputs": [],
   "source": [
    "genres_lists = df.genres.str.split(',')        \n",
    "df.genres = genres_lists \n",
    "df = df.explode('genres')"
   ]
  },
  {
   "cell_type": "code",
   "execution_count": 24,
   "id": "5007d045",
   "metadata": {},
   "outputs": [],
   "source": [
    "knownForTitles_lists = df.knownForTitles.str.split(',')        \n",
    "df.knownForTitles = knownForTitles_lists "
   ]
  },
  {
   "cell_type": "code",
   "execution_count": 25,
   "id": "cdb29af5",
   "metadata": {},
   "outputs": [],
   "source": [
    "df = df.explode('knownForTitles')"
   ]
  },
  {
   "cell_type": "code",
   "execution_count": 27,
   "id": "7e349507",
   "metadata": {},
   "outputs": [
    {
     "data": {
      "text/html": [
       "<div>\n",
       "<style scoped>\n",
       "    .dataframe tbody tr th:only-of-type {\n",
       "        vertical-align: middle;\n",
       "    }\n",
       "\n",
       "    .dataframe tbody tr th {\n",
       "        vertical-align: top;\n",
       "    }\n",
       "\n",
       "    .dataframe thead th {\n",
       "        text-align: right;\n",
       "    }\n",
       "</style>\n",
       "<table border=\"1\" class=\"dataframe\">\n",
       "  <thead>\n",
       "    <tr style=\"text-align: right;\">\n",
       "      <th></th>\n",
       "      <th>startYear</th>\n",
       "      <th>runtimeMinutes</th>\n",
       "      <th>averageRating</th>\n",
       "      <th>numVotes</th>\n",
       "    </tr>\n",
       "  </thead>\n",
       "  <tbody>\n",
       "    <tr>\n",
       "      <th>count</th>\n",
       "      <td>3.483580e+06</td>\n",
       "      <td>3.008303e+06</td>\n",
       "      <td>3.483875e+06</td>\n",
       "      <td>3.483875e+06</td>\n",
       "    </tr>\n",
       "    <tr>\n",
       "      <th>mean</th>\n",
       "      <td>1.995936e+03</td>\n",
       "      <td>5.860408e+01</td>\n",
       "      <td>6.764852e+00</td>\n",
       "      <td>2.346812e+03</td>\n",
       "    </tr>\n",
       "    <tr>\n",
       "      <th>std</th>\n",
       "      <td>2.499134e+01</td>\n",
       "      <td>6.946736e+01</td>\n",
       "      <td>1.374452e+00</td>\n",
       "      <td>2.665700e+04</td>\n",
       "    </tr>\n",
       "    <tr>\n",
       "      <th>min</th>\n",
       "      <td>1.874000e+03</td>\n",
       "      <td>0.000000e+00</td>\n",
       "      <td>1.000000e+00</td>\n",
       "      <td>5.000000e+00</td>\n",
       "    </tr>\n",
       "    <tr>\n",
       "      <th>25%</th>\n",
       "      <td>1.986000e+03</td>\n",
       "      <td>2.400000e+01</td>\n",
       "      <td>6.000000e+00</td>\n",
       "      <td>2.100000e+01</td>\n",
       "    </tr>\n",
       "    <tr>\n",
       "      <th>50%</th>\n",
       "      <td>2.005000e+03</td>\n",
       "      <td>5.000000e+01</td>\n",
       "      <td>7.000000e+00</td>\n",
       "      <td>7.900000e+01</td>\n",
       "    </tr>\n",
       "    <tr>\n",
       "      <th>75%</th>\n",
       "      <td>2.014000e+03</td>\n",
       "      <td>8.900000e+01</td>\n",
       "      <td>7.800000e+00</td>\n",
       "      <td>3.720000e+02</td>\n",
       "    </tr>\n",
       "    <tr>\n",
       "      <th>max</th>\n",
       "      <td>2.022000e+03</td>\n",
       "      <td>5.142000e+04</td>\n",
       "      <td>1.000000e+01</td>\n",
       "      <td>2.543762e+06</td>\n",
       "    </tr>\n",
       "  </tbody>\n",
       "</table>\n",
       "</div>"
      ],
      "text/plain": [
       "          startYear  runtimeMinutes  averageRating      numVotes\n",
       "count  3.483580e+06    3.008303e+06   3.483875e+06  3.483875e+06\n",
       "mean   1.995936e+03    5.860408e+01   6.764852e+00  2.346812e+03\n",
       "std    2.499134e+01    6.946736e+01   1.374452e+00  2.665700e+04\n",
       "min    1.874000e+03    0.000000e+00   1.000000e+00  5.000000e+00\n",
       "25%    1.986000e+03    2.400000e+01   6.000000e+00  2.100000e+01\n",
       "50%    2.005000e+03    5.000000e+01   7.000000e+00  7.900000e+01\n",
       "75%    2.014000e+03    8.900000e+01   7.800000e+00  3.720000e+02\n",
       "max    2.022000e+03    5.142000e+04   1.000000e+01  2.543762e+06"
      ]
     },
     "execution_count": 27,
     "metadata": {},
     "output_type": "execute_result"
    }
   ],
   "source": [
    "df.describe()"
   ]
  }
 ],
 "metadata": {
  "kernelspec": {
   "display_name": "Python 3 (ipykernel)",
   "language": "python",
   "name": "python3"
  },
  "language_info": {
   "codemirror_mode": {
    "name": "ipython",
    "version": 3
   },
   "file_extension": ".py",
   "mimetype": "text/x-python",
   "name": "python",
   "nbconvert_exporter": "python",
   "pygments_lexer": "ipython3",
   "version": "3.9.7"
  }
 },
 "nbformat": 4,
 "nbformat_minor": 5
}
