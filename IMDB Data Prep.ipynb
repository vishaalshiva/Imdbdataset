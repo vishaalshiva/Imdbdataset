{
 "cells": [
  {
   "cell_type": "markdown",
   "id": "9a1a88e1",
   "metadata": {},
   "source": [
    "## Import Packages"
   ]
  },
  {
   "cell_type": "code",
   "execution_count": 1,
   "id": "bee13b0e",
   "metadata": {},
   "outputs": [],
   "source": [
    "# Import Packages\n",
    "#########################################################################################################################\n",
    "import pandas as pd, numpy as np\n",
    "from sqlalchemy import create_engine, MetaData, Table, select\n",
    "import os, time\n",
    "import math\n",
    "from sklearn.preprocessing import LabelEncoder\n",
    "from sklearn.preprocessing import OneHotEncoder\n",
    "from datetime import datetime\n",
    "from sklearn.model_selection import GridSearchCV, train_test_split, RandomizedSearchCV\n",
    "from sklearn.metrics import roc_auc_score\n",
    "from scipy import sparse\n",
    "import matplotlib.pyplot as plt\n",
    "from sklearn.utils import shuffle\n",
    "from matplotlib import pyplot\n",
    "from sklearn.model_selection import KFold\n",
    "from sklearn.model_selection import cross_val_score\n",
    "from sklearn.metrics import roc_curve, auc, confusion_matrix\n",
    "from sklearn.preprocessing import StandardScaler\n",
    "import seaborn as sns\n"
   ]
  },
  {
   "cell_type": "code",
   "execution_count": 2,
   "id": "4497d382",
   "metadata": {},
   "outputs": [
    {
     "name": "stdout",
     "output_type": "stream",
     "text": [
      "name.basics.tsv.gz\n",
      "title.akas.tsv.gz\n",
      "title.basics.tsv.gz\n",
      "title.crew.tsv.gz\n",
      "title.episode.tsv.gz\n",
      "title.principals.tsv.gz\n",
      "title.ratings.tsv.gz\n",
      "\n"
     ]
    }
   ],
   "source": [
    "import numpy as np # linear algebra\n",
    "import pandas as pd # data processing, CSV file I/O (e.g. pd.read_csv)\n",
    "\n",
    "# Input data files are available in the \"../input/\" directory.\n",
    "# For example, running this (by clicking run or pressing Shift+Enter) will list the files in the input directory\n",
    "\n",
    "from subprocess import check_output\n",
    "print(check_output([\"ls\", \"/Users/vishaal/Documents/GitHub/Imdbdataset/Data\"]).decode(\"utf8\"))"
   ]
  },
  {
   "cell_type": "markdown",
   "id": "184a0681",
   "metadata": {},
   "source": [
    "## Importing Data"
   ]
  },
  {
   "cell_type": "code",
   "execution_count": 3,
   "id": "c9dcbb12",
   "metadata": {},
   "outputs": [
    {
     "name": "stderr",
     "output_type": "stream",
     "text": [
      "/opt/anaconda3/lib/python3.9/site-packages/IPython/core/interactiveshell.py:3444: FutureWarning: The error_bad_lines argument has been deprecated and will be removed in a future version.\n",
      "\n",
      "\n",
      "  exec(code_obj, self.user_global_ns, self.user_ns)\n",
      "/opt/anaconda3/lib/python3.9/site-packages/IPython/core/interactiveshell.py:3444: DtypeWarning: Columns (7) have mixed types.Specify dtype option on import or set low_memory=False.\n",
      "  exec(code_obj, self.user_global_ns, self.user_ns)\n"
     ]
    }
   ],
   "source": [
    "title_akas_df = pd.read_csv('/Users/vishaal/Documents/GitHub/Imdbdataset/Data/title.akas.tsv.gz', nrows=100000000, compression='gzip',\n",
    "                   error_bad_lines=False, sep='\\t')"
   ]
  },
  {
   "cell_type": "code",
   "execution_count": 4,
   "id": "1ccd5446",
   "metadata": {},
   "outputs": [
    {
     "name": "stderr",
     "output_type": "stream",
     "text": [
      "/opt/anaconda3/lib/python3.9/site-packages/IPython/core/interactiveshell.py:3444: DtypeWarning: Columns (4,5) have mixed types.Specify dtype option on import or set low_memory=False.\n",
      "  exec(code_obj, self.user_global_ns, self.user_ns)\n"
     ]
    }
   ],
   "source": [
    "title_basics_df = pd.read_csv('/Users/vishaal/Documents/GitHub/Imdbdataset/Data/title.basics.tsv.gz', nrows=100000000, compression='gzip',\n",
    "                   error_bad_lines=False, sep='\\t')"
   ]
  },
  {
   "cell_type": "code",
   "execution_count": 5,
   "id": "7ad00c0e",
   "metadata": {},
   "outputs": [],
   "source": [
    "title_crew_df = pd.read_csv('/Users/vishaal/Documents/GitHub/Imdbdataset/Data/title.crew.tsv.gz', nrows=100000000, compression='gzip',\n",
    "                   error_bad_lines=False, sep='\\t')"
   ]
  },
  {
   "cell_type": "code",
   "execution_count": 6,
   "id": "80b45457",
   "metadata": {},
   "outputs": [],
   "source": [
    "title_episode_df = pd.read_csv('/Users/vishaal/Documents/GitHub/Imdbdataset/Data/title.episode.tsv.gz', nrows=100000000, compression='gzip',\n",
    "                   error_bad_lines=False, sep='\\t')"
   ]
  },
  {
   "cell_type": "code",
   "execution_count": 7,
   "id": "84121e66",
   "metadata": {},
   "outputs": [],
   "source": [
    "title_ratings_df = pd.read_csv('/Users/vishaal/Documents/GitHub/Imdbdataset/Data/title.ratings.tsv.gz', nrows=100000000, compression='gzip',                   error_bad_lines=False, sep='\\t')"
   ]
  },
  {
   "cell_type": "code",
   "execution_count": 8,
   "id": "b04ebcc5",
   "metadata": {},
   "outputs": [],
   "source": [
    "title_principals_df = pd.read_csv('/Users/vishaal/Documents/GitHub/Imdbdataset/Data/title.principals.tsv.gz', nrows=100000000, compression='gzip',\n",
    "                   error_bad_lines=False, sep='\\t')"
   ]
  },
  {
   "cell_type": "code",
   "execution_count": 9,
   "id": "85572a03",
   "metadata": {},
   "outputs": [],
   "source": [
    "title_name_basics_df = pd.read_csv('/Users/vishaal/Documents/GitHub/Imdbdataset/Data/name.basics.tsv.gz', nrows=100000000, compression='gzip',\n",
    "                   error_bad_lines=False, sep='\\t')"
   ]
  },
  {
   "cell_type": "code",
   "execution_count": 133,
   "id": "d4d51ecb",
   "metadata": {},
   "outputs": [],
   "source": []
  },
  {
   "cell_type": "markdown",
   "id": "e885ae28",
   "metadata": {},
   "source": [
    "# Analyzing the table title_akas_df\n",
    "\n",
    "\n",
    "\n",
    "### Starting to work on with basic Data Cleaning and Understanding of each variable and making assumptions as we dive deep"
   ]
  },
  {
   "cell_type": "markdown",
   "id": "10a2bcfa",
   "metadata": {},
   "source": [
    "### Deciding to choose to work on only the region of US\n",
    "Why??\n",
    "\n",
    "Because I personally watch only Hollywood movies and would like to create a model that would predict the rating of the next movie I would like to watch"
   ]
  },
  {
   "cell_type": "code",
   "execution_count": 10,
   "id": "8d9a18b4",
   "metadata": {},
   "outputs": [],
   "source": [
    "title_akas_df.rename({'titleId': 'tconst'}, axis=1, inplace=True)"
   ]
  },
  {
   "cell_type": "code",
   "execution_count": 11,
   "id": "9ab1684e",
   "metadata": {},
   "outputs": [],
   "source": [
    "title_akas_df = title_akas_df[title_akas_df['region']=='US']"
   ]
  },
  {
   "cell_type": "markdown",
   "id": "5829fa2b",
   "metadata": {},
   "source": [
    " 1) Remove //N values and replaced with NaN\n",
    " \n",
    " \n",
    " \n",
    " 2) isOriginalTitle brought uniformity to the column\n",
    "      (Had '0' and 0 so made it to just 0, similarly treated 1)"
   ]
  },
  {
   "cell_type": "code",
   "execution_count": 12,
   "id": "1faba212",
   "metadata": {},
   "outputs": [],
   "source": [
    "title_akas_df = title_akas_df.replace('\\\\N', np.NaN)"
   ]
  },
  {
   "cell_type": "code",
   "execution_count": 13,
   "id": "55034a59",
   "metadata": {},
   "outputs": [],
   "source": [
    "title_akas_df['isOriginalTitle'] = title_akas_df['isOriginalTitle'].replace('0', 0)\n",
    "title_akas_df['isOriginalTitle'] = title_akas_df['isOriginalTitle'].replace('1', 1)"
   ]
  },
  {
   "cell_type": "code",
   "execution_count": 14,
   "id": "77aa9dd9",
   "metadata": {},
   "outputs": [
    {
     "data": {
      "text/plain": [
       "0.0    1298414\n",
       "1.0          9\n",
       "Name: isOriginalTitle, dtype: int64"
      ]
     },
     "execution_count": 14,
     "metadata": {},
     "output_type": "execute_result"
    }
   ],
   "source": [
    "title_akas_df['isOriginalTitle'].value_counts()"
   ]
  },
  {
   "cell_type": "markdown",
   "id": "9110f83d",
   "metadata": {},
   "source": [
    " 3) Safe to assume that movies in the region of US are given only non original titles as there are only 4 records with the bool value 1.....interesting!! So what exactly is a non original titile??"
   ]
  },
  {
   "cell_type": "code",
   "execution_count": 15,
   "id": "2d574fcd",
   "metadata": {},
   "outputs": [
    {
     "data": {
      "text/html": [
       "<div>\n",
       "<style scoped>\n",
       "    .dataframe tbody tr th:only-of-type {\n",
       "        vertical-align: middle;\n",
       "    }\n",
       "\n",
       "    .dataframe tbody tr th {\n",
       "        vertical-align: top;\n",
       "    }\n",
       "\n",
       "    .dataframe thead th {\n",
       "        text-align: right;\n",
       "    }\n",
       "</style>\n",
       "<table border=\"1\" class=\"dataframe\">\n",
       "  <thead>\n",
       "    <tr style=\"text-align: right;\">\n",
       "      <th></th>\n",
       "      <th>tconst</th>\n",
       "      <th>ordering</th>\n",
       "      <th>title</th>\n",
       "      <th>region</th>\n",
       "      <th>language</th>\n",
       "      <th>types</th>\n",
       "      <th>attributes</th>\n",
       "      <th>isOriginalTitle</th>\n",
       "    </tr>\n",
       "  </thead>\n",
       "  <tbody>\n",
       "    <tr>\n",
       "      <th>5</th>\n",
       "      <td>tt0000001</td>\n",
       "      <td>6</td>\n",
       "      <td>Carmencita</td>\n",
       "      <td>US</td>\n",
       "      <td>NaN</td>\n",
       "      <td>imdbDisplay</td>\n",
       "      <td>NaN</td>\n",
       "      <td>0.0</td>\n",
       "    </tr>\n",
       "    <tr>\n",
       "      <th>14</th>\n",
       "      <td>tt0000002</td>\n",
       "      <td>7</td>\n",
       "      <td>The Clown and His Dogs</td>\n",
       "      <td>US</td>\n",
       "      <td>NaN</td>\n",
       "      <td>NaN</td>\n",
       "      <td>literal English title</td>\n",
       "      <td>0.0</td>\n",
       "    </tr>\n",
       "    <tr>\n",
       "      <th>33</th>\n",
       "      <td>tt0000005</td>\n",
       "      <td>10</td>\n",
       "      <td>Blacksmith Scene</td>\n",
       "      <td>US</td>\n",
       "      <td>NaN</td>\n",
       "      <td>imdbDisplay</td>\n",
       "      <td>NaN</td>\n",
       "      <td>0.0</td>\n",
       "    </tr>\n",
       "    <tr>\n",
       "      <th>36</th>\n",
       "      <td>tt0000005</td>\n",
       "      <td>1</td>\n",
       "      <td>Blacksmithing Scene</td>\n",
       "      <td>US</td>\n",
       "      <td>NaN</td>\n",
       "      <td>alternative</td>\n",
       "      <td>NaN</td>\n",
       "      <td>0.0</td>\n",
       "    </tr>\n",
       "    <tr>\n",
       "      <th>41</th>\n",
       "      <td>tt0000005</td>\n",
       "      <td>6</td>\n",
       "      <td>Blacksmith Scene #1</td>\n",
       "      <td>US</td>\n",
       "      <td>NaN</td>\n",
       "      <td>alternative</td>\n",
       "      <td>NaN</td>\n",
       "      <td>0.0</td>\n",
       "    </tr>\n",
       "  </tbody>\n",
       "</table>\n",
       "</div>"
      ],
      "text/plain": [
       "       tconst  ordering                   title region language        types  \\\n",
       "5   tt0000001         6              Carmencita     US      NaN  imdbDisplay   \n",
       "14  tt0000002         7  The Clown and His Dogs     US      NaN          NaN   \n",
       "33  tt0000005        10        Blacksmith Scene     US      NaN  imdbDisplay   \n",
       "36  tt0000005         1     Blacksmithing Scene     US      NaN  alternative   \n",
       "41  tt0000005         6     Blacksmith Scene #1     US      NaN  alternative   \n",
       "\n",
       "               attributes  isOriginalTitle  \n",
       "5                     NaN              0.0  \n",
       "14  literal English title              0.0  \n",
       "33                    NaN              0.0  \n",
       "36                    NaN              0.0  \n",
       "41                    NaN              0.0  "
      ]
     },
     "execution_count": 15,
     "metadata": {},
     "output_type": "execute_result"
    }
   ],
   "source": [
    "title_akas_df.head()"
   ]
  },
  {
   "cell_type": "code",
   "execution_count": 16,
   "id": "9a7355f9",
   "metadata": {},
   "outputs": [
    {
     "data": {
      "text/html": [
       "<div>\n",
       "<style scoped>\n",
       "    .dataframe tbody tr th:only-of-type {\n",
       "        vertical-align: middle;\n",
       "    }\n",
       "\n",
       "    .dataframe tbody tr th {\n",
       "        vertical-align: top;\n",
       "    }\n",
       "\n",
       "    .dataframe thead th {\n",
       "        text-align: right;\n",
       "    }\n",
       "</style>\n",
       "<table border=\"1\" class=\"dataframe\">\n",
       "  <thead>\n",
       "    <tr style=\"text-align: right;\">\n",
       "      <th></th>\n",
       "      <th>tconst</th>\n",
       "      <th>ordering</th>\n",
       "      <th>title</th>\n",
       "      <th>region</th>\n",
       "      <th>language</th>\n",
       "      <th>types</th>\n",
       "      <th>attributes</th>\n",
       "      <th>isOriginalTitle</th>\n",
       "    </tr>\n",
       "  </thead>\n",
       "  <tbody>\n",
       "    <tr>\n",
       "      <th>count</th>\n",
       "      <td>1299798</td>\n",
       "      <td>1.299798e+06</td>\n",
       "      <td>1299798</td>\n",
       "      <td>1299798</td>\n",
       "      <td>3352</td>\n",
       "      <td>1016345</td>\n",
       "      <td>43352</td>\n",
       "      <td>1.298423e+06</td>\n",
       "    </tr>\n",
       "    <tr>\n",
       "      <th>unique</th>\n",
       "      <td>1223242</td>\n",
       "      <td>NaN</td>\n",
       "      <td>1005074</td>\n",
       "      <td>1</td>\n",
       "      <td>8</td>\n",
       "      <td>13</td>\n",
       "      <td>163</td>\n",
       "      <td>NaN</td>\n",
       "    </tr>\n",
       "    <tr>\n",
       "      <th>top</th>\n",
       "      <td>tt0239195</td>\n",
       "      <td>NaN</td>\n",
       "      <td>Pilot</td>\n",
       "      <td>US</td>\n",
       "      <td>en</td>\n",
       "      <td>imdbDisplay</td>\n",
       "      <td>series title</td>\n",
       "      <td>NaN</td>\n",
       "    </tr>\n",
       "    <tr>\n",
       "      <th>freq</th>\n",
       "      <td>42</td>\n",
       "      <td>NaN</td>\n",
       "      <td>994</td>\n",
       "      <td>1299798</td>\n",
       "      <td>2744</td>\n",
       "      <td>969665</td>\n",
       "      <td>4262</td>\n",
       "      <td>NaN</td>\n",
       "    </tr>\n",
       "    <tr>\n",
       "      <th>mean</th>\n",
       "      <td>NaN</td>\n",
       "      <td>2.409305e+00</td>\n",
       "      <td>NaN</td>\n",
       "      <td>NaN</td>\n",
       "      <td>NaN</td>\n",
       "      <td>NaN</td>\n",
       "      <td>NaN</td>\n",
       "      <td>6.931485e-06</td>\n",
       "    </tr>\n",
       "    <tr>\n",
       "      <th>std</th>\n",
       "      <td>NaN</td>\n",
       "      <td>3.606407e+00</td>\n",
       "      <td>NaN</td>\n",
       "      <td>NaN</td>\n",
       "      <td>NaN</td>\n",
       "      <td>NaN</td>\n",
       "      <td>NaN</td>\n",
       "      <td>2.632763e-03</td>\n",
       "    </tr>\n",
       "    <tr>\n",
       "      <th>min</th>\n",
       "      <td>NaN</td>\n",
       "      <td>1.000000e+00</td>\n",
       "      <td>NaN</td>\n",
       "      <td>NaN</td>\n",
       "      <td>NaN</td>\n",
       "      <td>NaN</td>\n",
       "      <td>NaN</td>\n",
       "      <td>0.000000e+00</td>\n",
       "    </tr>\n",
       "    <tr>\n",
       "      <th>25%</th>\n",
       "      <td>NaN</td>\n",
       "      <td>1.000000e+00</td>\n",
       "      <td>NaN</td>\n",
       "      <td>NaN</td>\n",
       "      <td>NaN</td>\n",
       "      <td>NaN</td>\n",
       "      <td>NaN</td>\n",
       "      <td>0.000000e+00</td>\n",
       "    </tr>\n",
       "    <tr>\n",
       "      <th>50%</th>\n",
       "      <td>NaN</td>\n",
       "      <td>2.000000e+00</td>\n",
       "      <td>NaN</td>\n",
       "      <td>NaN</td>\n",
       "      <td>NaN</td>\n",
       "      <td>NaN</td>\n",
       "      <td>NaN</td>\n",
       "      <td>0.000000e+00</td>\n",
       "    </tr>\n",
       "    <tr>\n",
       "      <th>75%</th>\n",
       "      <td>NaN</td>\n",
       "      <td>2.000000e+00</td>\n",
       "      <td>NaN</td>\n",
       "      <td>NaN</td>\n",
       "      <td>NaN</td>\n",
       "      <td>NaN</td>\n",
       "      <td>NaN</td>\n",
       "      <td>0.000000e+00</td>\n",
       "    </tr>\n",
       "    <tr>\n",
       "      <th>max</th>\n",
       "      <td>NaN</td>\n",
       "      <td>1.760000e+02</td>\n",
       "      <td>NaN</td>\n",
       "      <td>NaN</td>\n",
       "      <td>NaN</td>\n",
       "      <td>NaN</td>\n",
       "      <td>NaN</td>\n",
       "      <td>1.000000e+00</td>\n",
       "    </tr>\n",
       "  </tbody>\n",
       "</table>\n",
       "</div>"
      ],
      "text/plain": [
       "           tconst      ordering    title   region language        types  \\\n",
       "count     1299798  1.299798e+06  1299798  1299798     3352      1016345   \n",
       "unique    1223242           NaN  1005074        1        8           13   \n",
       "top     tt0239195           NaN    Pilot       US       en  imdbDisplay   \n",
       "freq           42           NaN      994  1299798     2744       969665   \n",
       "mean          NaN  2.409305e+00      NaN      NaN      NaN          NaN   \n",
       "std           NaN  3.606407e+00      NaN      NaN      NaN          NaN   \n",
       "min           NaN  1.000000e+00      NaN      NaN      NaN          NaN   \n",
       "25%           NaN  1.000000e+00      NaN      NaN      NaN          NaN   \n",
       "50%           NaN  2.000000e+00      NaN      NaN      NaN          NaN   \n",
       "75%           NaN  2.000000e+00      NaN      NaN      NaN          NaN   \n",
       "max           NaN  1.760000e+02      NaN      NaN      NaN          NaN   \n",
       "\n",
       "          attributes  isOriginalTitle  \n",
       "count          43352     1.298423e+06  \n",
       "unique           163              NaN  \n",
       "top     series title              NaN  \n",
       "freq            4262              NaN  \n",
       "mean             NaN     6.931485e-06  \n",
       "std              NaN     2.632763e-03  \n",
       "min              NaN     0.000000e+00  \n",
       "25%              NaN     0.000000e+00  \n",
       "50%              NaN     0.000000e+00  \n",
       "75%              NaN     0.000000e+00  \n",
       "max              NaN     1.000000e+00  "
      ]
     },
     "execution_count": 16,
     "metadata": {},
     "output_type": "execute_result"
    }
   ],
   "source": [
    "title_akas_df.describe(include='all')"
   ]
  },
  {
   "cell_type": "markdown",
   "id": "73be0f32",
   "metadata": {},
   "source": [
    "### Understanding the language variable \n"
   ]
  },
  {
   "cell_type": "code",
   "execution_count": 17,
   "id": "6b830f0e",
   "metadata": {},
   "outputs": [
    {
     "data": {
      "text/plain": [
       "array([nan, 'en', 'es', 'yi', 'fr', 'hi', 'haw', 'myv', 'cr'],\n",
       "      dtype=object)"
      ]
     },
     "execution_count": 17,
     "metadata": {},
     "output_type": "execute_result"
    }
   ],
   "source": [
    "title_akas_df['language'].unique()"
   ]
  },
  {
   "cell_type": "code",
   "execution_count": 18,
   "id": "dcedb100",
   "metadata": {},
   "outputs": [
    {
     "data": {
      "text/plain": [
       "<AxesSubplot:>"
      ]
     },
     "execution_count": 18,
     "metadata": {},
     "output_type": "execute_result"
    },
    {
     "data": {
      "image/png": "[encoded data removed]",
      "text/plain": [
       "<Figure size 432x288 with 1 Axes>"
      ]
     },
     "metadata": {
      "needs_background": "light"
     },
     "output_type": "display_data"
    }
   ],
   "source": [
    "import matplotlib.pyplot as plt\n",
    "import pandas\n",
    "\n",
    "fig, ax = plt.subplots()\n",
    "title_akas_df['language'].value_counts().plot(ax=ax, kind='bar')"
   ]
  },
  {
   "cell_type": "markdown",
   "id": "1083d712",
   "metadata": {},
   "source": [
    "4) PreDominantly English and Spanish which is expected from a region like US "
   ]
  },
  {
   "cell_type": "markdown",
   "id": "917cdf7d",
   "metadata": {},
   "source": [
    "### Understanding the types variable "
   ]
  },
  {
   "cell_type": "code",
   "execution_count": 19,
   "id": "cfaba924",
   "metadata": {},
   "outputs": [
    {
     "data": {
      "text/plain": [
       "imdbDisplay         969665\n",
       "working              21173\n",
       "alternative          18640\n",
       "dvd                   2534\n",
       "video                 2166\n",
       "tv                    1106\n",
       "festival              1039\n",
       "original                 9\n",
       "tv\u0002working               4\n",
       "tv\u0002video                 4\n",
       "video\u0002working            3\n",
       "festival\u0002working         1\n",
       "dvd\u0002video                1\n",
       "Name: types, dtype: int64"
      ]
     },
     "execution_count": 19,
     "metadata": {},
     "output_type": "execute_result"
    }
   ],
   "source": [
    "title_akas_df['types'].value_counts()"
   ]
  },
  {
   "cell_type": "markdown",
   "id": "909bf991",
   "metadata": {},
   "source": [
    "### Inference from analyzing title_akas_df table\n",
    "1) Useful for filtering the table with region\n",
    "\n",
    "\n",
    "2) Not a lot of useful information from the type variable because we have title type in title_basics_df table which gives us a better understanding. Similar logic for title\n",
    "\n",
    "\n",
    "3) attributes could be ignored.\n",
    "\n",
    "\n",
    "4) Dont find much value with language as majority are null and from the freq distribution it would be safe to conclude that the movie in the region of US would majorly be English or Spanish hence not a lot of useful information from there"
   ]
  },
  {
   "cell_type": "markdown",
   "id": "743b1b2c",
   "metadata": {},
   "source": [
    "# Analyzing the table title_basics_df"
   ]
  },
  {
   "cell_type": "code",
   "execution_count": 20,
   "id": "a4c25bcb",
   "metadata": {},
   "outputs": [
    {
     "data": {
      "text/html": [
       "<div>\n",
       "<style scoped>\n",
       "    .dataframe tbody tr th:only-of-type {\n",
       "        vertical-align: middle;\n",
       "    }\n",
       "\n",
       "    .dataframe tbody tr th {\n",
       "        vertical-align: top;\n",
       "    }\n",
       "\n",
       "    .dataframe thead th {\n",
       "        text-align: right;\n",
       "    }\n",
       "</style>\n",
       "<table border=\"1\" class=\"dataframe\">\n",
       "  <thead>\n",
       "    <tr style=\"text-align: right;\">\n",
       "      <th></th>\n",
       "      <th>tconst</th>\n",
       "      <th>titleType</th>\n",
       "      <th>primaryTitle</th>\n",
       "      <th>originalTitle</th>\n",
       "      <th>isAdult</th>\n",
       "      <th>startYear</th>\n",
       "      <th>endYear</th>\n",
       "      <th>runtimeMinutes</th>\n",
       "      <th>genres</th>\n",
       "    </tr>\n",
       "  </thead>\n",
       "  <tbody>\n",
       "    <tr>\n",
       "      <th>count</th>\n",
       "      <td>8691512</td>\n",
       "      <td>8691512</td>\n",
       "      <td>8691504</td>\n",
       "      <td>8691504</td>\n",
       "      <td>8691512</td>\n",
       "      <td>8691512</td>\n",
       "      <td>8691512</td>\n",
       "      <td>8691512</td>\n",
       "      <td>8691502</td>\n",
       "    </tr>\n",
       "    <tr>\n",
       "      <th>unique</th>\n",
       "      <td>8691512</td>\n",
       "      <td>11</td>\n",
       "      <td>4040222</td>\n",
       "      <td>4059774</td>\n",
       "      <td>11</td>\n",
       "      <td>256</td>\n",
       "      <td>97</td>\n",
       "      <td>864</td>\n",
       "      <td>2303</td>\n",
       "    </tr>\n",
       "    <tr>\n",
       "      <th>top</th>\n",
       "      <td>tt0000001</td>\n",
       "      <td>tvEpisode</td>\n",
       "      <td>Episode #1.1</td>\n",
       "      <td>Episode #1.1</td>\n",
       "      <td>0</td>\n",
       "      <td>\\N</td>\n",
       "      <td>\\N</td>\n",
       "      <td>\\N</td>\n",
       "      <td>Drama</td>\n",
       "    </tr>\n",
       "    <tr>\n",
       "      <th>freq</th>\n",
       "      <td>1</td>\n",
       "      <td>6501575</td>\n",
       "      <td>42486</td>\n",
       "      <td>42486</td>\n",
       "      <td>8359905</td>\n",
       "      <td>1119907</td>\n",
       "      <td>8603934</td>\n",
       "      <td>6336113</td>\n",
       "      <td>979155</td>\n",
       "    </tr>\n",
       "  </tbody>\n",
       "</table>\n",
       "</div>"
      ],
      "text/plain": [
       "           tconst  titleType  primaryTitle originalTitle  isAdult startYear  \\\n",
       "count     8691512    8691512       8691504       8691504  8691512   8691512   \n",
       "unique    8691512         11       4040222       4059774       11       256   \n",
       "top     tt0000001  tvEpisode  Episode #1.1  Episode #1.1        0        \\N   \n",
       "freq            1    6501575         42486         42486  8359905   1119907   \n",
       "\n",
       "        endYear runtimeMinutes   genres  \n",
       "count   8691512        8691512  8691502  \n",
       "unique       97            864     2303  \n",
       "top          \\N             \\N    Drama  \n",
       "freq    8603934        6336113   979155  "
      ]
     },
     "execution_count": 20,
     "metadata": {},
     "output_type": "execute_result"
    }
   ],
   "source": [
    "title_basics_df.describe()"
   ]
  },
  {
   "cell_type": "markdown",
   "id": "afe7336e",
   "metadata": {},
   "source": [
    "1) Since every column row has a unique tconst it would be safe to do a inner join with title_akas_df.\n",
    "\n",
    "\n",
    "\n",
    "The reason for the join is to filter the data by region"
   ]
  },
  {
   "cell_type": "code",
   "execution_count": 21,
   "id": "9362ed0f",
   "metadata": {},
   "outputs": [],
   "source": [
    "title_basics_df_1 = pd.merge(title_akas_df,title_basics_df, on='tconst',how ='inner')"
   ]
  },
  {
   "cell_type": "code",
   "execution_count": 22,
   "id": "e4422062",
   "metadata": {},
   "outputs": [],
   "source": [
    "title_basics_df_1 = title_basics_df_1.replace('\\\\N', np.NaN)"
   ]
  },
  {
   "cell_type": "code",
   "execution_count": 23,
   "id": "5a88c7c0",
   "metadata": {},
   "outputs": [
    {
     "data": {
      "text/html": [
       "<div>\n",
       "<style scoped>\n",
       "    .dataframe tbody tr th:only-of-type {\n",
       "        vertical-align: middle;\n",
       "    }\n",
       "\n",
       "    .dataframe tbody tr th {\n",
       "        vertical-align: top;\n",
       "    }\n",
       "\n",
       "    .dataframe thead th {\n",
       "        text-align: right;\n",
       "    }\n",
       "</style>\n",
       "<table border=\"1\" class=\"dataframe\">\n",
       "  <thead>\n",
       "    <tr style=\"text-align: right;\">\n",
       "      <th></th>\n",
       "      <th>tconst</th>\n",
       "      <th>ordering</th>\n",
       "      <th>title</th>\n",
       "      <th>region</th>\n",
       "      <th>language</th>\n",
       "      <th>types</th>\n",
       "      <th>attributes</th>\n",
       "      <th>isOriginalTitle</th>\n",
       "      <th>titleType</th>\n",
       "      <th>primaryTitle</th>\n",
       "      <th>originalTitle</th>\n",
       "      <th>isAdult</th>\n",
       "      <th>startYear</th>\n",
       "      <th>endYear</th>\n",
       "      <th>runtimeMinutes</th>\n",
       "      <th>genres</th>\n",
       "    </tr>\n",
       "  </thead>\n",
       "  <tbody>\n",
       "    <tr>\n",
       "      <th>count</th>\n",
       "      <td>1296435</td>\n",
       "      <td>1.296435e+06</td>\n",
       "      <td>1296435</td>\n",
       "      <td>1296435</td>\n",
       "      <td>3352</td>\n",
       "      <td>1016344</td>\n",
       "      <td>43352</td>\n",
       "      <td>1.296405e+06</td>\n",
       "      <td>1296435</td>\n",
       "      <td>1296435</td>\n",
       "      <td>1296435</td>\n",
       "      <td>1296435.0</td>\n",
       "      <td>1215613</td>\n",
       "      <td>33347</td>\n",
       "      <td>832671</td>\n",
       "      <td>1268602</td>\n",
       "    </tr>\n",
       "    <tr>\n",
       "      <th>unique</th>\n",
       "      <td>1219879</td>\n",
       "      <td>NaN</td>\n",
       "      <td>1003023</td>\n",
       "      <td>1</td>\n",
       "      <td>8</td>\n",
       "      <td>13</td>\n",
       "      <td>163</td>\n",
       "      <td>NaN</td>\n",
       "      <td>10</td>\n",
       "      <td>944741</td>\n",
       "      <td>962297</td>\n",
       "      <td>4.0</td>\n",
       "      <td>243</td>\n",
       "      <td>90</td>\n",
       "      <td>683</td>\n",
       "      <td>2110</td>\n",
       "    </tr>\n",
       "    <tr>\n",
       "      <th>top</th>\n",
       "      <td>tt0239195</td>\n",
       "      <td>NaN</td>\n",
       "      <td>Pilot</td>\n",
       "      <td>US</td>\n",
       "      <td>en</td>\n",
       "      <td>imdbDisplay</td>\n",
       "      <td>series title</td>\n",
       "      <td>NaN</td>\n",
       "      <td>short</td>\n",
       "      <td>Pilot</td>\n",
       "      <td>Pilot</td>\n",
       "      <td>0.0</td>\n",
       "      <td>2018</td>\n",
       "      <td>2017</td>\n",
       "      <td>60</td>\n",
       "      <td>Comedy,Short</td>\n",
       "    </tr>\n",
       "    <tr>\n",
       "      <th>freq</th>\n",
       "      <td>42</td>\n",
       "      <td>NaN</td>\n",
       "      <td>992</td>\n",
       "      <td>1296435</td>\n",
       "      <td>2744</td>\n",
       "      <td>969664</td>\n",
       "      <td>4262</td>\n",
       "      <td>NaN</td>\n",
       "      <td>424346</td>\n",
       "      <td>995</td>\n",
       "      <td>996</td>\n",
       "      <td>1197703.0</td>\n",
       "      <td>60358</td>\n",
       "      <td>2283</td>\n",
       "      <td>35480</td>\n",
       "      <td>82597</td>\n",
       "    </tr>\n",
       "    <tr>\n",
       "      <th>mean</th>\n",
       "      <td>NaN</td>\n",
       "      <td>2.412953e+00</td>\n",
       "      <td>NaN</td>\n",
       "      <td>NaN</td>\n",
       "      <td>NaN</td>\n",
       "      <td>NaN</td>\n",
       "      <td>NaN</td>\n",
       "      <td>6.942275e-06</td>\n",
       "      <td>NaN</td>\n",
       "      <td>NaN</td>\n",
       "      <td>NaN</td>\n",
       "      <td>NaN</td>\n",
       "      <td>NaN</td>\n",
       "      <td>NaN</td>\n",
       "      <td>NaN</td>\n",
       "      <td>NaN</td>\n",
       "    </tr>\n",
       "    <tr>\n",
       "      <th>std</th>\n",
       "      <td>NaN</td>\n",
       "      <td>3.610360e+00</td>\n",
       "      <td>NaN</td>\n",
       "      <td>NaN</td>\n",
       "      <td>NaN</td>\n",
       "      <td>NaN</td>\n",
       "      <td>NaN</td>\n",
       "      <td>2.634812e-03</td>\n",
       "      <td>NaN</td>\n",
       "      <td>NaN</td>\n",
       "      <td>NaN</td>\n",
       "      <td>NaN</td>\n",
       "      <td>NaN</td>\n",
       "      <td>NaN</td>\n",
       "      <td>NaN</td>\n",
       "      <td>NaN</td>\n",
       "    </tr>\n",
       "    <tr>\n",
       "      <th>min</th>\n",
       "      <td>NaN</td>\n",
       "      <td>1.000000e+00</td>\n",
       "      <td>NaN</td>\n",
       "      <td>NaN</td>\n",
       "      <td>NaN</td>\n",
       "      <td>NaN</td>\n",
       "      <td>NaN</td>\n",
       "      <td>0.000000e+00</td>\n",
       "      <td>NaN</td>\n",
       "      <td>NaN</td>\n",
       "      <td>NaN</td>\n",
       "      <td>NaN</td>\n",
       "      <td>NaN</td>\n",
       "      <td>NaN</td>\n",
       "      <td>NaN</td>\n",
       "      <td>NaN</td>\n",
       "    </tr>\n",
       "    <tr>\n",
       "      <th>25%</th>\n",
       "      <td>NaN</td>\n",
       "      <td>1.000000e+00</td>\n",
       "      <td>NaN</td>\n",
       "      <td>NaN</td>\n",
       "      <td>NaN</td>\n",
       "      <td>NaN</td>\n",
       "      <td>NaN</td>\n",
       "      <td>0.000000e+00</td>\n",
       "      <td>NaN</td>\n",
       "      <td>NaN</td>\n",
       "      <td>NaN</td>\n",
       "      <td>NaN</td>\n",
       "      <td>NaN</td>\n",
       "      <td>NaN</td>\n",
       "      <td>NaN</td>\n",
       "      <td>NaN</td>\n",
       "    </tr>\n",
       "    <tr>\n",
       "      <th>50%</th>\n",
       "      <td>NaN</td>\n",
       "      <td>2.000000e+00</td>\n",
       "      <td>NaN</td>\n",
       "      <td>NaN</td>\n",
       "      <td>NaN</td>\n",
       "      <td>NaN</td>\n",
       "      <td>NaN</td>\n",
       "      <td>0.000000e+00</td>\n",
       "      <td>NaN</td>\n",
       "      <td>NaN</td>\n",
       "      <td>NaN</td>\n",
       "      <td>NaN</td>\n",
       "      <td>NaN</td>\n",
       "      <td>NaN</td>\n",
       "      <td>NaN</td>\n",
       "      <td>NaN</td>\n",
       "    </tr>\n",
       "    <tr>\n",
       "      <th>75%</th>\n",
       "      <td>NaN</td>\n",
       "      <td>2.000000e+00</td>\n",
       "      <td>NaN</td>\n",
       "      <td>NaN</td>\n",
       "      <td>NaN</td>\n",
       "      <td>NaN</td>\n",
       "      <td>NaN</td>\n",
       "      <td>0.000000e+00</td>\n",
       "      <td>NaN</td>\n",
       "      <td>NaN</td>\n",
       "      <td>NaN</td>\n",
       "      <td>NaN</td>\n",
       "      <td>NaN</td>\n",
       "      <td>NaN</td>\n",
       "      <td>NaN</td>\n",
       "      <td>NaN</td>\n",
       "    </tr>\n",
       "    <tr>\n",
       "      <th>max</th>\n",
       "      <td>NaN</td>\n",
       "      <td>1.760000e+02</td>\n",
       "      <td>NaN</td>\n",
       "      <td>NaN</td>\n",
       "      <td>NaN</td>\n",
       "      <td>NaN</td>\n",
       "      <td>NaN</td>\n",
       "      <td>1.000000e+00</td>\n",
       "      <td>NaN</td>\n",
       "      <td>NaN</td>\n",
       "      <td>NaN</td>\n",
       "      <td>NaN</td>\n",
       "      <td>NaN</td>\n",
       "      <td>NaN</td>\n",
       "      <td>NaN</td>\n",
       "      <td>NaN</td>\n",
       "    </tr>\n",
       "  </tbody>\n",
       "</table>\n",
       "</div>"
      ],
      "text/plain": [
       "           tconst      ordering    title   region language        types  \\\n",
       "count     1296435  1.296435e+06  1296435  1296435     3352      1016344   \n",
       "unique    1219879           NaN  1003023        1        8           13   \n",
       "top     tt0239195           NaN    Pilot       US       en  imdbDisplay   \n",
       "freq           42           NaN      992  1296435     2744       969664   \n",
       "mean          NaN  2.412953e+00      NaN      NaN      NaN          NaN   \n",
       "std           NaN  3.610360e+00      NaN      NaN      NaN          NaN   \n",
       "min           NaN  1.000000e+00      NaN      NaN      NaN          NaN   \n",
       "25%           NaN  1.000000e+00      NaN      NaN      NaN          NaN   \n",
       "50%           NaN  2.000000e+00      NaN      NaN      NaN          NaN   \n",
       "75%           NaN  2.000000e+00      NaN      NaN      NaN          NaN   \n",
       "max           NaN  1.760000e+02      NaN      NaN      NaN          NaN   \n",
       "\n",
       "          attributes  isOriginalTitle titleType primaryTitle originalTitle  \\\n",
       "count          43352     1.296405e+06   1296435      1296435       1296435   \n",
       "unique           163              NaN        10       944741        962297   \n",
       "top     series title              NaN     short        Pilot         Pilot   \n",
       "freq            4262              NaN    424346          995           996   \n",
       "mean             NaN     6.942275e-06       NaN          NaN           NaN   \n",
       "std              NaN     2.634812e-03       NaN          NaN           NaN   \n",
       "min              NaN     0.000000e+00       NaN          NaN           NaN   \n",
       "25%              NaN     0.000000e+00       NaN          NaN           NaN   \n",
       "50%              NaN     0.000000e+00       NaN          NaN           NaN   \n",
       "75%              NaN     0.000000e+00       NaN          NaN           NaN   \n",
       "max              NaN     1.000000e+00       NaN          NaN           NaN   \n",
       "\n",
       "          isAdult startYear endYear runtimeMinutes        genres  \n",
       "count   1296435.0   1215613   33347         832671       1268602  \n",
       "unique        4.0       243      90            683          2110  \n",
       "top           0.0      2018    2017             60  Comedy,Short  \n",
       "freq    1197703.0     60358    2283          35480         82597  \n",
       "mean          NaN       NaN     NaN            NaN           NaN  \n",
       "std           NaN       NaN     NaN            NaN           NaN  \n",
       "min           NaN       NaN     NaN            NaN           NaN  \n",
       "25%           NaN       NaN     NaN            NaN           NaN  \n",
       "50%           NaN       NaN     NaN            NaN           NaN  \n",
       "75%           NaN       NaN     NaN            NaN           NaN  \n",
       "max           NaN       NaN     NaN            NaN           NaN  "
      ]
     },
     "execution_count": 23,
     "metadata": {},
     "output_type": "execute_result"
    }
   ],
   "source": [
    "title_basics_df_1.describe(include= 'all')"
   ]
  },
  {
   "cell_type": "markdown",
   "id": "0714468f",
   "metadata": {},
   "source": [
    "#### Ananlyzing Movie title Type"
   ]
  },
  {
   "cell_type": "code",
   "execution_count": 24,
   "id": "eceb6b0c",
   "metadata": {},
   "outputs": [
    {
     "data": {
      "text/plain": [
       "short           424346\n",
       "movie           306249\n",
       "tvEpisode       193723\n",
       "video           171337\n",
       "tvSeries         99653\n",
       "tvMovie          42535\n",
       "tvSpecial        21098\n",
       "videoGame        16803\n",
       "tvMiniSeries     15593\n",
       "tvShort           5098\n",
       "Name: titleType, dtype: int64"
      ]
     },
     "execution_count": 24,
     "metadata": {},
     "output_type": "execute_result"
    }
   ],
   "source": [
    "title_basics_df_1['titleType'].value_counts()"
   ]
  },
  {
   "cell_type": "markdown",
   "id": "1e614ac0",
   "metadata": {},
   "source": [
    "2) Will use titletype instead of types as it gives me better intuition of the kind of media streamed by the customers"
   ]
  },
  {
   "cell_type": "markdown",
   "id": "dc921ca1",
   "metadata": {},
   "source": [
    "#### Ananlyzing Movie/TV Series Start Year"
   ]
  },
  {
   "cell_type": "code",
   "execution_count": 27,
   "id": "73044325",
   "metadata": {},
   "outputs": [
    {
     "data": {
      "image/png": "[encoded data removed]",
      "text/plain": [
       "<Figure size 1562.4x595.44 with 1 Axes>"
      ]
     },
     "metadata": {},
     "output_type": "display_data"
    }
   ],
   "source": [
    "import matplotlib.pyplot as plt\n",
    "import pandas\n",
    "\n",
    "fig, ax = plt.subplots()\n",
    "title_basics_df_1['startYear'].value_counts().plot(ax=ax, kind='bar')\n",
    "sns.set(rc={'figure.figsize':(24.7,8.27)})\n",
    "ax.set_xticklabels(ax.get_xticklabels(), rotation=45, ha=\"right\", fontsize=7)\n",
    "plt.tight_layout()\n",
    "plt.show()"
   ]
  },
  {
   "cell_type": "code",
   "execution_count": 26,
   "id": "2ed57be9",
   "metadata": {},
   "outputs": [
    {
     "data": {
      "image/png": "[encoded data removed]",
      "text/plain": [
       "<Figure size 432x288 with 1 Axes>"
      ]
     },
     "metadata": {
      "needs_background": "light"
     },
     "output_type": "display_data"
    }
   ],
   "source": [
    "\n",
    "\n",
    "\n",
    "ax = sns.countplot(x=\"startYear\",data=title_basics_df_1)\n",
    "sns.set(rc={'figure.figsize':(21.7,8.27)})\n",
    "ax.set_xticklabels(ax.get_xticklabels(), rotation=45, ha=\"right\", fontsize=7)\n",
    "plt.tight_layout()\n",
    "plt.show()"
   ]
  },
  {
   "cell_type": "markdown",
   "id": "c756b9bb",
   "metadata": {},
   "source": [
    "#### Ananlyzing Movie/Tv Series Run time"
   ]
  },
  {
   "cell_type": "code",
   "execution_count": 28,
   "id": "3e3db02f",
   "metadata": {},
   "outputs": [],
   "source": [
    "title_basics_df_1['runtimeMinutes'] = pd.to_numeric(title_basics_df_1['runtimeMinutes'])"
   ]
  },
  {
   "cell_type": "code",
   "execution_count": 29,
   "id": "345b8bd1",
   "metadata": {},
   "outputs": [
    {
     "data": {
      "text/plain": [
       "count    832671.000000\n",
       "mean         50.875786\n",
       "std          99.277161\n",
       "min           0.000000\n",
       "25%          13.000000\n",
       "50%          40.000000\n",
       "75%          84.000000\n",
       "max       51420.000000\n",
       "Name: runtimeMinutes, dtype: float64"
      ]
     },
     "execution_count": 29,
     "metadata": {},
     "output_type": "execute_result"
    }
   ],
   "source": [
    "title_basics_df_1['runtimeMinutes'].describe()"
   ]
  },
  {
   "cell_type": "code",
   "execution_count": 30,
   "id": "2646f3d1",
   "metadata": {},
   "outputs": [
    {
     "data": {
      "text/plain": [
       "13206"
      ]
     },
     "execution_count": 30,
     "metadata": {},
     "output_type": "execute_result"
    }
   ],
   "source": [
    "title_basics_df_1[title_basics_df_1['runtimeMinutes'] > 165]['runtimeMinutes'].count()"
   ]
  },
  {
   "cell_type": "markdown",
   "id": "f8dc4e4b",
   "metadata": {},
   "source": [
    "##### movies/tv series that go beyond 165mins make up for only 1% Data points so I might leave it as is for the moment"
   ]
  },
  {
   "cell_type": "markdown",
   "id": "59670331",
   "metadata": {},
   "source": [
    "# Analyzing the table title_crew_df and title_principals_df and name_basics_df"
   ]
  },
  {
   "cell_type": "code",
   "execution_count": 257,
   "id": "9da0df33",
   "metadata": {},
   "outputs": [
    {
     "data": {
      "text/html": [
       "<div>\n",
       "<style scoped>\n",
       "    .dataframe tbody tr th:only-of-type {\n",
       "        vertical-align: middle;\n",
       "    }\n",
       "\n",
       "    .dataframe tbody tr th {\n",
       "        vertical-align: top;\n",
       "    }\n",
       "\n",
       "    .dataframe thead th {\n",
       "        text-align: right;\n",
       "    }\n",
       "</style>\n",
       "<table border=\"1\" class=\"dataframe\">\n",
       "  <thead>\n",
       "    <tr style=\"text-align: right;\">\n",
       "      <th></th>\n",
       "      <th>tconst</th>\n",
       "      <th>ordering</th>\n",
       "      <th>nconst</th>\n",
       "      <th>category</th>\n",
       "      <th>job</th>\n",
       "      <th>characters</th>\n",
       "    </tr>\n",
       "  </thead>\n",
       "  <tbody>\n",
       "    <tr>\n",
       "      <th>count</th>\n",
       "      <td>10000000</td>\n",
       "      <td>1.000000e+07</td>\n",
       "      <td>10000000</td>\n",
       "      <td>10000000</td>\n",
       "      <td>1834382</td>\n",
       "      <td>4698658</td>\n",
       "    </tr>\n",
       "    <tr>\n",
       "      <th>unique</th>\n",
       "      <td>1344890</td>\n",
       "      <td>NaN</td>\n",
       "      <td>1365148</td>\n",
       "      <td>12</td>\n",
       "      <td>22868</td>\n",
       "      <td>1043680</td>\n",
       "    </tr>\n",
       "    <tr>\n",
       "      <th>top</th>\n",
       "      <td>tt10315920</td>\n",
       "      <td>NaN</td>\n",
       "      <td>nm0903436</td>\n",
       "      <td>actor</td>\n",
       "      <td>producer</td>\n",
       "      <td>[\"Self\"]</td>\n",
       "    </tr>\n",
       "    <tr>\n",
       "      <th>freq</th>\n",
       "      <td>10</td>\n",
       "      <td>NaN</td>\n",
       "      <td>4844</td>\n",
       "      <td>2581315</td>\n",
       "      <td>591601</td>\n",
       "      <td>567792</td>\n",
       "    </tr>\n",
       "    <tr>\n",
       "      <th>mean</th>\n",
       "      <td>NaN</td>\n",
       "      <td>4.908265e+00</td>\n",
       "      <td>NaN</td>\n",
       "      <td>NaN</td>\n",
       "      <td>NaN</td>\n",
       "      <td>NaN</td>\n",
       "    </tr>\n",
       "    <tr>\n",
       "      <th>std</th>\n",
       "      <td>NaN</td>\n",
       "      <td>2.816454e+00</td>\n",
       "      <td>NaN</td>\n",
       "      <td>NaN</td>\n",
       "      <td>NaN</td>\n",
       "      <td>NaN</td>\n",
       "    </tr>\n",
       "    <tr>\n",
       "      <th>min</th>\n",
       "      <td>NaN</td>\n",
       "      <td>1.000000e+00</td>\n",
       "      <td>NaN</td>\n",
       "      <td>NaN</td>\n",
       "      <td>NaN</td>\n",
       "      <td>NaN</td>\n",
       "    </tr>\n",
       "    <tr>\n",
       "      <th>25%</th>\n",
       "      <td>NaN</td>\n",
       "      <td>2.000000e+00</td>\n",
       "      <td>NaN</td>\n",
       "      <td>NaN</td>\n",
       "      <td>NaN</td>\n",
       "      <td>NaN</td>\n",
       "    </tr>\n",
       "    <tr>\n",
       "      <th>50%</th>\n",
       "      <td>NaN</td>\n",
       "      <td>5.000000e+00</td>\n",
       "      <td>NaN</td>\n",
       "      <td>NaN</td>\n",
       "      <td>NaN</td>\n",
       "      <td>NaN</td>\n",
       "    </tr>\n",
       "    <tr>\n",
       "      <th>75%</th>\n",
       "      <td>NaN</td>\n",
       "      <td>7.000000e+00</td>\n",
       "      <td>NaN</td>\n",
       "      <td>NaN</td>\n",
       "      <td>NaN</td>\n",
       "      <td>NaN</td>\n",
       "    </tr>\n",
       "    <tr>\n",
       "      <th>max</th>\n",
       "      <td>NaN</td>\n",
       "      <td>1.000000e+01</td>\n",
       "      <td>NaN</td>\n",
       "      <td>NaN</td>\n",
       "      <td>NaN</td>\n",
       "      <td>NaN</td>\n",
       "    </tr>\n",
       "  </tbody>\n",
       "</table>\n",
       "</div>"
      ],
      "text/plain": [
       "            tconst      ordering     nconst  category       job characters\n",
       "count     10000000  1.000000e+07   10000000  10000000   1834382    4698658\n",
       "unique     1344890           NaN    1365148        12     22868    1043680\n",
       "top     tt10315920           NaN  nm0903436     actor  producer   [\"Self\"]\n",
       "freq            10           NaN       4844   2581315    591601     567792\n",
       "mean           NaN  4.908265e+00        NaN       NaN       NaN        NaN\n",
       "std            NaN  2.816454e+00        NaN       NaN       NaN        NaN\n",
       "min            NaN  1.000000e+00        NaN       NaN       NaN        NaN\n",
       "25%            NaN  2.000000e+00        NaN       NaN       NaN        NaN\n",
       "50%            NaN  5.000000e+00        NaN       NaN       NaN        NaN\n",
       "75%            NaN  7.000000e+00        NaN       NaN       NaN        NaN\n",
       "max            NaN  1.000000e+01        NaN       NaN       NaN        NaN"
      ]
     },
     "execution_count": 257,
     "metadata": {},
     "output_type": "execute_result"
    }
   ],
   "source": [
    "title_principals_df.describe(include ='all')"
   ]
  },
  {
   "cell_type": "code",
   "execution_count": 31,
   "id": "e6f2a3f5",
   "metadata": {},
   "outputs": [],
   "source": [
    "title_crew_df = title_crew_df.replace('\\\\N', np.NaN)\n",
    "title_principals_df = title_principals_df.replace('\\\\N', np.NaN)\n",
    "title_name_basics_df = title_name_basics_df.replace('\\\\N', np.NaN)"
   ]
  },
  {
   "cell_type": "markdown",
   "id": "913a1d75",
   "metadata": {},
   "source": [
    "#### Merging the crew table to get the directors and writers"
   ]
  },
  {
   "cell_type": "code",
   "execution_count": 32,
   "id": "e60fedb2",
   "metadata": {},
   "outputs": [],
   "source": [
    "title_basics_df_2 = pd.merge(title_crew_df,title_basics_df_1, on='tconst',how ='inner')"
   ]
  },
  {
   "cell_type": "markdown",
   "id": "84a8df68",
   "metadata": {},
   "source": [
    "#### Merging the principals to get the job nconst and the category of the job of the individual"
   ]
  },
  {
   "cell_type": "code",
   "execution_count": 33,
   "id": "142ef601",
   "metadata": {},
   "outputs": [],
   "source": [
    "title_basics_df_3 = pd.merge(title_basics_df_2,\n",
    "                             title_principals_df[['tconst','ordering','nconst','category','job','characters']],\n",
    "                             on=['tconst','ordering'], how='left')"
   ]
  },
  {
   "cell_type": "code",
   "execution_count": 34,
   "id": "8d47600f",
   "metadata": {},
   "outputs": [
    {
     "data": {
      "text/plain": [
       "actor                  457411\n",
       "actress                293254\n",
       "self                   169424\n",
       "director               103963\n",
       "writer                  43929\n",
       "producer                32042\n",
       "composer                13102\n",
       "cinematographer         12437\n",
       "archive_footage         11115\n",
       "editor                   6239\n",
       "production_designer       642\n",
       "archive_sound             181\n",
       "Name: category, dtype: int64"
      ]
     },
     "execution_count": 34,
     "metadata": {},
     "output_type": "execute_result"
    }
   ],
   "source": [
    "title_basics_df_3['category'].value_counts()"
   ]
  },
  {
   "cell_type": "markdown",
   "id": "65d71307",
   "metadata": {},
   "source": [
    "#### Merging the name basics to get the titles an individual is known for. Left join because we do not want to loose the other important information "
   ]
  },
  {
   "cell_type": "code",
   "execution_count": 35,
   "id": "df963962",
   "metadata": {},
   "outputs": [],
   "source": [
    "title_basics_df_4 = pd.merge(title_basics_df_3,title_name_basics_df[['nconst','primaryName','primaryProfession','knownForTitles']],\n",
    "                             on='nconst', how='left')"
   ]
  },
  {
   "cell_type": "markdown",
   "id": "58fc1ada",
   "metadata": {},
   "source": [
    "#### Creating a final table with the variables thought to be of somewhat importance. Further we would use algos to decide on those variables which are actually significant "
   ]
  },
  {
   "cell_type": "code",
   "execution_count": 36,
   "id": "a8adaf83",
   "metadata": {},
   "outputs": [],
   "source": [
    "variables_df = title_basics_df_4[['tconst','directors','writers','titleType','primaryTitle','isAdult','startYear'\n",
    "                                 ,'runtimeMinutes','genres','category','job','primaryProfession','knownForTitles']]"
   ]
  },
  {
   "cell_type": "code",
   "execution_count": null,
   "id": "baabd6c3",
   "metadata": {},
   "outputs": [],
   "source": []
  },
  {
   "cell_type": "markdown",
   "id": "f15cae5c",
   "metadata": {},
   "source": [
    "### Target Variable "
   ]
  },
  {
   "cell_type": "code",
   "execution_count": 37,
   "id": "48050ba2",
   "metadata": {},
   "outputs": [],
   "source": [
    "df = pd.merge(variables_df,title_ratings_df,\n",
    "                             on='tconst', how='inner')"
   ]
  },
  {
   "cell_type": "code",
   "execution_count": 41,
   "id": "b322ec78",
   "metadata": {},
   "outputs": [],
   "source": [
    "df.to_csv('data.csv')"
   ]
  }
 ],
 "metadata": {
  "kernelspec": {
   "display_name": "Python 3 (ipykernel)",
   "language": "python",
   "name": "python3"
  },
  "language_info": {
   "codemirror_mode": {
    "name": "ipython",
    "version": 3
   },
   "file_extension": ".py",
   "mimetype": "text/x-python",
   "name": "python",
   "nbconvert_exporter": "python",
   "pygments_lexer": "ipython3",
   "version": "3.9.7"
  }
 },
 "nbformat": 4,
 "nbformat_minor": 5
}
